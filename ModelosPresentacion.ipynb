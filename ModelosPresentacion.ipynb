{
  "cells": [
    {
      "cell_type": "markdown",
      "metadata": {
        "id": "view-in-github",
        "colab_type": "text"
      },
      "source": [
        "<a href=\"https://colab.research.google.com/github/Nicolas-Nav/DeepLearning/blob/main/ModelosPresentacion.ipynb\" target=\"_parent\"><img src=\"https://colab.research.google.com/assets/colab-badge.svg\" alt=\"Open In Colab\"/></a>"
      ]
    },
    {
      "cell_type": "code",
      "source": [
        "!wget https://github.com/Nicolas-Nav/DeepLearning/raw/main/Modelos.zip\n",
        "!unzip Modelos.zip"
      ],
      "metadata": {
        "colab": {
          "base_uri": "https://localhost:8080/"
        },
        "id": "KmuTnb1f8FTx",
        "outputId": "9c6cc81f-e54f-4309-a6f6-4a10d8fe68e0"
      },
      "execution_count": 1,
      "outputs": [
        {
          "output_type": "stream",
          "name": "stdout",
          "text": [
            "--2025-04-21 06:07:25--  https://github.com/Nicolas-Nav/DeepLearning/raw/main/Modelos.zip\n",
            "Resolving github.com (github.com)... 140.82.116.3\n",
            "Connecting to github.com (github.com)|140.82.116.3|:443... connected.\n",
            "HTTP request sent, awaiting response... 302 Found\n",
            "Location: https://raw.githubusercontent.com/Nicolas-Nav/DeepLearning/main/Modelos.zip [following]\n",
            "--2025-04-21 06:07:25--  https://raw.githubusercontent.com/Nicolas-Nav/DeepLearning/main/Modelos.zip\n",
            "Resolving raw.githubusercontent.com (raw.githubusercontent.com)... 185.199.110.133, 185.199.111.133, 185.199.108.133, ...\n",
            "Connecting to raw.githubusercontent.com (raw.githubusercontent.com)|185.199.110.133|:443... connected.\n",
            "HTTP request sent, awaiting response... 200 OK\n",
            "Length: 8186722 (7.8M) [application/zip]\n",
            "Saving to: ‘Modelos.zip’\n",
            "\n",
            "Modelos.zip         100%[===================>]   7.81M  --.-KB/s    in 0.08s   \n",
            "\n",
            "2025-04-21 06:07:26 (97.4 MB/s) - ‘Modelos.zip’ saved [8186722/8186722]\n",
            "\n",
            "Archive:  Modelos.zip\n",
            "  inflating: modelo_mejor_sgd.keras  \n",
            "  inflating: modelo_mejor_adam.keras  \n"
          ]
        }
      ]
    },
    {
      "cell_type": "code",
      "source": [
        "!wget https://github.com/Nicolas-Nav/DeepLearning/raw/main/Numeros.zip\n",
        "!unzip Numeros.zip"
      ],
      "metadata": {
        "colab": {
          "base_uri": "https://localhost:8080/"
        },
        "id": "cr_MVnKO_Yrc",
        "outputId": "fa8d50cb-fcd2-4108-8f8c-6a5394393d8c"
      },
      "execution_count": 7,
      "outputs": [
        {
          "output_type": "stream",
          "name": "stdout",
          "text": [
            "--2025-04-21 06:16:35--  https://github.com/Nicolas-Nav/DeepLearning/raw/main/Numeros.zip\n",
            "Resolving github.com (github.com)... 140.82.116.4\n",
            "Connecting to github.com (github.com)|140.82.116.4|:443... connected.\n",
            "HTTP request sent, awaiting response... 302 Found\n",
            "Location: https://raw.githubusercontent.com/Nicolas-Nav/DeepLearning/main/Numeros.zip [following]\n",
            "--2025-04-21 06:16:35--  https://raw.githubusercontent.com/Nicolas-Nav/DeepLearning/main/Numeros.zip\n",
            "Resolving raw.githubusercontent.com (raw.githubusercontent.com)... 185.199.110.133, 185.199.108.133, 185.199.109.133, ...\n",
            "Connecting to raw.githubusercontent.com (raw.githubusercontent.com)|185.199.110.133|:443... connected.\n",
            "HTTP request sent, awaiting response... 200 OK\n",
            "Length: 2924 (2.9K) [application/zip]\n",
            "Saving to: ‘Numeros.zip’\n",
            "\n",
            "Numeros.zip         100%[===================>]   2.86K  --.-KB/s    in 0s      \n",
            "\n",
            "2025-04-21 06:16:35 (37.9 MB/s) - ‘Numeros.zip’ saved [2924/2924]\n",
            "\n",
            "Archive:  Numeros.zip\n",
            "  inflating: 6.png                   \n",
            "  inflating: 9.png                   \n",
            "  inflating: 4.png                   \n",
            "  inflating: 1.png                   \n"
          ]
        }
      ]
    },
    {
      "cell_type": "code",
      "source": [
        "import numpy as np\n",
        "from tensorflow.keras.models import load_model\n",
        "from PIL import Image\n",
        "\n",
        "\n",
        "modelo = load_model(\"modelo_mejor_adam.keras\")"
      ],
      "metadata": {
        "id": "l7Q8fre78-OR"
      },
      "execution_count": 13,
      "outputs": []
    },
    {
      "cell_type": "code",
      "source": [
        "imagen = Image.open(\"4.png\").convert(\"L\")\n",
        "imagen = imagen.resize((28, 28)) #Igual que la iamgen venga asi sino la corta y predice una img en blanco\n",
        "\n",
        "imagen = np.array(imagen)\n",
        "imagen = 255 - imagen #Invertir colores (fondo negro yblanco el numero)\n",
        "imagen = imagen / 255.0\n",
        "\n",
        "imagen = imagen.reshape(1, 784)\n",
        "\n",
        "prediccion = modelo.predict(imagen)\n",
        "clase = np.argmax(prediccion)\n",
        "\n",
        "print(f\"El modelo predice que es un: {clase}\")"
      ],
      "metadata": {
        "colab": {
          "base_uri": "https://localhost:8080/"
        },
        "id": "MU-Wl2wh9GZH",
        "outputId": "0fb1759e-a181-4388-f3e8-1319e2c8acc6"
      },
      "execution_count": 16,
      "outputs": [
        {
          "output_type": "stream",
          "name": "stdout",
          "text": [
            "\u001b[1m1/1\u001b[0m \u001b[32m━━━━━━━━━━━━━━━━━━━━\u001b[0m\u001b[37m\u001b[0m \u001b[1m0s\u001b[0m 37ms/step\n",
            "El modelo predice que es un: 4\n"
          ]
        }
      ]
    }
  ],
  "metadata": {
    "colab": {
      "provenance": [],
      "authorship_tag": "ABX9TyPas3U6PbCGH1WM1v8FGz3A",
      "include_colab_link": true
    },
    "kernelspec": {
      "display_name": "Python 3",
      "name": "python3"
    },
    "language_info": {
      "name": "python"
    }
  },
  "nbformat": 4,
  "nbformat_minor": 0
}