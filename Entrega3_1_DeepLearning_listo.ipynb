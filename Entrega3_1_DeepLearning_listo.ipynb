{
  "cells": [
    {
      "cell_type": "markdown",
      "metadata": {
        "id": "view-in-github",
        "colab_type": "text"
      },
      "source": [
        "<a href=\"https://colab.research.google.com/github/Nicolas-Nav/DeepLearning/blob/main/Entrega3_1_DeepLearning_listo.ipynb\" target=\"_parent\"><img src=\"https://colab.research.google.com/assets/colab-badge.svg\" alt=\"Open In Colab\"/></a>"
      ]
    },
    {
      "cell_type": "markdown",
      "metadata": {
        "id": "ZB243WMdW_qj"
      },
      "source": [
        "#Implementar una red neuronal recurrente"
      ]
    },
    {
      "cell_type": "markdown",
      "metadata": {
        "id": "xpBsVv4QXLDH"
      },
      "source": [
        "Autores: Nicolas Navarro y Gabriela Sandoval\n",
        "\n",
        "Correo Electrónico: ni.navarroa@duocuc.cl y gab.sandoval@duocuc.cl\n",
        "\n",
        "Fecha de creacion: Junio 2026\n",
        "\n",
        "Versión: 1.0"
      ]
    },
    {
      "cell_type": "markdown",
      "metadata": {
        "id": "W7ElakfmWkUK"
      },
      "source": [
        "El objetivo de este trabajo es explorar y evaluar diferentes arquitecturas de redes neuronales recurrentes para el modelado de texto, específicamente orientadas a predecir secuencias de caracteres en el contexto del texto Don Quijote de la Mancha. Se busca determinar qué configuración de red ofrece un mejor desempeño en términos de pérdida (loss), coherencia y capacidad de generalización, considerando distintas estrategias de diseño y ajuste de hiperparámetros.\n",
        "\n",
        "Para ello, se experimentó con modelos de tipo RNN y LSTM, comparando su rendimiento al ser entrenados carácter a carácter sobre secuencias codificadas mediante one-hot encoding. A lo largo del proceso, se aplicaron diferentes modificaciones en los modelos, como el uso de capas bidireccionales, ajustes en el tamaño del lote (batch size) y aplicación de técnicas de regularización como dropout, con el fin de observar su impacto en la pérdida y la calidad del texto generado. Además, se incorporó el uso de temperatura en la generación de texto para evaluar el comportamiento del modelo frente a diferentes niveles de aleatoriedad.\n",
        "\n",
        "A través de una comparación sistemática de los resultados, se busca identificar la arquitectura más adecuada para esta tarea de predicción de secuencias, justificando las decisiones tomadas con base en el análisis de las métricas obtenidas."
      ]
    },
    {
      "cell_type": "markdown",
      "metadata": {
        "id": "IkDxRYaRpAok"
      },
      "source": [
        "##RNN vs LSTM"
      ]
    },
    {
      "cell_type": "markdown",
      "metadata": {
        "id": "r4x8n8c3pCGS"
      },
      "source": [
        "Una RNN (Red Neuronal Recurrente) es un tipo de red diseñada para procesar datos secuenciales, como texto o series temporales, permitiendo que la información se propague de un paso de tiempo al siguiente a través de una \"memoria interna\". Sin embargo, al entrenar RNN tradicionales, se enfrentan al problema del desvanecimiento del gradiente, lo que hace que olviden información a medida que la secuencia se alarga. Para resolver esto, se introdujo la LSTM (Long Short-Term Memory), una variante de RNN que regulan el flujo de información y permiten conservar datos relevantes durante más tiempo. La principal diferencia entre una RNN y una LSTM radica en su capacidad para manejar dependencias a largo plazo: mientras que las RNN simples tienden a olvidar rápidamente la información debido al problema del desvanecimiento del gradiente, las LSTM incorporan una arquitectura más compleja con puertas de entrada, olvido y salida que controlan el flujo de información dentro de una celda de memoria. Esto les permite retener información relevante por períodos mucho más largos. Por esta razón, las LSTM son generalmente mejores que las RNN tradicionales en tareas como el modelado de lenguaje, traducción automática o cualquier secuencia donde el contexto a largo plazo sea crucial."
      ]
    },
    {
      "cell_type": "markdown",
      "metadata": {
        "id": "oW1juUR2YwcW"
      },
      "source": [
        "## 0. Importaciones y funciones"
      ]
    },
    {
      "cell_type": "markdown",
      "metadata": {
        "id": "xFTgvqKwYusC"
      },
      "source": [
        "Antes de iniciar con la construcción y entrenamiento del modelo, es necesario importar las librerías que permitirán realizar el procesamiento de datos, la definición de redes neuronales, el entrenamiento y la visualización de resultados."
      ]
    },
    {
      "cell_type": "code",
      "execution_count": null,
      "metadata": {
        "id": "a2_zRexws7VA"
      },
      "outputs": [],
      "source": [
        "import numpy as np\n",
        "import keras\n",
        "import random\n",
        "import matplotlib.pyplot as plt\n",
        "import unicodedata\n",
        "import tensorflow as tf\n",
        "import pandas as pd\n",
        "import matplotlib.pyplot as plt\n",
        "from tensorflow.keras.layers import Bidirectional"
      ]
    },
    {
      "cell_type": "markdown",
      "metadata": {
        "id": "WU8iIwYoY997"
      },
      "source": [
        "A continuación, se define una función que permite visualizar el comportamiento del modelo durante el entrenamiento. Esta herramienta gráfica facilita el análisis de la pérdida (loss) a lo largo de las épocas."
      ]
    },
    {
      "cell_type": "code",
      "execution_count": null,
      "metadata": {
        "id": "z_FEPMoHqveL"
      },
      "outputs": [],
      "source": [
        "def graficar_historial_entrenamiento(hist):\n",
        "    \"\"\"\n",
        "    Grafica la pérdida y la precisión del entrenamiento y validación a lo largo de las épocas.\n",
        "\n",
        "    Parámetros:\n",
        "    hist -- Objeto History devuelto por el método fit() de un modelo Keras.\n",
        "\n",
        "    ###Dejo el comentario igual como lo hace la profe en sus notes\n",
        "    \"\"\"\n",
        "    fig, axs = plt.subplots(1, 2, figsize=(14, 6))\n",
        "    epocas = range(1, len(hist.history['loss']) + 1)\n",
        "\n",
        "    axs[0].plot(epocas, hist.history['loss'], label=\"train\")\n",
        "    axs[0].set_title('Pérdida', fontsize=14, fontweight=\"bold\")\n",
        "    axs[0].set_xlabel('Época', fontsize=12, fontweight=\"bold\")\n",
        "    axs[0].legend()\n",
        "\n",
        "    plt.tight_layout()\n",
        "    plt.show()\n"
      ]
    },
    {
      "cell_type": "markdown",
      "metadata": {
        "id": "w9yjKThUZNta"
      },
      "source": [
        "Para evaluar cuál de los modelos entrenados ofrece un mejor rendimiento, se define una función que permite comparar, a través de gráficos de barra, la pérdida (loss) entre las distintas configuraciones. Esto es útil para tomar decisiones informadas sobre cuál arquitectura o ajuste de hiperparámetros produce mejores resultados, según esta métrica."
      ]
    },
    {
      "cell_type": "code",
      "execution_count": null,
      "metadata": {
        "id": "d5kPHBUsrUDZ"
      },
      "outputs": [],
      "source": [
        "def graficar_comparacion_modelos(historiales, nombres_modelos):\n",
        "    \"\"\"\n",
        "    Crea un gráfico de barras comparando métricas finales (accuracy, val_accuracy, loss, val_loss) de varios modelos.\n",
        "\n",
        "    Parámetros:\n",
        "    historiales -- Lista de objetos history (dict o hist.history de Keras).\n",
        "    nombres_modelos -- Lista de nombres que identifican a cada modelo (str), en el mismo orden que los historiales.\n",
        "    \"\"\"\n",
        "    if len(historiales) != len(nombres_modelos):\n",
        "        raise ValueError(\"Las listas de historiales y nombres de modelos deben tener la misma longitud.\")\n",
        "\n",
        "    metricas = ['loss']\n",
        "    nombres_metricas = ['Loss']\n",
        "\n",
        "    data = {'Métrica': nombres_metricas}\n",
        "\n",
        "    for nombre, hist in zip(nombres_modelos, historiales):\n",
        "        valores = [hist[m][-1] if m in hist else None for m in metricas]\n",
        "        data[nombre] = valores\n",
        "\n",
        "    df_comparacion = pd.DataFrame(data)\n",
        "\n",
        "    # Configuración del gráfico\n",
        "    plt.figure(figsize=(18, 6))\n",
        "    bar_width = 0.8 / len(nombres_modelos)\n",
        "    index = range(len(nombres_metricas))\n",
        "\n",
        "    # Dibujar las barras para cada modelo\n",
        "    for i, nombre in enumerate(nombres_modelos):\n",
        "        posiciones = [j + (i - len(nombres_modelos)/2) * bar_width + bar_width/2 for j in index]\n",
        "        barras = plt.bar(posiciones, df_comparacion[nombre], bar_width, label=nombre)\n",
        "        for bar in barras:\n",
        "            height = bar.get_height()\n",
        "            if height is not None:\n",
        "                plt.text(bar.get_x() + bar.get_width() / 2, height, f'{height:.4f}', ha='center', va='bottom', fontsize=8)\n",
        "\n",
        "    # Etiquetas y título\n",
        "    plt.xlabel('Métrica')\n",
        "    plt.ylabel('Valor')\n",
        "    plt.title('Comparación de Métricas entre Modelos')\n",
        "    plt.xticks(index, nombres_metricas, rotation=45)\n",
        "    plt.legend(title='Modelos', bbox_to_anchor=(1.05, 1), loc='upper left')\n",
        "    plt.tight_layout()\n",
        "    plt.show()\n",
        "\n",
        "    return df_comparacion"
      ]
    },
    {
      "cell_type": "code",
      "execution_count": null,
      "metadata": {
        "id": "kHXpIzsGrczp"
      },
      "outputs": [],
      "source": [
        "def metricas(history):\n",
        "    return {\n",
        "        'Train Loss': f\"{history.history['loss'][-1]:.4f}\",\n",
        "    }"
      ]
    },
    {
      "cell_type": "markdown",
      "metadata": {
        "id": "YrDUBqIUYvJq"
      },
      "source": [
        "## 1. Carga y procesado del texto"
      ]
    },
    {
      "cell_type": "markdown",
      "metadata": {
        "id": "Le18XC0EY95s"
      },
      "source": [
        "Primero, vamos a descargar el libro e inspeccionar los datos. El fichero a descargar es una versión en .txt del libro de Don Quijote, a la cual se le han borrado introducciones, licencias y otras secciones para dejarlo con el contenido real de la novela."
      ]
    },
    {
      "cell_type": "code",
      "execution_count": null,
      "metadata": {
        "colab": {
          "base_uri": "https://localhost:8080/"
        },
        "id": "8WIfCPQFYuX9",
        "outputId": "c4fef4bc-a50a-4fa8-88ff-b4fbbca26545"
      },
      "outputs": [
        {
          "name": "stdout",
          "output_type": "stream",
          "text": [
            "Downloading data from  https://raw.githubusercontent.com/JaznaLaProfe/Deep-Learning/main/textos/Don_Quijote_de_la_Mancha.txt\n",
            "\u001b[1m2151176/2151176\u001b[0m \u001b[32m━━━━━━━━━━━━━━━━━━━━\u001b[0m\u001b[37m\u001b[0m \u001b[1m0s\u001b[0m 0us/step\n"
          ]
        }
      ],
      "source": [
        "path = keras.utils.get_file(\n",
        "    fname=\"don_quijote.txt\",\n",
        "    origin=\" https://raw.githubusercontent.com/JaznaLaProfe/Deep-Learning/main/textos/Don_Quijote_de_la_Mancha.txt\"\n",
        ")"
      ]
    },
    {
      "cell_type": "markdown",
      "metadata": {
        "id": "_0WeTfY5Y7y6"
      },
      "source": [
        "Una vez descargado, vamos a leer el contenido del fichero en una variable. Adicionalmente en el preprocesamiento, convertiremos el contenido del texto a minúsculas para ponérselo un poco más fácil a nuestro modelo, ademas de retirar simbolos especiales y dejar las letras con tilde o similiar a su version normal (de modo que todas las letras sean menos demandantes y el modelo no necesite diferenciar entre minúsculas y mayúsculas o variantes de estas letras)."
      ]
    },
    {
      "cell_type": "code",
      "execution_count": null,
      "metadata": {
        "colab": {
          "base_uri": "https://localhost:8080/"
        },
        "id": "dK7rEoKNW75x",
        "outputId": "f957ce48-cb19-489a-fb3a-41803dddcca3"
      },
      "outputs": [
        {
          "name": "stdout",
          "output_type": "stream",
          "text": [
            "Longitud del texto: 2071198\n",
            "Capítulo primero. Que trata de la condición y ejercicio del famoso hidalgo\n",
            "don Quijote de la Mancha\n",
            "\n",
            "\n",
            "En un lugar de la Mancha, de cuyo nombre no quiero acordarme, no ha mucho\n",
            "tiempo que vivía un hidalgo de los de lanza en astillero, adarga antigua,\n",
            "rocín flaco y galgo corredor. Una olla de algo más vaca que carnero,\n",
            "salpicón las más noches, duelos y quebrantos los sábados, lantejas los\n",
            "viernes, algún palomino de añadidura los domingos, consumían las tres\n",
            "partes de su hacienda. El resto della co\n"
          ]
        }
      ],
      "source": [
        "# Abrir y leer el contenido\n",
        "with open(path, 'r', encoding='utf-8') as f:\n",
        "    texto = f.read()\n",
        "\n",
        "print(\"Longitud del texto: {}\".format(len(texto)))\n",
        "\n",
        "# Mostrar los primeros 500 caracteres (por ejemplo)\n",
        "print(texto[:500])"
      ]
    },
    {
      "cell_type": "markdown",
      "metadata": {
        "id": "3357my-AZ79C"
      },
      "source": [
        "Con esto, ya contamos con el texto limpio y completo de Don Quijote de la Mancha, listo para ser procesado. Esta etapa de carga y limpieza básica nos permite trabajar con una versión más uniforme del texto, lo que facilitará la tarea del modelo al aprender patrones lingüísticos sin distracciones causadas por diferencias de mayúsculas, tildes o símbolos especiales"
      ]
    },
    {
      "cell_type": "markdown",
      "metadata": {
        "id": "27LlBmPRZ2fP"
      },
      "source": [
        "##Modelo 1 - Carácter a carácter"
      ]
    },
    {
      "cell_type": "markdown",
      "metadata": {
        "id": "YL1QwRVTR1R4"
      },
      "source": [
        "En el procesamiento de lenguaje natural (NLP), existen distintas estrategias para representar y analizar texto. Dos enfoques comunes son el modelo palabra a palabra y el modelo carácter a carácter. Mientras que el primero trabaja con unidades completas de significado (las palabras), el segundo se enfoca en el texto como una secuencia continua de caracteres, incluyendo letras, signos de puntuación y espacios.\n",
        "\n",
        "El modelo palabra a palabra trabaja directamente con unidades léxicas completas (palabras), lo cual puede ser útil cuando se busca entender el significado general del texto o realizar tareas como análisis de sentimiento, traducción o clasificación. Sin embargo, presenta limitaciones importantes: requiere un vocabulario extenso, no maneja bien errores ortográficos o palabras desconocidas, y su rendimiento disminuye frente a variaciones poco comunes.\n",
        "\n",
        "Por el contrario, el enfoque carácter a carácter permite al modelo aprender estructuras internas del idioma a un nivel más granular, identificando patrones de escritura, ortografía y estilo. Aunque no entiende el significado completo de las frases, es especialmente útil en tareas prácticas como: Sistemas de autocompletado de palabras, correcciones ortográfica automáticas o predicciones de texto en tiempo real (como asistentes de escritura)\n",
        "\n",
        "En este trabajo se optó por un modelo carácter a carácter debido a su capacidad para generar texto continuo sin depender de un vocabulario predefinido. Esto resulta especialmente conveniente cuando se trabaja con un corpus como Don Quijote de la Mancha, que contiene estructuras de lenguaje antiguas, ortografía menos común y una gran variedad de expresiones."
      ]
    },
    {
      "cell_type": "markdown",
      "metadata": {
        "id": "PG1V6wnbaEXK"
      },
      "source": [
        "Antes de entrenar el modelo, es importante explorar el conjunto de caracteres presentes en el texto. Esto nos permitirá entender la variedad de símbolos con los que trabajaremos y preparar adecuadamente el vocabulario necesario para los siguientes pasos. El siguiente bloque de código permite identificar y contar todos los caracteres únicos del texto, organizándolos alfabéticamente y asignando un índice a cada uno."
      ]
    },
    {
      "cell_type": "code",
      "execution_count": null,
      "metadata": {
        "colab": {
          "base_uri": "https://localhost:8080/"
        },
        "id": "V3vNlsIUZ1nA",
        "outputId": "64f90f87-a8e7-43d4-d1e3-eec4a899c565"
      },
      "outputs": [
        {
          "name": "stdout",
          "output_type": "stream",
          "text": [
            "Tamaño del vocabulario: 90\n",
            "{'\\n': 0, ' ': 1, '!': 2, '\"': 3, \"'\": 4, '(': 5, ')': 6, ',': 7, '-': 8, '.': 9, '0': 10, '1': 11, '2': 12, '3': 13, '4': 14, '5': 15, '6': 16, '7': 17, ':': 18, ';': 19, '?': 20, 'A': 21, 'B': 22, 'C': 23, 'D': 24, 'E': 25, 'F': 26, 'G': 27, 'H': 28, 'I': 29, 'J': 30, 'L': 31, 'M': 32, 'N': 33, 'O': 34, 'P': 35, 'Q': 36, 'R': 37, 'S': 38, 'T': 39, 'U': 40, 'V': 41, 'W': 42, 'X': 43, 'Y': 44, 'Z': 45, ']': 46, 'a': 47, 'b': 48, 'c': 49, 'd': 50, 'e': 51, 'f': 52, 'g': 53, 'h': 54, 'i': 55, 'j': 56, 'l': 57, 'm': 58, 'n': 59, 'o': 60, 'p': 61, 'q': 62, 'r': 63, 's': 64, 't': 65, 'u': 66, 'v': 67, 'x': 68, 'y': 69, 'z': 70, '¡': 71, '«': 72, '»': 73, '¿': 74, 'Á': 75, 'É': 76, 'Í': 77, 'Ó': 78, 'Ú': 79, 'à': 80, 'á': 81, 'é': 82, 'í': 83, 'ï': 84, 'ñ': 85, 'ó': 86, 'ù': 87, 'ú': 88, 'ü': 89}\n"
          ]
        }
      ],
      "source": [
        "a = sorted(list(set((texto))))\n",
        "b = dict((c, i) for i, c in enumerate(a))\n",
        "tamaño = len(a)\n",
        "print(\"Tamaño del vocabulario:\", tamaño)\n",
        "print(b)"
      ]
    },
    {
      "cell_type": "markdown",
      "metadata": {
        "id": "DWDz558GaRlS"
      },
      "source": [
        "Con esta información es posible identificar los caracteres especiales que deben ser eliminados, así como reemplazar letras con tilde por sus versiones sin tilde. También se puede decidir eliminar saltos de línea y convertir todo el texto a minúsculas, con el objetivo de simplificar el vocabulario y facilitar el aprendizaje del modelo."
      ]
    },
    {
      "cell_type": "markdown",
      "metadata": {
        "id": "myXzWIPebHbm"
      },
      "source": [
        "###Procesado de los datos"
      ]
    },
    {
      "cell_type": "markdown",
      "metadata": {
        "id": "o2AMsYJzgcn2"
      },
      "source": [
        "Una vez identificado el vocabulario, es necesario limpiar y normalizar el texto para facilitar el aprendizaje del modelo. Esto implica eliminar saltos de línea, convertir todo el texto a minúsculas y aplicar una técnica conocida como normalización de caracteres. Esta técnica permite reemplazar las letras con tilde por sus versiones sin tilde, unificando el vocabulario y evitando duplicidades innecesarias. Además, se eliminan símbolos especiales, dejando solo letras, números y espacios. El resultado es un texto limpio, uniforme y adecuado para la codificación y entrenamiento de modelos secuenciales."
      ]
    },
    {
      "cell_type": "code",
      "execution_count": null,
      "metadata": {
        "colab": {
          "base_uri": "https://localhost:8080/"
        },
        "id": "ICOW4N9KaPky",
        "outputId": "bc7a8241-77cb-4ff6-8b16-d6a78bad7aac"
      },
      "outputs": [
        {
          "name": "stdout",
          "output_type": "stream",
          "text": [
            "capitulo primero que trata de la condicion y ejercicio del famoso hidalgo don quijote de la mancha   en un lugar de la mancha de cuyo nombre no quiero acordarme no ha mucho tiempo que vivia un hidalgo de los de lanza en astillero adarga antigua rocin flaco y galgo corredor una olla de algo mas vaca \n"
          ]
        }
      ],
      "source": [
        "def preprocesar(txt):\n",
        "    txt = txt.replace(\"\\n\", \" \")\n",
        "    txt = txt.lower()\n",
        "    normalized = unicodedata.normalize('NFKD', txt)\n",
        "    cleaned = []\n",
        "    for c in normalized:\n",
        "        if unicodedata.combining(c):\n",
        "            continue\n",
        "        if c.isalnum() or c.isspace():\n",
        "            cleaned.append(c)\n",
        "        else:\n",
        "            cleaned.append('')\n",
        "\n",
        "    cleaned_text = ''.join(cleaned)\n",
        "\n",
        "    return cleaned_text\n",
        "\n",
        "txt = preprocesar(texto)\n",
        "print(txt[0:300])"
      ]
    },
    {
      "cell_type": "markdown",
      "metadata": {
        "id": "9sAv2Cetgf8o"
      },
      "source": [
        "Este bloque crea un vocabulario del texto, identificando todos los caracteres únicos y asignando a cada uno un índice numérico. Esto permitirá codificar el texto en una forma que el modelo pueda entender. Se muestra también el tamaño total del vocabulario."
      ]
    },
    {
      "cell_type": "code",
      "execution_count": null,
      "metadata": {
        "colab": {
          "base_uri": "https://localhost:8080/"
        },
        "id": "xGv1CfA3aYIg",
        "outputId": "ce0aa74a-8284-4de6-d771-b99ebc5a0847"
      },
      "outputs": [
        {
          "name": "stdout",
          "output_type": "stream",
          "text": [
            "Tamaño del vocabulario: 34\n",
            "{' ': 0, '0': 1, '1': 2, '2': 3, '3': 4, '4': 5, '5': 6, '6': 7, '7': 8, 'a': 9, 'b': 10, 'c': 11, 'd': 12, 'e': 13, 'f': 14, 'g': 15, 'h': 16, 'i': 17, 'j': 18, 'l': 19, 'm': 20, 'n': 21, 'o': 22, 'p': 23, 'q': 24, 'r': 25, 's': 26, 't': 27, 'u': 28, 'v': 29, 'w': 30, 'x': 31, 'y': 32, 'z': 33}\n"
          ]
        }
      ],
      "source": [
        "caracteres = sorted(list(set(txt)))\n",
        "caracteres_indices = dict((c, i) for i, c in enumerate(caracteres))\n",
        "print(\"Tamaño del vocabulario:\",len(caracteres_indices))\n",
        "print(caracteres_indices)"
      ]
    },
    {
      "cell_type": "markdown",
      "metadata": {
        "id": "ze9XC5olgohF"
      },
      "source": [
        "Este código crea un diccionario inverso que mapea los índices numéricos de vuelta a sus caracteres originales. Esto es útil para poder interpretar o decodificar las predicciones del modelo, que trabajará con índices, y transformarlas nuevamente en caracteres legibles. Así, después del entrenamiento, podremos convertir las salidas numéricas del modelo en texto comprensible. También se muestra el tamaño del vocabulario para confirmar que coincide con el número de caracteres únicos identificados."
      ]
    },
    {
      "cell_type": "code",
      "execution_count": null,
      "metadata": {
        "colab": {
          "base_uri": "https://localhost:8080/"
        },
        "id": "kE2WNjDDaaB1",
        "outputId": "41f5851c-76a9-47c2-b94d-c582eb3019dd"
      },
      "outputs": [
        {
          "name": "stdout",
          "output_type": "stream",
          "text": [
            "Tamaño del vocabulario: 34\n",
            "{0: ' ', 1: '0', 2: '1', 3: '2', 4: '3', 5: '4', 6: '5', 7: '6', 8: '7', 9: 'a', 10: 'b', 11: 'c', 12: 'd', 13: 'e', 14: 'f', 15: 'g', 16: 'h', 17: 'i', 18: 'j', 19: 'l', 20: 'm', 21: 'n', 22: 'o', 23: 'p', 24: 'q', 25: 'r', 26: 's', 27: 't', 28: 'u', 29: 'v', 30: 'w', 31: 'x', 32: 'y', 33: 'z'}\n"
          ]
        }
      ],
      "source": [
        "#Diccionario reverso de índices a caracteres\n",
        "indices_caracter = dict((i, c) for i, c in enumerate(caracteres))\n",
        "indices_caracter\n",
        "tamaño = len(indices_caracter)\n",
        "print(\"Tamaño del vocabulario:\",len(indices_caracter))\n",
        "print(indices_caracter)"
      ]
    },
    {
      "cell_type": "markdown",
      "metadata": {
        "id": "W9RJ7F9xaeGu"
      },
      "source": [
        "Este código divide el texto en fragmentos o secuencias de longitud fija (en este caso, 30 caracteres). Por cada secuencia, también se guarda el carácter que sigue inmediatamente después, que será la \"respuesta\" que el modelo debe aprender a predecir. Esta preparación es fundamental para entrenar modelos de lenguaje carácter a carácter, ya que permite que el modelo aprenda a anticipar el siguiente carácter en función de un fragmento de texto previo. Se imprime además el total de secuencias generadas y algunos ejemplos para ilustrar cómo se estructuran los datos."
      ]
    },
    {
      "cell_type": "code",
      "execution_count": null,
      "metadata": {
        "colab": {
          "base_uri": "https://localhost:8080/"
        },
        "id": "sEKmVmjdafuS",
        "outputId": "3a6884d5-6b53-4ea1-fc73-a72709012063"
      },
      "outputs": [
        {
          "name": "stdout",
          "output_type": "stream",
          "text": [
            "Número total de secuencias: 2005103\n",
            "Secuencia: capitulo primero que trata de   →  Siguiente: l\n",
            "Secuencia: apitulo primero que trata de l  →  Siguiente: a\n",
            "Secuencia: pitulo primero que trata de la  →  Siguiente:  \n",
            "Secuencia: itulo primero que trata de la   →  Siguiente: c\n",
            "Secuencia: tulo primero que trata de la c  →  Siguiente: o\n"
          ]
        }
      ],
      "source": [
        "# Definimos el tamaño de las secuencias\n",
        "SEQ_LENGTH = 30\n",
        "\n",
        "sequences = []\n",
        "next_chars = []\n",
        "\n",
        "## TU CÓDIGO AQUÍ\n",
        "for i in range(0, len(txt) - SEQ_LENGTH):\n",
        "    seq = txt[i: i + SEQ_LENGTH]\n",
        "    next_char = txt[i + SEQ_LENGTH]\n",
        "    sequences.append(seq)\n",
        "    next_chars.append(next_char)\n",
        "\n",
        "print(\"Número total de secuencias:\", len(sequences))\n",
        "for i in range(5):\n",
        "    print(f\"Secuencia: {sequences[i]}  →  Siguiente: {next_chars[i]}\")"
      ]
    },
    {
      "cell_type": "markdown",
      "metadata": {
        "id": "H7p2EN_shSqt"
      },
      "source": [
        "Ejemplo de secuencias generadas para el entrenamiento del modelo carácter a carácter, donde cada secuencia de texto se asocia con el siguiente carácter a predecir."
      ]
    },
    {
      "cell_type": "markdown",
      "metadata": {
        "id": "AolrHMdmamvv"
      },
      "source": [
        "Este código imprime el tamaño total del conjunto de entrenamiento, es decir, la cantidad de secuencias de texto generadas que se usarán para entrenar el modelo. Este dato es importante para entender la magnitud de los datos con los que el modelo aprenderá a predecir el siguiente carácter en la secuencia."
      ]
    },
    {
      "cell_type": "code",
      "execution_count": null,
      "metadata": {
        "colab": {
          "base_uri": "https://localhost:8080/"
        },
        "id": "bHpNmQA5akBr",
        "outputId": "e5d2e862-7162-44fa-d312-8754242395f2"
      },
      "outputs": [
        {
          "name": "stdout",
          "output_type": "stream",
          "text": [
            "Tamaño del training set: 2005103\n"
          ]
        }
      ],
      "source": [
        "print(\"Tamaño del training set:\", len(sequences))"
      ]
    },
    {
      "cell_type": "markdown",
      "metadata": {
        "id": "DvCOVR2-apao"
      },
      "source": [
        "Dado que el texto del Quijote es muy extenso y genera una gran cantidad de secuencias para entrenamiento, es posible que el manejo de todos estos datos cause problemas de memoria durante el proceso. Para evitar esto, seleccionamos aleatoriamente un subconjunto limitado de secuencias, estableciendo un máximo que se ajusta a la capacidad del sistema. Esta reducción permite entrenar el modelo de manera más eficiente, aunque hay que tener en cuenta que usar menos datos puede afectar la calidad final del modelo."
      ]
    },
    {
      "cell_type": "code",
      "execution_count": null,
      "metadata": {
        "colab": {
          "base_uri": "https://localhost:8080/"
        },
        "id": "ECk2BHaPaohx",
        "outputId": "625c1015-a8c8-45be-9c48-d505c6b44158"
      },
      "outputs": [
        {
          "name": "stdout",
          "output_type": "stream",
          "text": [
            "Nuevo tamaño del training set: 500000\n"
          ]
        }
      ],
      "source": [
        "MAX_SEQUENCES = 500000\n",
        "\n",
        "perm = np.random.permutation(len(sequences))\n",
        "sequences, next_chars = np.array(sequences), np.array(next_chars)\n",
        "sequences, next_chars = sequences[perm], next_chars[perm]\n",
        "sequences, next_chars = list(sequences[:MAX_SEQUENCES]), list(next_chars[:MAX_SEQUENCES])\n",
        "\n",
        "print(\"Nuevo tamaño del training set:\",len(sequences))"
      ]
    },
    {
      "cell_type": "markdown",
      "metadata": {
        "id": "aVeamPXyazs5"
      },
      "source": [
        "En esta sección, se realiza la codificación one-hot de las secuencias de caracteres y sus correspondientes etiquetas. Esto significa que cada carácter de cada secuencia se representa como un vector binario donde solo la posición correspondiente al carácter es 1 y el resto 0. De esta forma, se transforma el texto en una matriz numérica que puede ser procesada por la red neuronal. El conjunto X contiene las secuencias de entrada, mientras que y contiene los caracteres objetivo que el modelo debe predecir, ambos codificados en formato one-hot para facilitar el aprendizaje."
      ]
    },
    {
      "cell_type": "code",
      "execution_count": null,
      "metadata": {
        "id": "uV00ARYhaywY"
      },
      "outputs": [],
      "source": [
        "NUM_CHARS = len(caracteres_indices) # Tu número de caracteres distintos aquí\n",
        "NUM_SEQUENCES = len(sequences)\n",
        "X = np.zeros((NUM_SEQUENCES, SEQ_LENGTH, NUM_CHARS))\n",
        "y = np.zeros((NUM_SEQUENCES, NUM_CHARS))\n",
        "\n",
        "## Tu código para rellenar X e y aquí. Pista: utilizar el diccionario de\n",
        "## chars a índices obtenido anteriormente junto con numpy. Por ejemplo,\n",
        "## si hacemos\n",
        "##     X[0, 1, char_to_indices['a']] = 1\n",
        "## estamos diciendo que para la segunda posición de la primera secuencia se\n",
        "## tiene una 'a'\n",
        "\n",
        "## TU CÓDIGO AQUÍ\n",
        "for i, seq in enumerate(sequences):\n",
        "    for t, char in enumerate(seq):\n",
        "        X[i, t, caracteres_indices[char]] = 1  #pasar a one-hot\n",
        "    y[i, caracteres_indices[next_chars[i]]] = 1  #el siguiente caracter"
      ]
    },
    {
      "cell_type": "markdown",
      "metadata": {
        "id": "opXRp5tci4_8"
      },
      "source": [
        "En esta etapa se define el modelo que se entrenará para predecir el siguiente carácter en una secuencia de texto. El modelo es una red neuronal secuencial que comienza con una capa de entrada que recibe secuencias codificadas en formato one-hot, con una longitud fija (seq_length) y un tamaño de vocabulario (vocab_size).\n",
        "\n",
        "A continuación, se agrega una capa LSTM con 128 unidades, que es la encargada de capturar las relaciones temporales y dependencias entre los caracteres a lo largo de la secuencia. Finalmente, una capa densa con activación softmax que genera una distribución de probabilidad sobre todos los caracteres del vocabulario, prediciendo cuál es el siguiente carácter más probable en la secuencia.\n",
        "\n",
        "El modelo se compila con la función de pérdida categorical_crossentropy, adecuada para tareas de clasificación multiclase con etiquetas one-hot, y utiliza el optimizador Adam para optimizar el aprendizaje.\n",
        "\n",
        "Para entrenar el modelo, se utilizan secuencias de entrada y etiquetas correspondientes, con un tamaño de lote (batch size) de 128 y un total de 100 épocas, guardando el historial del entrenamiento en la variable para análisis posterior. Este proceso permite que la red aprenda patrones secuenciales en el texto, mejorando progresivamente su capacidad para predecir caracteres."
      ]
    },
    {
      "cell_type": "code",
      "execution_count": null,
      "metadata": {
        "id": "zL8aySxua6Zu"
      },
      "outputs": [],
      "source": [
        "def crear_modelo(seq_length, vocab_size, model_name):\n",
        "    input_len = seq_length\n",
        "    model = tf.keras.models.Sequential(name=model_name)\n",
        "    model.add(tf.keras.layers.Input(shape=(input_len, vocab_size), name=\"Entrada\"))\n",
        "    model.add(tf.keras.layers.LSTM(128, name=\"CapaLSTM\"))\n",
        "    model.add(tf.keras.layers.Dense(vocab_size, activation='softmax', name=\"Salida\"))\n",
        "    model.compile(loss='categorical_crossentropy', optimizer='adam')\n",
        "    return model"
      ]
    },
    {
      "cell_type": "code",
      "execution_count": null,
      "metadata": {
        "colab": {
          "base_uri": "https://localhost:8080/",
          "height": 193
        },
        "id": "e6kN0sJ_bu8B",
        "outputId": "6de152d1-349c-4c3f-ff8f-f8dc744c749c"
      },
      "outputs": [
        {
          "data": {
            "text/html": [
              "<pre style=\"white-space:pre;overflow-x:auto;line-height:normal;font-family:Menlo,'DejaVu Sans Mono',consolas,'Courier New',monospace\"><span style=\"font-weight: bold\">Model: \"Base\"</span>\n",
              "</pre>\n"
            ],
            "text/plain": [
              "\u001b[1mModel: \"Base\"\u001b[0m\n"
            ]
          },
          "metadata": {},
          "output_type": "display_data"
        },
        {
          "data": {
            "text/html": [
              "<pre style=\"white-space:pre;overflow-x:auto;line-height:normal;font-family:Menlo,'DejaVu Sans Mono',consolas,'Courier New',monospace\">┏━━━━━━━━━━━━━━━━━━━━━━━━━━━━━━━━━┳━━━━━━━━━━━━━━━━━━━━━━━━┳━━━━━━━━━━━━━━━┓\n",
              "┃<span style=\"font-weight: bold\"> Layer (type)                    </span>┃<span style=\"font-weight: bold\"> Output Shape           </span>┃<span style=\"font-weight: bold\">       Param # </span>┃\n",
              "┡━━━━━━━━━━━━━━━━━━━━━━━━━━━━━━━━━╇━━━━━━━━━━━━━━━━━━━━━━━━╇━━━━━━━━━━━━━━━┩\n",
              "│ CapaLSTM (<span style=\"color: #0087ff; text-decoration-color: #0087ff\">LSTM</span>)                 │ (<span style=\"color: #00d7ff; text-decoration-color: #00d7ff\">None</span>, <span style=\"color: #00af00; text-decoration-color: #00af00\">128</span>)            │        <span style=\"color: #00af00; text-decoration-color: #00af00\">83,456</span> │\n",
              "├─────────────────────────────────┼────────────────────────┼───────────────┤\n",
              "│ Densa (<span style=\"color: #0087ff; text-decoration-color: #0087ff\">Dense</span>)                   │ (<span style=\"color: #00d7ff; text-decoration-color: #00d7ff\">None</span>, <span style=\"color: #00af00; text-decoration-color: #00af00\">34</span>)             │         <span style=\"color: #00af00; text-decoration-color: #00af00\">4,386</span> │\n",
              "└─────────────────────────────────┴────────────────────────┴───────────────┘\n",
              "</pre>\n"
            ],
            "text/plain": [
              "┏━━━━━━━━━━━━━━━━━━━━━━━━━━━━━━━━━┳━━━━━━━━━━━━━━━━━━━━━━━━┳━━━━━━━━━━━━━━━┓\n",
              "┃\u001b[1m \u001b[0m\u001b[1mLayer (type)                   \u001b[0m\u001b[1m \u001b[0m┃\u001b[1m \u001b[0m\u001b[1mOutput Shape          \u001b[0m\u001b[1m \u001b[0m┃\u001b[1m \u001b[0m\u001b[1m      Param #\u001b[0m\u001b[1m \u001b[0m┃\n",
              "┡━━━━━━━━━━━━━━━━━━━━━━━━━━━━━━━━━╇━━━━━━━━━━━━━━━━━━━━━━━━╇━━━━━━━━━━━━━━━┩\n",
              "│ CapaLSTM (\u001b[38;5;33mLSTM\u001b[0m)                 │ (\u001b[38;5;45mNone\u001b[0m, \u001b[38;5;34m128\u001b[0m)            │        \u001b[38;5;34m83,456\u001b[0m │\n",
              "├─────────────────────────────────┼────────────────────────┼───────────────┤\n",
              "│ Densa (\u001b[38;5;33mDense\u001b[0m)                   │ (\u001b[38;5;45mNone\u001b[0m, \u001b[38;5;34m34\u001b[0m)             │         \u001b[38;5;34m4,386\u001b[0m │\n",
              "└─────────────────────────────────┴────────────────────────┴───────────────┘\n"
            ]
          },
          "metadata": {},
          "output_type": "display_data"
        },
        {
          "data": {
            "text/html": [
              "<pre style=\"white-space:pre;overflow-x:auto;line-height:normal;font-family:Menlo,'DejaVu Sans Mono',consolas,'Courier New',monospace\"><span style=\"font-weight: bold\"> Total params: </span><span style=\"color: #00af00; text-decoration-color: #00af00\">87,842</span> (343.13 KB)\n",
              "</pre>\n"
            ],
            "text/plain": [
              "\u001b[1m Total params: \u001b[0m\u001b[38;5;34m87,842\u001b[0m (343.13 KB)\n"
            ]
          },
          "metadata": {},
          "output_type": "display_data"
        },
        {
          "data": {
            "text/html": [
              "<pre style=\"white-space:pre;overflow-x:auto;line-height:normal;font-family:Menlo,'DejaVu Sans Mono',consolas,'Courier New',monospace\"><span style=\"font-weight: bold\"> Trainable params: </span><span style=\"color: #00af00; text-decoration-color: #00af00\">87,842</span> (343.13 KB)\n",
              "</pre>\n"
            ],
            "text/plain": [
              "\u001b[1m Trainable params: \u001b[0m\u001b[38;5;34m87,842\u001b[0m (343.13 KB)\n"
            ]
          },
          "metadata": {},
          "output_type": "display_data"
        },
        {
          "data": {
            "text/html": [
              "<pre style=\"white-space:pre;overflow-x:auto;line-height:normal;font-family:Menlo,'DejaVu Sans Mono',consolas,'Courier New',monospace\"><span style=\"font-weight: bold\"> Non-trainable params: </span><span style=\"color: #00af00; text-decoration-color: #00af00\">0</span> (0.00 B)\n",
              "</pre>\n"
            ],
            "text/plain": [
              "\u001b[1m Non-trainable params: \u001b[0m\u001b[38;5;34m0\u001b[0m (0.00 B)\n"
            ]
          },
          "metadata": {},
          "output_type": "display_data"
        }
      ],
      "source": [
        "modelo_c_c = crear_modelo(SEQ_LENGTH, len(caracteres_indices), \"Base\")\n",
        "modelo_c_c.summary()"
      ]
    },
    {
      "cell_type": "code",
      "execution_count": null,
      "metadata": {
        "colab": {
          "base_uri": "https://localhost:8080/"
        },
        "id": "_DgztNz1bnrn",
        "outputId": "b2d25544-8831-4f80-beba-34d75c6d7688"
      },
      "outputs": [
        {
          "name": "stdout",
          "output_type": "stream",
          "text": [
            "Epoch 1/100\n",
            "\u001b[1m3907/3907\u001b[0m \u001b[32m━━━━━━━━━━━━━━━━━━━━\u001b[0m\u001b[37m\u001b[0m \u001b[1m23s\u001b[0m 5ms/step - loss: 2.2138\n",
            "Epoch 2/100\n",
            "\u001b[1m3907/3907\u001b[0m \u001b[32m━━━━━━━━━━━━━━━━━━━━\u001b[0m\u001b[37m\u001b[0m \u001b[1m20s\u001b[0m 5ms/step - loss: 1.7401\n",
            "Epoch 3/100\n",
            "\u001b[1m3907/3907\u001b[0m \u001b[32m━━━━━━━━━━━━━━━━━━━━\u001b[0m\u001b[37m\u001b[0m \u001b[1m19s\u001b[0m 5ms/step - loss: 1.6097\n",
            "Epoch 4/100\n",
            "\u001b[1m3907/3907\u001b[0m \u001b[32m━━━━━━━━━━━━━━━━━━━━\u001b[0m\u001b[37m\u001b[0m \u001b[1m21s\u001b[0m 5ms/step - loss: 1.5217\n",
            "Epoch 5/100\n",
            "\u001b[1m3907/3907\u001b[0m \u001b[32m━━━━━━━━━━━━━━━━━━━━\u001b[0m\u001b[37m\u001b[0m \u001b[1m20s\u001b[0m 5ms/step - loss: 1.4632\n",
            "Epoch 6/100\n",
            "\u001b[1m3907/3907\u001b[0m \u001b[32m━━━━━━━━━━━━━━━━━━━━\u001b[0m\u001b[37m\u001b[0m \u001b[1m20s\u001b[0m 5ms/step - loss: 1.4206\n",
            "Epoch 7/100\n",
            "\u001b[1m3907/3907\u001b[0m \u001b[32m━━━━━━━━━━━━━━━━━━━━\u001b[0m\u001b[37m\u001b[0m \u001b[1m20s\u001b[0m 5ms/step - loss: 1.3927\n",
            "Epoch 8/100\n",
            "\u001b[1m3907/3907\u001b[0m \u001b[32m━━━━━━━━━━━━━━━━━━━━\u001b[0m\u001b[37m\u001b[0m \u001b[1m20s\u001b[0m 5ms/step - loss: 1.3669\n",
            "Epoch 9/100\n",
            "\u001b[1m3907/3907\u001b[0m \u001b[32m━━━━━━━━━━━━━━━━━━━━\u001b[0m\u001b[37m\u001b[0m \u001b[1m19s\u001b[0m 5ms/step - loss: 1.3462\n",
            "Epoch 10/100\n",
            "\u001b[1m3907/3907\u001b[0m \u001b[32m━━━━━━━━━━━━━━━━━━━━\u001b[0m\u001b[37m\u001b[0m \u001b[1m20s\u001b[0m 5ms/step - loss: 1.3247\n",
            "Epoch 11/100\n",
            "\u001b[1m3907/3907\u001b[0m \u001b[32m━━━━━━━━━━━━━━━━━━━━\u001b[0m\u001b[37m\u001b[0m \u001b[1m19s\u001b[0m 5ms/step - loss: 1.3122\n",
            "Epoch 12/100\n",
            "\u001b[1m3907/3907\u001b[0m \u001b[32m━━━━━━━━━━━━━━━━━━━━\u001b[0m\u001b[37m\u001b[0m \u001b[1m21s\u001b[0m 5ms/step - loss: 1.2986\n",
            "Epoch 13/100\n",
            "\u001b[1m3907/3907\u001b[0m \u001b[32m━━━━━━━━━━━━━━━━━━━━\u001b[0m\u001b[37m\u001b[0m \u001b[1m19s\u001b[0m 5ms/step - loss: 1.2869\n",
            "Epoch 14/100\n",
            "\u001b[1m3907/3907\u001b[0m \u001b[32m━━━━━━━━━━━━━━━━━━━━\u001b[0m\u001b[37m\u001b[0m \u001b[1m20s\u001b[0m 5ms/step - loss: 1.2772\n",
            "Epoch 15/100\n",
            "\u001b[1m3907/3907\u001b[0m \u001b[32m━━━━━━━━━━━━━━━━━━━━\u001b[0m\u001b[37m\u001b[0m \u001b[1m21s\u001b[0m 5ms/step - loss: 1.2690\n",
            "Epoch 16/100\n",
            "\u001b[1m3907/3907\u001b[0m \u001b[32m━━━━━━━━━━━━━━━━━━━━\u001b[0m\u001b[37m\u001b[0m \u001b[1m21s\u001b[0m 5ms/step - loss: 1.2567\n",
            "Epoch 17/100\n",
            "\u001b[1m3907/3907\u001b[0m \u001b[32m━━━━━━━━━━━━━━━━━━━━\u001b[0m\u001b[37m\u001b[0m \u001b[1m20s\u001b[0m 5ms/step - loss: 1.2525\n",
            "Epoch 18/100\n",
            "\u001b[1m3907/3907\u001b[0m \u001b[32m━━━━━━━━━━━━━━━━━━━━\u001b[0m\u001b[37m\u001b[0m \u001b[1m20s\u001b[0m 5ms/step - loss: 1.2435\n",
            "Epoch 19/100\n",
            "\u001b[1m3907/3907\u001b[0m \u001b[32m━━━━━━━━━━━━━━━━━━━━\u001b[0m\u001b[37m\u001b[0m \u001b[1m21s\u001b[0m 5ms/step - loss: 1.2349\n",
            "Epoch 20/100\n",
            "\u001b[1m3907/3907\u001b[0m \u001b[32m━━━━━━━━━━━━━━━━━━━━\u001b[0m\u001b[37m\u001b[0m \u001b[1m19s\u001b[0m 5ms/step - loss: 1.2312\n",
            "Epoch 21/100\n",
            "\u001b[1m3907/3907\u001b[0m \u001b[32m━━━━━━━━━━━━━━━━━━━━\u001b[0m\u001b[37m\u001b[0m \u001b[1m20s\u001b[0m 5ms/step - loss: 1.2247\n",
            "Epoch 22/100\n",
            "\u001b[1m3907/3907\u001b[0m \u001b[32m━━━━━━━━━━━━━━━━━━━━\u001b[0m\u001b[37m\u001b[0m \u001b[1m20s\u001b[0m 5ms/step - loss: 1.2203\n",
            "Epoch 23/100\n",
            "\u001b[1m3907/3907\u001b[0m \u001b[32m━━━━━━━━━━━━━━━━━━━━\u001b[0m\u001b[37m\u001b[0m \u001b[1m19s\u001b[0m 5ms/step - loss: 1.2163\n",
            "Epoch 24/100\n",
            "\u001b[1m3907/3907\u001b[0m \u001b[32m━━━━━━━━━━━━━━━━━━━━\u001b[0m\u001b[37m\u001b[0m \u001b[1m20s\u001b[0m 5ms/step - loss: 1.2084\n",
            "Epoch 25/100\n",
            "\u001b[1m3907/3907\u001b[0m \u001b[32m━━━━━━━━━━━━━━━━━━━━\u001b[0m\u001b[37m\u001b[0m \u001b[1m20s\u001b[0m 5ms/step - loss: 1.2028\n",
            "Epoch 26/100\n",
            "\u001b[1m3907/3907\u001b[0m \u001b[32m━━━━━━━━━━━━━━━━━━━━\u001b[0m\u001b[37m\u001b[0m \u001b[1m19s\u001b[0m 5ms/step - loss: 1.2008\n",
            "Epoch 27/100\n",
            "\u001b[1m3907/3907\u001b[0m \u001b[32m━━━━━━━━━━━━━━━━━━━━\u001b[0m\u001b[37m\u001b[0m \u001b[1m20s\u001b[0m 5ms/step - loss: 1.1956\n",
            "Epoch 28/100\n",
            "\u001b[1m3907/3907\u001b[0m \u001b[32m━━━━━━━━━━━━━━━━━━━━\u001b[0m\u001b[37m\u001b[0m \u001b[1m19s\u001b[0m 5ms/step - loss: 1.1936\n",
            "Epoch 29/100\n",
            "\u001b[1m3907/3907\u001b[0m \u001b[32m━━━━━━━━━━━━━━━━━━━━\u001b[0m\u001b[37m\u001b[0m \u001b[1m20s\u001b[0m 5ms/step - loss: 1.1905\n",
            "Epoch 30/100\n",
            "\u001b[1m3907/3907\u001b[0m \u001b[32m━━━━━━━━━━━━━━━━━━━━\u001b[0m\u001b[37m\u001b[0m \u001b[1m20s\u001b[0m 5ms/step - loss: 1.1848\n",
            "Epoch 31/100\n",
            "\u001b[1m3907/3907\u001b[0m \u001b[32m━━━━━━━━━━━━━━━━━━━━\u001b[0m\u001b[37m\u001b[0m \u001b[1m20s\u001b[0m 5ms/step - loss: 1.1846\n",
            "Epoch 32/100\n",
            "\u001b[1m3907/3907\u001b[0m \u001b[32m━━━━━━━━━━━━━━━━━━━━\u001b[0m\u001b[37m\u001b[0m \u001b[1m20s\u001b[0m 5ms/step - loss: 1.1793\n",
            "Epoch 33/100\n",
            "\u001b[1m3907/3907\u001b[0m \u001b[32m━━━━━━━━━━━━━━━━━━━━\u001b[0m\u001b[37m\u001b[0m \u001b[1m20s\u001b[0m 5ms/step - loss: 1.1781\n",
            "Epoch 34/100\n",
            "\u001b[1m3907/3907\u001b[0m \u001b[32m━━━━━━━━━━━━━━━━━━━━\u001b[0m\u001b[37m\u001b[0m \u001b[1m20s\u001b[0m 5ms/step - loss: 1.1741\n",
            "Epoch 35/100\n",
            "\u001b[1m3907/3907\u001b[0m \u001b[32m━━━━━━━━━━━━━━━━━━━━\u001b[0m\u001b[37m\u001b[0m \u001b[1m21s\u001b[0m 5ms/step - loss: 1.1728\n",
            "Epoch 36/100\n",
            "\u001b[1m3907/3907\u001b[0m \u001b[32m━━━━━━━━━━━━━━━━━━━━\u001b[0m\u001b[37m\u001b[0m \u001b[1m20s\u001b[0m 5ms/step - loss: 1.1674\n",
            "Epoch 37/100\n",
            "\u001b[1m3907/3907\u001b[0m \u001b[32m━━━━━━━━━━━━━━━━━━━━\u001b[0m\u001b[37m\u001b[0m \u001b[1m19s\u001b[0m 5ms/step - loss: 1.1643\n",
            "Epoch 38/100\n",
            "\u001b[1m3907/3907\u001b[0m \u001b[32m━━━━━━━━━━━━━━━━━━━━\u001b[0m\u001b[37m\u001b[0m \u001b[1m21s\u001b[0m 5ms/step - loss: 1.1632\n",
            "Epoch 39/100\n",
            "\u001b[1m3907/3907\u001b[0m \u001b[32m━━━━━━━━━━━━━━━━━━━━\u001b[0m\u001b[37m\u001b[0m \u001b[1m20s\u001b[0m 5ms/step - loss: 1.1624\n",
            "Epoch 40/100\n",
            "\u001b[1m3907/3907\u001b[0m \u001b[32m━━━━━━━━━━━━━━━━━━━━\u001b[0m\u001b[37m\u001b[0m \u001b[1m20s\u001b[0m 5ms/step - loss: 1.1592\n",
            "Epoch 41/100\n",
            "\u001b[1m3907/3907\u001b[0m \u001b[32m━━━━━━━━━━━━━━━━━━━━\u001b[0m\u001b[37m\u001b[0m \u001b[1m20s\u001b[0m 5ms/step - loss: 1.1602\n",
            "Epoch 42/100\n",
            "\u001b[1m3907/3907\u001b[0m \u001b[32m━━━━━━━━━━━━━━━━━━━━\u001b[0m\u001b[37m\u001b[0m \u001b[1m19s\u001b[0m 5ms/step - loss: 1.1582\n",
            "Epoch 43/100\n",
            "\u001b[1m3907/3907\u001b[0m \u001b[32m━━━━━━━━━━━━━━━━━━━━\u001b[0m\u001b[37m\u001b[0m \u001b[1m20s\u001b[0m 5ms/step - loss: 1.1570\n",
            "Epoch 44/100\n",
            "\u001b[1m3907/3907\u001b[0m \u001b[32m━━━━━━━━━━━━━━━━━━━━\u001b[0m\u001b[37m\u001b[0m \u001b[1m21s\u001b[0m 5ms/step - loss: 1.1497\n",
            "Epoch 45/100\n",
            "\u001b[1m3907/3907\u001b[0m \u001b[32m━━━━━━━━━━━━━━━━━━━━\u001b[0m\u001b[37m\u001b[0m \u001b[1m20s\u001b[0m 5ms/step - loss: 1.1541\n",
            "Epoch 46/100\n",
            "\u001b[1m3907/3907\u001b[0m \u001b[32m━━━━━━━━━━━━━━━━━━━━\u001b[0m\u001b[37m\u001b[0m \u001b[1m20s\u001b[0m 5ms/step - loss: 1.1482\n",
            "Epoch 47/100\n",
            "\u001b[1m3907/3907\u001b[0m \u001b[32m━━━━━━━━━━━━━━━━━━━━\u001b[0m\u001b[37m\u001b[0m \u001b[1m20s\u001b[0m 5ms/step - loss: 1.1495\n",
            "Epoch 48/100\n",
            "\u001b[1m3907/3907\u001b[0m \u001b[32m━━━━━━━━━━━━━━━━━━━━\u001b[0m\u001b[37m\u001b[0m \u001b[1m19s\u001b[0m 5ms/step - loss: 1.1453\n",
            "Epoch 49/100\n",
            "\u001b[1m3907/3907\u001b[0m \u001b[32m━━━━━━━━━━━━━━━━━━━━\u001b[0m\u001b[37m\u001b[0m \u001b[1m20s\u001b[0m 5ms/step - loss: 1.1475\n",
            "Epoch 50/100\n",
            "\u001b[1m3907/3907\u001b[0m \u001b[32m━━━━━━━━━━━━━━━━━━━━\u001b[0m\u001b[37m\u001b[0m \u001b[1m20s\u001b[0m 5ms/step - loss: 1.1435\n",
            "Epoch 51/100\n",
            "\u001b[1m3907/3907\u001b[0m \u001b[32m━━━━━━━━━━━━━━━━━━━━\u001b[0m\u001b[37m\u001b[0m \u001b[1m20s\u001b[0m 5ms/step - loss: 1.1435\n",
            "Epoch 52/100\n",
            "\u001b[1m3907/3907\u001b[0m \u001b[32m━━━━━━━━━━━━━━━━━━━━\u001b[0m\u001b[37m\u001b[0m \u001b[1m21s\u001b[0m 5ms/step - loss: 1.1355\n",
            "Epoch 53/100\n",
            "\u001b[1m3907/3907\u001b[0m \u001b[32m━━━━━━━━━━━━━━━━━━━━\u001b[0m\u001b[37m\u001b[0m \u001b[1m19s\u001b[0m 5ms/step - loss: 1.1400\n",
            "Epoch 54/100\n",
            "\u001b[1m3907/3907\u001b[0m \u001b[32m━━━━━━━━━━━━━━━━━━━━\u001b[0m\u001b[37m\u001b[0m \u001b[1m19s\u001b[0m 5ms/step - loss: 1.1399\n",
            "Epoch 55/100\n",
            "\u001b[1m3907/3907\u001b[0m \u001b[32m━━━━━━━━━━━━━━━━━━━━\u001b[0m\u001b[37m\u001b[0m \u001b[1m21s\u001b[0m 5ms/step - loss: 1.1352\n",
            "Epoch 56/100\n",
            "\u001b[1m3907/3907\u001b[0m \u001b[32m━━━━━━━━━━━━━━━━━━━━\u001b[0m\u001b[37m\u001b[0m \u001b[1m19s\u001b[0m 5ms/step - loss: 1.1345\n",
            "Epoch 57/100\n",
            "\u001b[1m3907/3907\u001b[0m \u001b[32m━━━━━━━━━━━━━━━━━━━━\u001b[0m\u001b[37m\u001b[0m \u001b[1m20s\u001b[0m 5ms/step - loss: 1.1337\n",
            "Epoch 58/100\n",
            "\u001b[1m3907/3907\u001b[0m \u001b[32m━━━━━━━━━━━━━━━━━━━━\u001b[0m\u001b[37m\u001b[0m \u001b[1m21s\u001b[0m 5ms/step - loss: 1.1352\n",
            "Epoch 59/100\n",
            "\u001b[1m3907/3907\u001b[0m \u001b[32m━━━━━━━━━━━━━━━━━━━━\u001b[0m\u001b[37m\u001b[0m \u001b[1m20s\u001b[0m 5ms/step - loss: 1.1323\n",
            "Epoch 60/100\n",
            "\u001b[1m3907/3907\u001b[0m \u001b[32m━━━━━━━━━━━━━━━━━━━━\u001b[0m\u001b[37m\u001b[0m \u001b[1m20s\u001b[0m 5ms/step - loss: 1.1288\n",
            "Epoch 61/100\n",
            "\u001b[1m3907/3907\u001b[0m \u001b[32m━━━━━━━━━━━━━━━━━━━━\u001b[0m\u001b[37m\u001b[0m \u001b[1m20s\u001b[0m 5ms/step - loss: 1.1301\n",
            "Epoch 62/100\n",
            "\u001b[1m3907/3907\u001b[0m \u001b[32m━━━━━━━━━━━━━━━━━━━━\u001b[0m\u001b[37m\u001b[0m \u001b[1m19s\u001b[0m 5ms/step - loss: 1.1274\n",
            "Epoch 63/100\n",
            "\u001b[1m3907/3907\u001b[0m \u001b[32m━━━━━━━━━━━━━━━━━━━━\u001b[0m\u001b[37m\u001b[0m \u001b[1m20s\u001b[0m 5ms/step - loss: 1.1244\n",
            "Epoch 64/100\n",
            "\u001b[1m3907/3907\u001b[0m \u001b[32m━━━━━━━━━━━━━━━━━━━━\u001b[0m\u001b[37m\u001b[0m \u001b[1m20s\u001b[0m 5ms/step - loss: 1.1240\n",
            "Epoch 65/100\n",
            "\u001b[1m3907/3907\u001b[0m \u001b[32m━━━━━━━━━━━━━━━━━━━━\u001b[0m\u001b[37m\u001b[0m \u001b[1m20s\u001b[0m 5ms/step - loss: 1.1245\n",
            "Epoch 66/100\n",
            "\u001b[1m3907/3907\u001b[0m \u001b[32m━━━━━━━━━━━━━━━━━━━━\u001b[0m\u001b[37m\u001b[0m \u001b[1m20s\u001b[0m 5ms/step - loss: 1.1228\n",
            "Epoch 67/100\n",
            "\u001b[1m3907/3907\u001b[0m \u001b[32m━━━━━━━━━━━━━━━━━━━━\u001b[0m\u001b[37m\u001b[0m \u001b[1m20s\u001b[0m 5ms/step - loss: 1.1245\n",
            "Epoch 68/100\n",
            "\u001b[1m3907/3907\u001b[0m \u001b[32m━━━━━━━━━━━━━━━━━━━━\u001b[0m\u001b[37m\u001b[0m \u001b[1m19s\u001b[0m 5ms/step - loss: 1.1237\n",
            "Epoch 69/100\n",
            "\u001b[1m3907/3907\u001b[0m \u001b[32m━━━━━━━━━━━━━━━━━━━━\u001b[0m\u001b[37m\u001b[0m \u001b[1m20s\u001b[0m 5ms/step - loss: 1.1191\n",
            "Epoch 70/100\n",
            "\u001b[1m3907/3907\u001b[0m \u001b[32m━━━━━━━━━━━━━━━━━━━━\u001b[0m\u001b[37m\u001b[0m \u001b[1m20s\u001b[0m 5ms/step - loss: 1.1200\n",
            "Epoch 71/100\n",
            "\u001b[1m3907/3907\u001b[0m \u001b[32m━━━━━━━━━━━━━━━━━━━━\u001b[0m\u001b[37m\u001b[0m \u001b[1m20s\u001b[0m 5ms/step - loss: 1.1229\n",
            "Epoch 72/100\n",
            "\u001b[1m3907/3907\u001b[0m \u001b[32m━━━━━━━━━━━━━━━━━━━━\u001b[0m\u001b[37m\u001b[0m \u001b[1m20s\u001b[0m 5ms/step - loss: 1.1212\n",
            "Epoch 73/100\n",
            "\u001b[1m3907/3907\u001b[0m \u001b[32m━━━━━━━━━━━━━━━━━━━━\u001b[0m\u001b[37m\u001b[0m \u001b[1m20s\u001b[0m 5ms/step - loss: 1.1181\n",
            "Epoch 74/100\n",
            "\u001b[1m3907/3907\u001b[0m \u001b[32m━━━━━━━━━━━━━━━━━━━━\u001b[0m\u001b[37m\u001b[0m \u001b[1m21s\u001b[0m 5ms/step - loss: 1.1222\n",
            "Epoch 75/100\n",
            "\u001b[1m3907/3907\u001b[0m \u001b[32m━━━━━━━━━━━━━━━━━━━━\u001b[0m\u001b[37m\u001b[0m \u001b[1m20s\u001b[0m 5ms/step - loss: 1.1175\n",
            "Epoch 76/100\n",
            "\u001b[1m3907/3907\u001b[0m \u001b[32m━━━━━━━━━━━━━━━━━━━━\u001b[0m\u001b[37m\u001b[0m \u001b[1m19s\u001b[0m 5ms/step - loss: 1.1146\n",
            "Epoch 77/100\n",
            "\u001b[1m3907/3907\u001b[0m \u001b[32m━━━━━━━━━━━━━━━━━━━━\u001b[0m\u001b[37m\u001b[0m \u001b[1m21s\u001b[0m 5ms/step - loss: 1.1181\n",
            "Epoch 78/100\n",
            "\u001b[1m3907/3907\u001b[0m \u001b[32m━━━━━━━━━━━━━━━━━━━━\u001b[0m\u001b[37m\u001b[0m \u001b[1m20s\u001b[0m 5ms/step - loss: 1.1167\n",
            "Epoch 79/100\n",
            "\u001b[1m3907/3907\u001b[0m \u001b[32m━━━━━━━━━━━━━━━━━━━━\u001b[0m\u001b[37m\u001b[0m \u001b[1m20s\u001b[0m 5ms/step - loss: 1.1168\n",
            "Epoch 80/100\n",
            "\u001b[1m3907/3907\u001b[0m \u001b[32m━━━━━━━━━━━━━━━━━━━━\u001b[0m\u001b[37m\u001b[0m \u001b[1m20s\u001b[0m 5ms/step - loss: 1.1177\n",
            "Epoch 81/100\n",
            "\u001b[1m3907/3907\u001b[0m \u001b[32m━━━━━━━━━━━━━━━━━━━━\u001b[0m\u001b[37m\u001b[0m \u001b[1m20s\u001b[0m 5ms/step - loss: 1.1148\n",
            "Epoch 82/100\n",
            "\u001b[1m3907/3907\u001b[0m \u001b[32m━━━━━━━━━━━━━━━━━━━━\u001b[0m\u001b[37m\u001b[0m \u001b[1m19s\u001b[0m 5ms/step - loss: 1.1167\n",
            "Epoch 83/100\n",
            "\u001b[1m3907/3907\u001b[0m \u001b[32m━━━━━━━━━━━━━━━━━━━━\u001b[0m\u001b[37m\u001b[0m \u001b[1m21s\u001b[0m 5ms/step - loss: 1.1154\n",
            "Epoch 84/100\n",
            "\u001b[1m3907/3907\u001b[0m \u001b[32m━━━━━━━━━━━━━━━━━━━━\u001b[0m\u001b[37m\u001b[0m \u001b[1m20s\u001b[0m 5ms/step - loss: 1.1163\n",
            "Epoch 85/100\n",
            "\u001b[1m3907/3907\u001b[0m \u001b[32m━━━━━━━━━━━━━━━━━━━━\u001b[0m\u001b[37m\u001b[0m \u001b[1m20s\u001b[0m 5ms/step - loss: 1.1149\n",
            "Epoch 86/100\n",
            "\u001b[1m3907/3907\u001b[0m \u001b[32m━━━━━━━━━━━━━━━━━━━━\u001b[0m\u001b[37m\u001b[0m \u001b[1m20s\u001b[0m 5ms/step - loss: 1.1105\n",
            "Epoch 87/100\n",
            "\u001b[1m3907/3907\u001b[0m \u001b[32m━━━━━━━━━━━━━━━━━━━━\u001b[0m\u001b[37m\u001b[0m \u001b[1m20s\u001b[0m 5ms/step - loss: 1.1178\n",
            "Epoch 88/100\n",
            "\u001b[1m3907/3907\u001b[0m \u001b[32m━━━━━━━━━━━━━━━━━━━━\u001b[0m\u001b[37m\u001b[0m \u001b[1m20s\u001b[0m 5ms/step - loss: 1.1107\n",
            "Epoch 89/100\n",
            "\u001b[1m3907/3907\u001b[0m \u001b[32m━━━━━━━━━━━━━━━━━━━━\u001b[0m\u001b[37m\u001b[0m \u001b[1m20s\u001b[0m 5ms/step - loss: 1.1121\n",
            "Epoch 90/100\n",
            "\u001b[1m3907/3907\u001b[0m \u001b[32m━━━━━━━━━━━━━━━━━━━━\u001b[0m\u001b[37m\u001b[0m \u001b[1m19s\u001b[0m 5ms/step - loss: 1.1074\n",
            "Epoch 91/100\n",
            "\u001b[1m3907/3907\u001b[0m \u001b[32m━━━━━━━━━━━━━━━━━━━━\u001b[0m\u001b[37m\u001b[0m \u001b[1m21s\u001b[0m 5ms/step - loss: 1.1105\n",
            "Epoch 92/100\n",
            "\u001b[1m3907/3907\u001b[0m \u001b[32m━━━━━━━━━━━━━━━━━━━━\u001b[0m\u001b[37m\u001b[0m \u001b[1m20s\u001b[0m 5ms/step - loss: 1.1125\n",
            "Epoch 93/100\n",
            "\u001b[1m3907/3907\u001b[0m \u001b[32m━━━━━━━━━━━━━━━━━━━━\u001b[0m\u001b[37m\u001b[0m \u001b[1m19s\u001b[0m 5ms/step - loss: 1.1120\n",
            "Epoch 94/100\n",
            "\u001b[1m3907/3907\u001b[0m \u001b[32m━━━━━━━━━━━━━━━━━━━━\u001b[0m\u001b[37m\u001b[0m \u001b[1m21s\u001b[0m 5ms/step - loss: 1.1121\n",
            "Epoch 95/100\n",
            "\u001b[1m3907/3907\u001b[0m \u001b[32m━━━━━━━━━━━━━━━━━━━━\u001b[0m\u001b[37m\u001b[0m \u001b[1m20s\u001b[0m 5ms/step - loss: 1.1047\n",
            "Epoch 96/100\n",
            "\u001b[1m3907/3907\u001b[0m \u001b[32m━━━━━━━━━━━━━━━━━━━━\u001b[0m\u001b[37m\u001b[0m \u001b[1m20s\u001b[0m 5ms/step - loss: 1.1028\n",
            "Epoch 97/100\n",
            "\u001b[1m3907/3907\u001b[0m \u001b[32m━━━━━━━━━━━━━━━━━━━━\u001b[0m\u001b[37m\u001b[0m \u001b[1m21s\u001b[0m 5ms/step - loss: 1.1069\n",
            "Epoch 98/100\n",
            "\u001b[1m3907/3907\u001b[0m \u001b[32m━━━━━━━━━━━━━━━━━━━━\u001b[0m\u001b[37m\u001b[0m \u001b[1m20s\u001b[0m 5ms/step - loss: 1.1091\n",
            "Epoch 99/100\n",
            "\u001b[1m3907/3907\u001b[0m \u001b[32m━━━━━━━━━━━━━━━━━━━━\u001b[0m\u001b[37m\u001b[0m \u001b[1m19s\u001b[0m 5ms/step - loss: 1.1087\n",
            "Epoch 100/100\n",
            "\u001b[1m3907/3907\u001b[0m \u001b[32m━━━━━━━━━━━━━━━━━━━━\u001b[0m\u001b[37m\u001b[0m \u001b[1m21s\u001b[0m 5ms/step - loss: 1.1081\n"
          ]
        }
      ],
      "source": [
        "historial_cc = modelo_c_c.fit(X, y, batch_size=128, epochs=100)"
      ]
    },
    {
      "cell_type": "code",
      "execution_count": null,
      "metadata": {
        "id": "A5jGkKWTB8lP"
      },
      "outputs": [],
      "source": [
        "modelo_c_c.save('modelo_cc.keras')"
      ]
    },
    {
      "cell_type": "code",
      "execution_count": null,
      "metadata": {
        "colab": {
          "base_uri": "https://localhost:8080/",
          "height": 607
        },
        "id": "Rf_uFEI9r04u",
        "outputId": "781ec237-f4d5-4f0e-a619-705b363be23b"
      },
      "outputs": [
        {
          "data": {
            "image/png": "[encoded data removed]",
            "text/plain": [
              "<Figure size 1400x600 with 2 Axes>"
            ]
          },
          "metadata": {},
          "output_type": "display_data"
        }
      ],
      "source": [
        "graficar_historial_entrenamiento(historial_cc)"
      ]
    },
    {
      "cell_type": "markdown",
      "metadata": {
        "id": "EXHXB1TBoXzY"
      },
      "source": [
        "Durante el entrenamiento del modelo carácter a carácter, se observa que a la época 80 el valor de la función de pérdida (loss) alcanza aproximadamente 1.1, y al llegar a la época 100 disminuye levemente a 1.0. Esta evolución indica que, aunque el modelo continúa aprendiendo, la tasa de mejora se vuelve muy lenta en las últimas 20 épocas. En otras palabras, después de la época 80, la curva de pérdida se estabiliza y las ganancias adicionales en rendimiento son mínimas. Por esta razón, detener el entrenamiento anticipadamente, por ejemplo, en la época 80, no sería una mala decisión, ya que se evitaría un consumo innecesario de tiempo y recursos computacionales, sin perder calidad significativa en el modelo. Esta situación es típica en tareas de generación de texto, donde después de cierto punto el modelo ya ha captado los patrones principales del lenguaje y las mejoras posteriores tienden a ser marginales. Implementar un mecanismo como EarlyStopping podría automatizar esta decisión, terminando el entrenamiento cuando la mejora del loss deja de ser significativa."
      ]
    },
    {
      "cell_type": "markdown",
      "metadata": {
        "id": "3A3E1ne0k4LH"
      },
      "source": [
        "Este bloque de código implementa la generación de texto utilizando el modelo entrenado carácter a carácter. Para hacerlo, se recibe una semilla inicial de texto (seed_text) y va prediciendo, paso a paso, los caracteres siguientes para construir una secuencia nueva.\n",
        "\n",
        "Para seleccionar el siguiente carácter a predecir, se emplea una técnica llamada muestreo con temperatura. Esta técnica permite controlar la aleatoriedad de las predicciones: con temperaturas bajas, las predicciones son más conservadoras y repetitivas, mientras que con temperaturas altas se generan resultados más variados y creativos.\n",
        "\n",
        "El proceso consiste en tomar la última parte del texto generado, codificarla en formato one-hot para que el modelo pueda procesarla, y luego obtener la probabilidad de cada posible siguiente carácter. A partir de estas probabilidades y usando el muestreo con temperatura, se elige un carácter que se añade al texto generado, repitiendo este ciclo hasta completar la longitud deseada.\n",
        "\n",
        "Este método es útil para observar cómo el modelo aprendido puede crear secuencias coherentes de texto y para experimentar con la creatividad y diversidad del lenguaje generado ajustando la temperatura."
      ]
    },
    {
      "cell_type": "code",
      "execution_count": null,
      "metadata": {
        "id": "8vEzO9Kfdxzv"
      },
      "outputs": [],
      "source": [
        "def ej_temp(preds, temperature=1.0):\n",
        "    preds = np.asarray(preds).astype('float64')\n",
        "    preds = np.log(preds + 1e-10) / temperature\n",
        "    exp_preds = np.exp(preds)\n",
        "    preds = exp_preds / np.sum(exp_preds)\n",
        "    return np.random.choice(len(preds), p=preds)\n",
        "\n",
        "def generar_txtmodelo(model, seed_text, caracteres_indices, idx2char, seq_length, num_chars=200, temperature=1.0):\n",
        "    generated = seed_text\n",
        "\n",
        "    for _ in range(num_chars):\n",
        "        input_seq = generated[-seq_length:]\n",
        "        input_indices = [caracteres_indices.get(c, 0) for c in input_seq]\n",
        "\n",
        "        if len(input_indices) < seq_length:\n",
        "            input_indices = [0] * (seq_length - len(input_indices)) + input_indices\n",
        "\n",
        "        # One-hot encoding para el modelo carácter a carácter\n",
        "        x_pred = np.zeros((1, seq_length, len(caracteres_indices)))\n",
        "        for t, idx in enumerate(input_indices):\n",
        "            x_pred[0, t, idx] = 1.0\n",
        "\n",
        "        preds = model.predict(x_pred, verbose=0)[0]\n",
        "        next_index = ej_temp(preds, temperature)\n",
        "        next_char = idx2char[next_index]\n",
        "\n",
        "        generated += next_char\n",
        "\n",
        "    return generated"
      ]
    },
    {
      "cell_type": "markdown",
      "metadata": {
        "id": "x_lTIw6TlYmo"
      },
      "source": [
        "La siguiente función genera y muestra texto a partir de diferentes frases semilla utilizando el modelo entrenado. Para cada semilla, se generan textos con distintas temperaturas, lo que permite observar cómo la variación en la aleatoriedad afecta la creatividad y coherencia del texto generado. Así, se evalúa el comportamiento del modelo bajo diferentes configuraciones de muestreo."
      ]
    },
    {
      "cell_type": "code",
      "execution_count": null,
      "metadata": {
        "id": "C54m7ds5dnng"
      },
      "outputs": [],
      "source": [
        "def predicciones(model, caracteres_indices, idx2char, seq_length):\n",
        "    frases = [\n",
        "        \"en un lugar de la man\",\n",
        "        \"don quijo\",\n",
        "        \"el caballe\"\n",
        "    ]\n",
        "\n",
        "    temperaturas = [0.2, 0.5, 1.0]\n",
        "\n",
        "    for frase in frases:\n",
        "        print(f\"Semilla: '{frase}'\\n\")\n",
        "        for temp in temperaturas:\n",
        "            texto_generado = generar_txtmodelo(\n",
        "                model=model,\n",
        "                seed_text=frase,\n",
        "                caracteres_indices=caracteres_indices,\n",
        "                idx2char=idx2char,\n",
        "                seq_length=seq_length,\n",
        "                num_chars=200,\n",
        "                temperature=temp\n",
        "            )\n",
        "            print(f\"Con temperatura {temp}: {texto_generado}\\n\")"
      ]
    },
    {
      "cell_type": "markdown",
      "metadata": {
        "id": "q1wKjYEJlbqX"
      },
      "source": [
        "En esta sección, se crea un diccionario inverso para mapear índices a caracteres, facilitando la interpretación de las predicciones del modelo. Luego, se ejecuta la función de predicción con el modelo entrenado y las configuraciones definidas, para generar texto a partir de las frases semilla y analizar los resultados."
      ]
    },
    {
      "cell_type": "code",
      "execution_count": null,
      "metadata": {
        "colab": {
          "base_uri": "https://localhost:8080/"
        },
        "id": "p5RUclOFeLj-",
        "outputId": "23c025ec-0738-410b-8273-5c8d492cbc1a"
      },
      "outputs": [
        {
          "name": "stdout",
          "output_type": "stream",
          "text": [
            "Semilla: 'en un lugar de la man'\n",
            "\n",
            "Con temperatura 0.2: en un lugar de la mano de su amo que en la mano y el senor don quijote que el caballero de la mancha procuraba en la mano y asi lo hay alguna cosa que esta a su amo ni es de donde se le acordaba de don quijote y en dios y\n",
            "\n",
            "Con temperatura 0.5: en un lugar de la mano de don quijote un caso  eso no lo que le habian de pasan y deste mil deseos de la mano de don quijote la vida y con todo eso me parecio en la male vino a mi como lo es de aquella sala de don quijote\n",
            "\n",
            "Con temperatura 1.0: en un lugar de la manera rey dado chilluia por un lubir a la cortesana y mas enemigo de desencertarme no te hubies y asi fino se llama el layo el cual vive mas que el tepia cuentan respondio  le puspo algun estribo impest\n",
            "\n",
            "Semilla: 'don quijo'\n",
            "\n",
            "Con temperatura 0.2: don quijote que en esto se le acaba en el cual se le dijo  de mi parte la memoria y a la cabeza que se le dejara en el se ponia a su amo ni es de donde estaban los que estaba de ser senor don quijote de la man\n",
            "\n",
            "Con temperatura 0.5: don quijote y asi se la partifarla para el cura de dios se vio los que el suyo con la cabeza a lo que respondio que estaba el caballero y lo habeis de cardenio en la cual es que se le podia si arnar no se ofre\n",
            "\n",
            "Con temperatura 1.0: don quijote  no no hay cojida con la miticidad es cere illa dellos al senor desvueva o por dondine tu garga y a monta un trabajo finalmente y nos quitasen se dio valerose el dia senor mal y asno le cuesta dire\n",
            "\n",
            "Semilla: 'el caballe'\n",
            "\n",
            "Con temperatura 0.2: el caballe vendir los mas deseos de su amo que es de los cuales se le dejas de la cual se llama alguna de la cabeza de su espada y el caballero de la triste figura y en la mano y para que se le habia de ser en \n",
            "\n",
            "Con temperatura 0.5: el caballe  escuper      capitulo viv en tan bien como en la cabeza de su amo que aquellos campos de don quijote que no hay amor sus despues de haberle dijo de don quijote y en aquella cosa y la desporsano y en\n",
            "\n",
            "Con temperatura 1.0: el caballe virtunos que me dijo dijo solos quiere en las sentirsian senor zortio de tanto espirit mas de mi que aunque rogara de otras muchas armas huentes a tu pendencia y el manera con el senor mandivivo que \n",
            "\n"
          ]
        }
      ],
      "source": [
        "# Diccionarios necesarios\n",
        "idx2char = {i: c for c, i in caracteres_indices.items()}\n",
        "\n",
        "# Ejecutar evaluación\n",
        "predicciones(modelo_c_c, caracteres_indices, idx2char, SEQ_LENGTH)"
      ]
    },
    {
      "cell_type": "markdown",
      "metadata": {
        "id": "dER_ECegpQ0b"
      },
      "source": [
        "Las predicciones generadas por el modelo carácter a carácter muestran cómo la temperatura afecta directamente la coherencia, creatividad y variabilidad del texto.\n",
        "\n",
        "En la temperatura baja (0.2), el modelo genera texto bastante coherente y fluido, pero con repeticiones evidentes. Por ejemplo, en la primera semilla, la frase “en la mano y el señor don Quijote” se repite varias veces casi igual, lo que indica que el modelo elige las opciones más probables y seguras. Esto hace que el texto sea más predecible y limitado en variedad.\n",
        "\n",
        "A medida que aumentamos la temperatura a 0.5, el texto comienza a ser más diverso y creativo, aunque mantiene un nivel aceptable de coherencia. Aquí el modelo explora opciones menos obvias, generando frases más variadas y con un poco más de riqueza en el contenido.\n",
        "\n",
        "Cuando la temperatura se eleva a 1.0, el texto generado se vuelve mucho más impredecible y arriesgado, con oraciones que pueden perder sentido o contener errores, pero aportan mayor variedad y sorpresa. Esta opción puede ser útil cuando se busca generar ideas o frases menos comunes, aunque con menor precisión.\n",
        "\n",
        "Estos resultados muestran cómo ajustando la temperatura permite controlar la creatividad del modelo: temperaturas bajas son útiles para aplicaciones donde se busca alta coherencia y precisión (como autocompletado o corrección), mientras que temperaturas más altas pueden servir para generar textos más variados o creativos, aunque menos predecibles. Esto es clave para adaptar el modelo a distintas tareas de NLP según la necesidad."
      ]
    },
    {
      "cell_type": "markdown",
      "metadata": {
        "id": "NDF33L5MCPk1"
      },
      "source": [
        "##Modelo 2 - Cambio batch size"
      ]
    },
    {
      "cell_type": "markdown",
      "metadata": {
        "id": "UTA_smW5WNAo"
      },
      "source": [
        "En esta segunda etapa, se mantiene la misma arquitectura del modelo carácter a carácter basada en una capa LSTM de 128 unidades seguida de una capa densa con activación softmax para predecir el siguiente carácter. Sin embargo, se modifica un hiperparámetro: el tamaño del lote (batch size), que se incrementa de 128 a 256.\n",
        "\n",
        "Este cambio se realiza con el objetivo de evaluar cómo afecta el tamaño del batch al proceso de entrenamiento y al desempeño del modelo. Un batch size mayor puede mejorar la estabilidad y velocidad del entrenamiento al procesar más datos por iteración, aunque también puede impactar en la capacidad del modelo para generalizar. Por ello, se reentrena el modelo con este ajuste y se analiza su comportamiento para decidir cuál configuración es más adecuada para esta tarea de generación de texto."
      ]
    },
    {
      "cell_type": "code",
      "execution_count": null,
      "metadata": {
        "colab": {
          "base_uri": "https://localhost:8080/",
          "height": 193
        },
        "id": "Zaiz4-eXDsLC",
        "outputId": "b70c6d7d-d0d6-4ce1-b074-50fe4a04db29"
      },
      "outputs": [
        {
          "data": {
            "text/html": [
              "<pre style=\"white-space:pre;overflow-x:auto;line-height:normal;font-family:Menlo,'DejaVu Sans Mono',consolas,'Courier New',monospace\"><span style=\"font-weight: bold\">Model: \"Batch_size256\"</span>\n",
              "</pre>\n"
            ],
            "text/plain": [
              "\u001b[1mModel: \"Batch_size256\"\u001b[0m\n"
            ]
          },
          "metadata": {},
          "output_type": "display_data"
        },
        {
          "data": {
            "text/html": [
              "<pre style=\"white-space:pre;overflow-x:auto;line-height:normal;font-family:Menlo,'DejaVu Sans Mono',consolas,'Courier New',monospace\">┏━━━━━━━━━━━━━━━━━━━━━━━━━━━━━━━━━┳━━━━━━━━━━━━━━━━━━━━━━━━┳━━━━━━━━━━━━━━━┓\n",
              "┃<span style=\"font-weight: bold\"> Layer (type)                    </span>┃<span style=\"font-weight: bold\"> Output Shape           </span>┃<span style=\"font-weight: bold\">       Param # </span>┃\n",
              "┡━━━━━━━━━━━━━━━━━━━━━━━━━━━━━━━━━╇━━━━━━━━━━━━━━━━━━━━━━━━╇━━━━━━━━━━━━━━━┩\n",
              "│ CapaLSTM (<span style=\"color: #0087ff; text-decoration-color: #0087ff\">LSTM</span>)                 │ (<span style=\"color: #00d7ff; text-decoration-color: #00d7ff\">None</span>, <span style=\"color: #00af00; text-decoration-color: #00af00\">128</span>)            │        <span style=\"color: #00af00; text-decoration-color: #00af00\">83,456</span> │\n",
              "├─────────────────────────────────┼────────────────────────┼───────────────┤\n",
              "│ Densa (<span style=\"color: #0087ff; text-decoration-color: #0087ff\">Dense</span>)                   │ (<span style=\"color: #00d7ff; text-decoration-color: #00d7ff\">None</span>, <span style=\"color: #00af00; text-decoration-color: #00af00\">34</span>)             │         <span style=\"color: #00af00; text-decoration-color: #00af00\">4,386</span> │\n",
              "└─────────────────────────────────┴────────────────────────┴───────────────┘\n",
              "</pre>\n"
            ],
            "text/plain": [
              "┏━━━━━━━━━━━━━━━━━━━━━━━━━━━━━━━━━┳━━━━━━━━━━━━━━━━━━━━━━━━┳━━━━━━━━━━━━━━━┓\n",
              "┃\u001b[1m \u001b[0m\u001b[1mLayer (type)                   \u001b[0m\u001b[1m \u001b[0m┃\u001b[1m \u001b[0m\u001b[1mOutput Shape          \u001b[0m\u001b[1m \u001b[0m┃\u001b[1m \u001b[0m\u001b[1m      Param #\u001b[0m\u001b[1m \u001b[0m┃\n",
              "┡━━━━━━━━━━━━━━━━━━━━━━━━━━━━━━━━━╇━━━━━━━━━━━━━━━━━━━━━━━━╇━━━━━━━━━━━━━━━┩\n",
              "│ CapaLSTM (\u001b[38;5;33mLSTM\u001b[0m)                 │ (\u001b[38;5;45mNone\u001b[0m, \u001b[38;5;34m128\u001b[0m)            │        \u001b[38;5;34m83,456\u001b[0m │\n",
              "├─────────────────────────────────┼────────────────────────┼───────────────┤\n",
              "│ Densa (\u001b[38;5;33mDense\u001b[0m)                   │ (\u001b[38;5;45mNone\u001b[0m, \u001b[38;5;34m34\u001b[0m)             │         \u001b[38;5;34m4,386\u001b[0m │\n",
              "└─────────────────────────────────┴────────────────────────┴───────────────┘\n"
            ]
          },
          "metadata": {},
          "output_type": "display_data"
        },
        {
          "data": {
            "text/html": [
              "<pre style=\"white-space:pre;overflow-x:auto;line-height:normal;font-family:Menlo,'DejaVu Sans Mono',consolas,'Courier New',monospace\"><span style=\"font-weight: bold\"> Total params: </span><span style=\"color: #00af00; text-decoration-color: #00af00\">87,842</span> (343.13 KB)\n",
              "</pre>\n"
            ],
            "text/plain": [
              "\u001b[1m Total params: \u001b[0m\u001b[38;5;34m87,842\u001b[0m (343.13 KB)\n"
            ]
          },
          "metadata": {},
          "output_type": "display_data"
        },
        {
          "data": {
            "text/html": [
              "<pre style=\"white-space:pre;overflow-x:auto;line-height:normal;font-family:Menlo,'DejaVu Sans Mono',consolas,'Courier New',monospace\"><span style=\"font-weight: bold\"> Trainable params: </span><span style=\"color: #00af00; text-decoration-color: #00af00\">87,842</span> (343.13 KB)\n",
              "</pre>\n"
            ],
            "text/plain": [
              "\u001b[1m Trainable params: \u001b[0m\u001b[38;5;34m87,842\u001b[0m (343.13 KB)\n"
            ]
          },
          "metadata": {},
          "output_type": "display_data"
        },
        {
          "data": {
            "text/html": [
              "<pre style=\"white-space:pre;overflow-x:auto;line-height:normal;font-family:Menlo,'DejaVu Sans Mono',consolas,'Courier New',monospace\"><span style=\"font-weight: bold\"> Non-trainable params: </span><span style=\"color: #00af00; text-decoration-color: #00af00\">0</span> (0.00 B)\n",
              "</pre>\n"
            ],
            "text/plain": [
              "\u001b[1m Non-trainable params: \u001b[0m\u001b[38;5;34m0\u001b[0m (0.00 B)\n"
            ]
          },
          "metadata": {},
          "output_type": "display_data"
        }
      ],
      "source": [
        "modelo_c_c2 = crear_modelo(SEQ_LENGTH, len(caracteres_indices), \"Batch_size256\")\n",
        "modelo_c_c2.summary()"
      ]
    },
    {
      "cell_type": "code",
      "execution_count": null,
      "metadata": {
        "colab": {
          "base_uri": "https://localhost:8080/"
        },
        "id": "2tLjCxWCCWd0",
        "outputId": "d7c8adce-113d-47fb-ea30-9f6b3c2cd79e"
      },
      "outputs": [
        {
          "name": "stdout",
          "output_type": "stream",
          "text": [
            "Epoch 1/100\n",
            "\u001b[1m1954/1954\u001b[0m \u001b[32m━━━━━━━━━━━━━━━━━━━━\u001b[0m\u001b[37m\u001b[0m \u001b[1m12s\u001b[0m 6ms/step - loss: 2.3361\n",
            "Epoch 2/100\n",
            "\u001b[1m1954/1954\u001b[0m \u001b[32m━━━━━━━━━━━━━━━━━━━━\u001b[0m\u001b[37m\u001b[0m \u001b[1m11s\u001b[0m 6ms/step - loss: 1.8453\n",
            "Epoch 3/100\n",
            "\u001b[1m1954/1954\u001b[0m \u001b[32m━━━━━━━━━━━━━━━━━━━━\u001b[0m\u001b[37m\u001b[0m \u001b[1m21s\u001b[0m 6ms/step - loss: 1.7289\n",
            "Epoch 4/100\n",
            "\u001b[1m1954/1954\u001b[0m \u001b[32m━━━━━━━━━━━━━━━━━━━━\u001b[0m\u001b[37m\u001b[0m \u001b[1m11s\u001b[0m 6ms/step - loss: 1.6480\n",
            "Epoch 5/100\n",
            "\u001b[1m1954/1954\u001b[0m \u001b[32m━━━━━━━━━━━━━━━━━━━━\u001b[0m\u001b[37m\u001b[0m \u001b[1m21s\u001b[0m 6ms/step - loss: 1.5923\n",
            "Epoch 6/100\n",
            "\u001b[1m1954/1954\u001b[0m \u001b[32m━━━━━━━━━━━━━━━━━━━━\u001b[0m\u001b[37m\u001b[0m \u001b[1m20s\u001b[0m 6ms/step - loss: 1.5411\n",
            "Epoch 7/100\n",
            "\u001b[1m1954/1954\u001b[0m \u001b[32m━━━━━━━━━━━━━━━━━━━━\u001b[0m\u001b[37m\u001b[0m \u001b[1m11s\u001b[0m 6ms/step - loss: 1.5018\n",
            "Epoch 8/100\n",
            "\u001b[1m1954/1954\u001b[0m \u001b[32m━━━━━━━━━━━━━━━━━━━━\u001b[0m\u001b[37m\u001b[0m \u001b[1m11s\u001b[0m 6ms/step - loss: 1.4678\n",
            "Epoch 9/100\n",
            "\u001b[1m1954/1954\u001b[0m \u001b[32m━━━━━━━━━━━━━━━━━━━━\u001b[0m\u001b[37m\u001b[0m \u001b[1m21s\u001b[0m 6ms/step - loss: 1.4451\n",
            "Epoch 10/100\n",
            "\u001b[1m1954/1954\u001b[0m \u001b[32m━━━━━━━━━━━━━━━━━━━━\u001b[0m\u001b[37m\u001b[0m \u001b[1m20s\u001b[0m 6ms/step - loss: 1.4248\n",
            "Epoch 11/100\n",
            "\u001b[1m1954/1954\u001b[0m \u001b[32m━━━━━━━━━━━━━━━━━━━━\u001b[0m\u001b[37m\u001b[0m \u001b[1m21s\u001b[0m 6ms/step - loss: 1.4055\n",
            "Epoch 12/100\n",
            "\u001b[1m1954/1954\u001b[0m \u001b[32m━━━━━━━━━━━━━━━━━━━━\u001b[0m\u001b[37m\u001b[0m \u001b[1m20s\u001b[0m 6ms/step - loss: 1.3877\n",
            "Epoch 13/100\n",
            "\u001b[1m1954/1954\u001b[0m \u001b[32m━━━━━━━━━━━━━━━━━━━━\u001b[0m\u001b[37m\u001b[0m \u001b[1m21s\u001b[0m 6ms/step - loss: 1.3768\n",
            "Epoch 14/100\n",
            "\u001b[1m1954/1954\u001b[0m \u001b[32m━━━━━━━━━━━━━━━━━━━━\u001b[0m\u001b[37m\u001b[0m \u001b[1m20s\u001b[0m 6ms/step - loss: 1.3577\n",
            "Epoch 15/100\n",
            "\u001b[1m1954/1954\u001b[0m \u001b[32m━━━━━━━━━━━━━━━━━━━━\u001b[0m\u001b[37m\u001b[0m \u001b[1m21s\u001b[0m 6ms/step - loss: 1.3499\n",
            "Epoch 16/100\n",
            "\u001b[1m1954/1954\u001b[0m \u001b[32m━━━━━━━━━━━━━━━━━━━━\u001b[0m\u001b[37m\u001b[0m \u001b[1m20s\u001b[0m 6ms/step - loss: 1.3417\n",
            "Epoch 17/100\n",
            "\u001b[1m1954/1954\u001b[0m \u001b[32m━━━━━━━━━━━━━━━━━━━━\u001b[0m\u001b[37m\u001b[0m \u001b[1m11s\u001b[0m 6ms/step - loss: 1.3322\n",
            "Epoch 18/100\n",
            "\u001b[1m1954/1954\u001b[0m \u001b[32m━━━━━━━━━━━━━━━━━━━━\u001b[0m\u001b[37m\u001b[0m \u001b[1m11s\u001b[0m 6ms/step - loss: 1.3231\n",
            "Epoch 19/100\n",
            "\u001b[1m1954/1954\u001b[0m \u001b[32m━━━━━━━━━━━━━━━━━━━━\u001b[0m\u001b[37m\u001b[0m \u001b[1m21s\u001b[0m 6ms/step - loss: 1.3115\n",
            "Epoch 20/100\n",
            "\u001b[1m1954/1954\u001b[0m \u001b[32m━━━━━━━━━━━━━━━━━━━━\u001b[0m\u001b[37m\u001b[0m \u001b[1m11s\u001b[0m 6ms/step - loss: 1.3086\n",
            "Epoch 21/100\n",
            "\u001b[1m1954/1954\u001b[0m \u001b[32m━━━━━━━━━━━━━━━━━━━━\u001b[0m\u001b[37m\u001b[0m \u001b[1m20s\u001b[0m 6ms/step - loss: 1.3036\n",
            "Epoch 22/100\n",
            "\u001b[1m1954/1954\u001b[0m \u001b[32m━━━━━━━━━━━━━━━━━━━━\u001b[0m\u001b[37m\u001b[0m \u001b[1m20s\u001b[0m 5ms/step - loss: 1.2925\n",
            "Epoch 23/100\n",
            "\u001b[1m1954/1954\u001b[0m \u001b[32m━━━━━━━━━━━━━━━━━━━━\u001b[0m\u001b[37m\u001b[0m \u001b[1m11s\u001b[0m 6ms/step - loss: 1.2876\n",
            "Epoch 24/100\n",
            "\u001b[1m1954/1954\u001b[0m \u001b[32m━━━━━━━━━━━━━━━━━━━━\u001b[0m\u001b[37m\u001b[0m \u001b[1m11s\u001b[0m 6ms/step - loss: 1.2806\n",
            "Epoch 25/100\n",
            "\u001b[1m1954/1954\u001b[0m \u001b[32m━━━━━━━━━━━━━━━━━━━━\u001b[0m\u001b[37m\u001b[0m \u001b[1m21s\u001b[0m 6ms/step - loss: 1.2757\n",
            "Epoch 26/100\n",
            "\u001b[1m1954/1954\u001b[0m \u001b[32m━━━━━━━━━━━━━━━━━━━━\u001b[0m\u001b[37m\u001b[0m \u001b[1m20s\u001b[0m 6ms/step - loss: 1.2688\n",
            "Epoch 27/100\n",
            "\u001b[1m1954/1954\u001b[0m \u001b[32m━━━━━━━━━━━━━━━━━━━━\u001b[0m\u001b[37m\u001b[0m \u001b[1m20s\u001b[0m 6ms/step - loss: 1.2619\n",
            "Epoch 28/100\n",
            "\u001b[1m1954/1954\u001b[0m \u001b[32m━━━━━━━━━━━━━━━━━━━━\u001b[0m\u001b[37m\u001b[0m \u001b[1m21s\u001b[0m 6ms/step - loss: 1.2598\n",
            "Epoch 29/100\n",
            "\u001b[1m1954/1954\u001b[0m \u001b[32m━━━━━━━━━━━━━━━━━━━━\u001b[0m\u001b[37m\u001b[0m \u001b[1m11s\u001b[0m 6ms/step - loss: 1.2536\n",
            "Epoch 30/100\n",
            "\u001b[1m1954/1954\u001b[0m \u001b[32m━━━━━━━━━━━━━━━━━━━━\u001b[0m\u001b[37m\u001b[0m \u001b[1m21s\u001b[0m 6ms/step - loss: 1.2484\n",
            "Epoch 31/100\n",
            "\u001b[1m1954/1954\u001b[0m \u001b[32m━━━━━━━━━━━━━━━━━━━━\u001b[0m\u001b[37m\u001b[0m \u001b[1m11s\u001b[0m 6ms/step - loss: 1.2505\n",
            "Epoch 32/100\n",
            "\u001b[1m1954/1954\u001b[0m \u001b[32m━━━━━━━━━━━━━━━━━━━━\u001b[0m\u001b[37m\u001b[0m \u001b[1m11s\u001b[0m 6ms/step - loss: 1.2457\n",
            "Epoch 33/100\n",
            "\u001b[1m1954/1954\u001b[0m \u001b[32m━━━━━━━━━━━━━━━━━━━━\u001b[0m\u001b[37m\u001b[0m \u001b[1m20s\u001b[0m 6ms/step - loss: 1.2407\n",
            "Epoch 34/100\n",
            "\u001b[1m1954/1954\u001b[0m \u001b[32m━━━━━━━━━━━━━━━━━━━━\u001b[0m\u001b[37m\u001b[0m \u001b[1m21s\u001b[0m 6ms/step - loss: 1.2375\n",
            "Epoch 35/100\n",
            "\u001b[1m1954/1954\u001b[0m \u001b[32m━━━━━━━━━━━━━━━━━━━━\u001b[0m\u001b[37m\u001b[0m \u001b[1m11s\u001b[0m 6ms/step - loss: 1.2344\n",
            "Epoch 36/100\n",
            "\u001b[1m1954/1954\u001b[0m \u001b[32m━━━━━━━━━━━━━━━━━━━━\u001b[0m\u001b[37m\u001b[0m \u001b[1m11s\u001b[0m 6ms/step - loss: 1.2273\n",
            "Epoch 37/100\n",
            "\u001b[1m1954/1954\u001b[0m \u001b[32m━━━━━━━━━━━━━━━━━━━━\u001b[0m\u001b[37m\u001b[0m \u001b[1m21s\u001b[0m 6ms/step - loss: 1.2230\n",
            "Epoch 38/100\n",
            "\u001b[1m1954/1954\u001b[0m \u001b[32m━━━━━━━━━━━━━━━━━━━━\u001b[0m\u001b[37m\u001b[0m \u001b[1m11s\u001b[0m 6ms/step - loss: 1.2226\n",
            "Epoch 39/100\n",
            "\u001b[1m1954/1954\u001b[0m \u001b[32m━━━━━━━━━━━━━━━━━━━━\u001b[0m\u001b[37m\u001b[0m \u001b[1m11s\u001b[0m 6ms/step - loss: 1.2182\n",
            "Epoch 40/100\n",
            "\u001b[1m1954/1954\u001b[0m \u001b[32m━━━━━━━━━━━━━━━━━━━━\u001b[0m\u001b[37m\u001b[0m \u001b[1m21s\u001b[0m 6ms/step - loss: 1.2182\n",
            "Epoch 41/100\n",
            "\u001b[1m1954/1954\u001b[0m \u001b[32m━━━━━━━━━━━━━━━━━━━━\u001b[0m\u001b[37m\u001b[0m \u001b[1m11s\u001b[0m 6ms/step - loss: 1.2151\n",
            "Epoch 42/100\n",
            "\u001b[1m1954/1954\u001b[0m \u001b[32m━━━━━━━━━━━━━━━━━━━━\u001b[0m\u001b[37m\u001b[0m \u001b[1m21s\u001b[0m 6ms/step - loss: 1.2119\n",
            "Epoch 43/100\n",
            "\u001b[1m1954/1954\u001b[0m \u001b[32m━━━━━━━━━━━━━━━━━━━━\u001b[0m\u001b[37m\u001b[0m \u001b[1m11s\u001b[0m 6ms/step - loss: 1.2105\n",
            "Epoch 44/100\n",
            "\u001b[1m1954/1954\u001b[0m \u001b[32m━━━━━━━━━━━━━━━━━━━━\u001b[0m\u001b[37m\u001b[0m \u001b[1m21s\u001b[0m 6ms/step - loss: 1.2055\n",
            "Epoch 45/100\n",
            "\u001b[1m1954/1954\u001b[0m \u001b[32m━━━━━━━━━━━━━━━━━━━━\u001b[0m\u001b[37m\u001b[0m \u001b[1m20s\u001b[0m 6ms/step - loss: 1.2051\n",
            "Epoch 46/100\n",
            "\u001b[1m1954/1954\u001b[0m \u001b[32m━━━━━━━━━━━━━━━━━━━━\u001b[0m\u001b[37m\u001b[0m \u001b[1m21s\u001b[0m 6ms/step - loss: 1.2010\n",
            "Epoch 47/100\n",
            "\u001b[1m1954/1954\u001b[0m \u001b[32m━━━━━━━━━━━━━━━━━━━━\u001b[0m\u001b[37m\u001b[0m \u001b[1m12s\u001b[0m 6ms/step - loss: 1.2004\n",
            "Epoch 48/100\n",
            "\u001b[1m1954/1954\u001b[0m \u001b[32m━━━━━━━━━━━━━━━━━━━━\u001b[0m\u001b[37m\u001b[0m \u001b[1m20s\u001b[0m 6ms/step - loss: 1.1980\n",
            "Epoch 49/100\n",
            "\u001b[1m1954/1954\u001b[0m \u001b[32m━━━━━━━━━━━━━━━━━━━━\u001b[0m\u001b[37m\u001b[0m \u001b[1m11s\u001b[0m 6ms/step - loss: 1.1963\n",
            "Epoch 50/100\n",
            "\u001b[1m1954/1954\u001b[0m \u001b[32m━━━━━━━━━━━━━━━━━━━━\u001b[0m\u001b[37m\u001b[0m \u001b[1m11s\u001b[0m 6ms/step - loss: 1.1906\n",
            "Epoch 51/100\n",
            "\u001b[1m1954/1954\u001b[0m \u001b[32m━━━━━━━━━━━━━━━━━━━━\u001b[0m\u001b[37m\u001b[0m \u001b[1m11s\u001b[0m 6ms/step - loss: 1.1886\n",
            "Epoch 52/100\n",
            "\u001b[1m1954/1954\u001b[0m \u001b[32m━━━━━━━━━━━━━━━━━━━━\u001b[0m\u001b[37m\u001b[0m \u001b[1m11s\u001b[0m 6ms/step - loss: 1.1875\n",
            "Epoch 53/100\n",
            "\u001b[1m1954/1954\u001b[0m \u001b[32m━━━━━━━━━━━━━━━━━━━━\u001b[0m\u001b[37m\u001b[0m \u001b[1m21s\u001b[0m 6ms/step - loss: 1.1867\n",
            "Epoch 54/100\n",
            "\u001b[1m1954/1954\u001b[0m \u001b[32m━━━━━━━━━━━━━━━━━━━━\u001b[0m\u001b[37m\u001b[0m \u001b[1m20s\u001b[0m 6ms/step - loss: 1.1819\n",
            "Epoch 55/100\n",
            "\u001b[1m1954/1954\u001b[0m \u001b[32m━━━━━━━━━━━━━━━━━━━━\u001b[0m\u001b[37m\u001b[0m \u001b[1m11s\u001b[0m 6ms/step - loss: 1.1835\n",
            "Epoch 56/100\n",
            "\u001b[1m1954/1954\u001b[0m \u001b[32m━━━━━━━━━━━━━━━━━━━━\u001b[0m\u001b[37m\u001b[0m \u001b[1m21s\u001b[0m 6ms/step - loss: 1.1833\n",
            "Epoch 57/100\n",
            "\u001b[1m1954/1954\u001b[0m \u001b[32m━━━━━━━━━━━━━━━━━━━━\u001b[0m\u001b[37m\u001b[0m \u001b[1m11s\u001b[0m 6ms/step - loss: 1.1768\n",
            "Epoch 58/100\n",
            "\u001b[1m1954/1954\u001b[0m \u001b[32m━━━━━━━━━━━━━━━━━━━━\u001b[0m\u001b[37m\u001b[0m \u001b[1m11s\u001b[0m 5ms/step - loss: 1.1762\n",
            "Epoch 59/100\n",
            "\u001b[1m1954/1954\u001b[0m \u001b[32m━━━━━━━━━━━━━━━━━━━━\u001b[0m\u001b[37m\u001b[0m \u001b[1m21s\u001b[0m 6ms/step - loss: 1.1722\n",
            "Epoch 60/100\n",
            "\u001b[1m1954/1954\u001b[0m \u001b[32m━━━━━━━━━━━━━━━━━━━━\u001b[0m\u001b[37m\u001b[0m \u001b[1m20s\u001b[0m 6ms/step - loss: 1.1753\n",
            "Epoch 61/100\n",
            "\u001b[1m1954/1954\u001b[0m \u001b[32m━━━━━━━━━━━━━━━━━━━━\u001b[0m\u001b[37m\u001b[0m \u001b[1m11s\u001b[0m 6ms/step - loss: 1.1710\n",
            "Epoch 62/100\n",
            "\u001b[1m1954/1954\u001b[0m \u001b[32m━━━━━━━━━━━━━━━━━━━━\u001b[0m\u001b[37m\u001b[0m \u001b[1m21s\u001b[0m 6ms/step - loss: 1.1670\n",
            "Epoch 63/100\n",
            "\u001b[1m1954/1954\u001b[0m \u001b[32m━━━━━━━━━━━━━━━━━━━━\u001b[0m\u001b[37m\u001b[0m \u001b[1m20s\u001b[0m 6ms/step - loss: 1.1691\n",
            "Epoch 64/100\n",
            "\u001b[1m1954/1954\u001b[0m \u001b[32m━━━━━━━━━━━━━━━━━━━━\u001b[0m\u001b[37m\u001b[0m \u001b[1m11s\u001b[0m 6ms/step - loss: 1.1718\n",
            "Epoch 65/100\n",
            "\u001b[1m1954/1954\u001b[0m \u001b[32m━━━━━━━━━━━━━━━━━━━━\u001b[0m\u001b[37m\u001b[0m \u001b[1m11s\u001b[0m 6ms/step - loss: 1.1633\n",
            "Epoch 66/100\n",
            "\u001b[1m1954/1954\u001b[0m \u001b[32m━━━━━━━━━━━━━━━━━━━━\u001b[0m\u001b[37m\u001b[0m \u001b[1m11s\u001b[0m 6ms/step - loss: 1.1659\n",
            "Epoch 67/100\n",
            "\u001b[1m1954/1954\u001b[0m \u001b[32m━━━━━━━━━━━━━━━━━━━━\u001b[0m\u001b[37m\u001b[0m \u001b[1m11s\u001b[0m 6ms/step - loss: 1.1592\n",
            "Epoch 68/100\n",
            "\u001b[1m1954/1954\u001b[0m \u001b[32m━━━━━━━━━━━━━━━━━━━━\u001b[0m\u001b[37m\u001b[0m \u001b[1m11s\u001b[0m 6ms/step - loss: 1.1616\n",
            "Epoch 69/100\n",
            "\u001b[1m1954/1954\u001b[0m \u001b[32m━━━━━━━━━━━━━━━━━━━━\u001b[0m\u001b[37m\u001b[0m \u001b[1m21s\u001b[0m 6ms/step - loss: 1.1617\n",
            "Epoch 70/100\n",
            "\u001b[1m1954/1954\u001b[0m \u001b[32m━━━━━━━━━━━━━━━━━━━━\u001b[0m\u001b[37m\u001b[0m \u001b[1m20s\u001b[0m 6ms/step - loss: 1.1601\n",
            "Epoch 71/100\n",
            "\u001b[1m1954/1954\u001b[0m \u001b[32m━━━━━━━━━━━━━━━━━━━━\u001b[0m\u001b[37m\u001b[0m \u001b[1m11s\u001b[0m 6ms/step - loss: 1.1583\n",
            "Epoch 72/100\n",
            "\u001b[1m1954/1954\u001b[0m \u001b[32m━━━━━━━━━━━━━━━━━━━━\u001b[0m\u001b[37m\u001b[0m \u001b[1m21s\u001b[0m 6ms/step - loss: 1.1558\n",
            "Epoch 73/100\n",
            "\u001b[1m1954/1954\u001b[0m \u001b[32m━━━━━━━━━━━━━━━━━━━━\u001b[0m\u001b[37m\u001b[0m \u001b[1m20s\u001b[0m 6ms/step - loss: 1.1543\n",
            "Epoch 74/100\n",
            "\u001b[1m1954/1954\u001b[0m \u001b[32m━━━━━━━━━━━━━━━━━━━━\u001b[0m\u001b[37m\u001b[0m \u001b[1m20s\u001b[0m 6ms/step - loss: 1.1535\n",
            "Epoch 75/100\n",
            "\u001b[1m1954/1954\u001b[0m \u001b[32m━━━━━━━━━━━━━━━━━━━━\u001b[0m\u001b[37m\u001b[0m \u001b[1m21s\u001b[0m 6ms/step - loss: 1.1524\n",
            "Epoch 76/100\n",
            "\u001b[1m1954/1954\u001b[0m \u001b[32m━━━━━━━━━━━━━━━━━━━━\u001b[0m\u001b[37m\u001b[0m \u001b[1m11s\u001b[0m 6ms/step - loss: 1.1520\n",
            "Epoch 77/100\n",
            "\u001b[1m1954/1954\u001b[0m \u001b[32m━━━━━━━━━━━━━━━━━━━━\u001b[0m\u001b[37m\u001b[0m \u001b[1m11s\u001b[0m 6ms/step - loss: 1.1522\n",
            "Epoch 78/100\n",
            "\u001b[1m1954/1954\u001b[0m \u001b[32m━━━━━━━━━━━━━━━━━━━━\u001b[0m\u001b[37m\u001b[0m \u001b[1m21s\u001b[0m 6ms/step - loss: 1.1501\n",
            "Epoch 79/100\n",
            "\u001b[1m1954/1954\u001b[0m \u001b[32m━━━━━━━━━━━━━━━━━━━━\u001b[0m\u001b[37m\u001b[0m \u001b[1m11s\u001b[0m 6ms/step - loss: 1.1483\n",
            "Epoch 80/100\n",
            "\u001b[1m1954/1954\u001b[0m \u001b[32m━━━━━━━━━━━━━━━━━━━━\u001b[0m\u001b[37m\u001b[0m \u001b[1m20s\u001b[0m 6ms/step - loss: 1.1472\n",
            "Epoch 81/100\n",
            "\u001b[1m1954/1954\u001b[0m \u001b[32m━━━━━━━━━━━━━━━━━━━━\u001b[0m\u001b[37m\u001b[0m \u001b[1m21s\u001b[0m 6ms/step - loss: 1.1488\n",
            "Epoch 82/100\n",
            "\u001b[1m1954/1954\u001b[0m \u001b[32m━━━━━━━━━━━━━━━━━━━━\u001b[0m\u001b[37m\u001b[0m \u001b[1m11s\u001b[0m 6ms/step - loss: 1.1458\n",
            "Epoch 83/100\n",
            "\u001b[1m1954/1954\u001b[0m \u001b[32m━━━━━━━━━━━━━━━━━━━━\u001b[0m\u001b[37m\u001b[0m \u001b[1m21s\u001b[0m 6ms/step - loss: 1.1454\n",
            "Epoch 84/100\n",
            "\u001b[1m1954/1954\u001b[0m \u001b[32m━━━━━━━━━━━━━━━━━━━━\u001b[0m\u001b[37m\u001b[0m \u001b[1m11s\u001b[0m 6ms/step - loss: 1.1456\n",
            "Epoch 85/100\n",
            "\u001b[1m1954/1954\u001b[0m \u001b[32m━━━━━━━━━━━━━━━━━━━━\u001b[0m\u001b[37m\u001b[0m \u001b[1m11s\u001b[0m 6ms/step - loss: 1.1448\n",
            "Epoch 86/100\n",
            "\u001b[1m1954/1954\u001b[0m \u001b[32m━━━━━━━━━━━━━━━━━━━━\u001b[0m\u001b[37m\u001b[0m \u001b[1m20s\u001b[0m 6ms/step - loss: 1.1425\n",
            "Epoch 87/100\n",
            "\u001b[1m1954/1954\u001b[0m \u001b[32m━━━━━━━━━━━━━━━━━━━━\u001b[0m\u001b[37m\u001b[0m \u001b[1m21s\u001b[0m 6ms/step - loss: 1.1409\n",
            "Epoch 88/100\n",
            "\u001b[1m1954/1954\u001b[0m \u001b[32m━━━━━━━━━━━━━━━━━━━━\u001b[0m\u001b[37m\u001b[0m \u001b[1m11s\u001b[0m 6ms/step - loss: 1.1401\n",
            "Epoch 89/100\n",
            "\u001b[1m1954/1954\u001b[0m \u001b[32m━━━━━━━━━━━━━━━━━━━━\u001b[0m\u001b[37m\u001b[0m \u001b[1m21s\u001b[0m 6ms/step - loss: 1.1375\n",
            "Epoch 90/100\n",
            "\u001b[1m1954/1954\u001b[0m \u001b[32m━━━━━━━━━━━━━━━━━━━━\u001b[0m\u001b[37m\u001b[0m \u001b[1m11s\u001b[0m 6ms/step - loss: 1.1365\n",
            "Epoch 91/100\n",
            "\u001b[1m1954/1954\u001b[0m \u001b[32m━━━━━━━━━━━━━━━━━━━━\u001b[0m\u001b[37m\u001b[0m \u001b[1m20s\u001b[0m 6ms/step - loss: 1.1418\n",
            "Epoch 92/100\n",
            "\u001b[1m1954/1954\u001b[0m \u001b[32m━━━━━━━━━━━━━━━━━━━━\u001b[0m\u001b[37m\u001b[0m \u001b[1m21s\u001b[0m 6ms/step - loss: 1.1361\n",
            "Epoch 93/100\n",
            "\u001b[1m1954/1954\u001b[0m \u001b[32m━━━━━━━━━━━━━━━━━━━━\u001b[0m\u001b[37m\u001b[0m \u001b[1m20s\u001b[0m 6ms/step - loss: 1.1359\n",
            "Epoch 94/100\n",
            "\u001b[1m1954/1954\u001b[0m \u001b[32m━━━━━━━━━━━━━━━━━━━━\u001b[0m\u001b[37m\u001b[0m \u001b[1m11s\u001b[0m 6ms/step - loss: 1.1351\n",
            "Epoch 95/100\n",
            "\u001b[1m1954/1954\u001b[0m \u001b[32m━━━━━━━━━━━━━━━━━━━━\u001b[0m\u001b[37m\u001b[0m \u001b[1m11s\u001b[0m 6ms/step - loss: 1.1324\n",
            "Epoch 96/100\n",
            "\u001b[1m1954/1954\u001b[0m \u001b[32m━━━━━━━━━━━━━━━━━━━━\u001b[0m\u001b[37m\u001b[0m \u001b[1m11s\u001b[0m 6ms/step - loss: 1.1354\n",
            "Epoch 97/100\n",
            "\u001b[1m1954/1954\u001b[0m \u001b[32m━━━━━━━━━━━━━━━━━━━━\u001b[0m\u001b[37m\u001b[0m \u001b[1m20s\u001b[0m 6ms/step - loss: 1.1367\n",
            "Epoch 98/100\n",
            "\u001b[1m1954/1954\u001b[0m \u001b[32m━━━━━━━━━━━━━━━━━━━━\u001b[0m\u001b[37m\u001b[0m \u001b[1m11s\u001b[0m 6ms/step - loss: 1.1350\n",
            "Epoch 99/100\n",
            "\u001b[1m1954/1954\u001b[0m \u001b[32m━━━━━━━━━━━━━━━━━━━━\u001b[0m\u001b[37m\u001b[0m \u001b[1m11s\u001b[0m 6ms/step - loss: 1.1334\n",
            "Epoch 100/100\n",
            "\u001b[1m1954/1954\u001b[0m \u001b[32m━━━━━━━━━━━━━━━━━━━━\u001b[0m\u001b[37m\u001b[0m \u001b[1m21s\u001b[0m 6ms/step - loss: 1.1346\n"
          ]
        }
      ],
      "source": [
        "historial_cc2 = modelo_c_c2.fit(X, y, batch_size=256, epochs=100)"
      ]
    },
    {
      "cell_type": "code",
      "execution_count": null,
      "metadata": {
        "colab": {
          "base_uri": "https://localhost:8080/",
          "height": 607
        },
        "id": "fkv9Ic7TCvLQ",
        "outputId": "9b05ef46-d70f-43e8-fe62-aafb60f4e4c2"
      },
      "outputs": [
        {
          "data": {
            "image/png": "[encoded data removed]",
            "text/plain": [
              "<Figure size 1400x600 with 2 Axes>"
            ]
          },
          "metadata": {},
          "output_type": "display_data"
        }
      ],
      "source": [
        "graficar_historial_entrenamiento(historial_cc2)"
      ]
    },
    {
      "cell_type": "markdown",
      "metadata": {
        "id": "mG073cn3shrg"
      },
      "source": [
        "El ajuste del batch size a un valor mayor tuvo un impacto claro en la forma en que el modelo aprendió a lo largo del entrenamiento. Al emplear un tamaño de batch de 256, el modelo mostró una convergencia más estable, con una curva de pérdida que disminuye de manera más suave y progresiva. Esto se debe a que, con un mayor número de muestras en cada actualización, el gradiente calculado es más representativo, lo que reduce la variabilidad en las actualizaciones de los pesos. Si bien esta estabilidad favorece una trayectoria de aprendizaje más consistente, también tiende a limitar la capacidad del modelo para capturar patrones más específicos y sutiles de los datos. En comparación con el modelo anterior, que usó un batch size de 128, se observa que la pérdida final es ligeramente más alta, lo que indica que el ajuste logrado fue algo menos preciso.\n",
        "\n",
        "Desde el punto de vista de la eficiencia, el aumento del batch size permitió reducir el tiempo por época, aprovechando de mejor forma los recursos computacionales, especialmente cuando se utiliza una GPU. Esta mejora en el rendimiento computacional hizo posible completar cada época en menor tiempo, contribuyendo a una mayor rapidez del entrenamiento. Sin embargo, este beneficio viene acompañado de una pequeña pérdida en la capacidad del modelo para generalizar. Aunque el modelo con batch size 256 logra reducir consistentemente la pérdida a lo largo del entrenamiento, se puede observar que la curva comienza a estabilizarse desde épocas relativamente tempranas, alrededor de la época 40. A partir de ese punto, las disminuciones en la pérdida se vuelven más lentas y graduales, manteniéndose en torno a valores entre 1.14 y 1.13 hacia el final del entrenamiento. Esta estabilización anticipada sugiere que el modelo llegó rápidamente a un punto cercano al mínimo de la función de pérdida, pero sin la misma capacidad de ajuste fino que mostró el modelo anterior. En contraste, el modelo con batch size 128 continuaba ajustándose de forma más activa incluso pasadas las 60 épocas, lo que refleja una mayor sensibilidad a los datos y una convergencia más flexible.\n",
        "\n",
        "En conjunto, este experimento evidencia cómo el batch size actúa como un hiperparámetro crítico que afecta directamente el equilibrio entre la velocidad de entrenamiento y la capacidad de ajuste del modelo. Un tamaño de lote mayor ofrece ventajas en términos de eficiencia, pero puede limitar la precisión del aprendizaje, especialmente en tareas donde los matices del lenguaje, como en la generación de texto carácter a carácter, requieren ajustes más detallados. Por lo tanto, la elección del batch size debe considerar tanto los objetivos del modelo como las capacidades del entorno de entrenamiento."
      ]
    },
    {
      "cell_type": "code",
      "execution_count": null,
      "metadata": {
        "colab": {
          "base_uri": "https://localhost:8080/"
        },
        "id": "UojUYRERDYeO",
        "outputId": "5e46be6d-228e-4348-ce9c-905d5703f66b"
      },
      "outputs": [
        {
          "name": "stdout",
          "output_type": "stream",
          "text": [
            "Semilla: 'en un lugar de la man'\n",
            "\n",
            "Con temperatura 0.2: en un lugar de la mano y esto de la mano y de los mas de la sangre y asi le dijo  deshora de la caballeria a la parte de la mancha que tenia a la mujer de la mancha      capitulo xvii taldida con el de la mano y el caso d\n",
            "\n",
            "Con temperatura 0.5: en un lugar de la mano el cual el palabras por mas libros y aunque mas a mi desgracia en la mano y dijo don quijote que viene en efcones de la casta que se debe de don quijote y de la barba y asi me lo que se tuvo en el c\n",
            "\n",
            "Con temperatura 1.0: en un lugar de la mano pues todo sin comilaba que no tendria de segun el maes ligera  se le barro ya le parecio admir yo dar para otro al boca y conoce el juego la enemigo que pudiese por sus abrandas con vuestra ventura \n",
            "\n",
            "Semilla: 'don quijo'\n",
            "\n",
            "Con temperatura 0.2: don quijosegres a descaisa de la mano y asi es dijo don quijote y por lo que se le parecia en el mundo y no tan a su casa y de los caballero que el castillo verdadera y si el estaba de mi alma de la carta y de\n",
            "\n",
            "Con temperatura 0.5: don quijoyer lo que ha muchas recibio le diese estaba no se le pone en los caballeros andantes que en aquella visto con a la venta y el camino y con otras caranas de su amo y en la mano y dio a sancho que el m\n",
            "\n",
            "Con temperatura 1.0: don quijoyernda auchado al mundo y sera a mi otra merecido y veras que las quiterlas todos estaban de mi landara antes que no a entender otro sabe falta de mi vintiendose al grondo la huita  ahora en mostrasta\n",
            "\n",
            "Semilla: 'el caballe'\n",
            "\n",
            "Con temperatura 0.2: el caballero dedio don quijote      capitulo xxv  en todo se llamaba y que el deseo que esta manera que la vida y desta manera que en esto a la de la cabeza y asi se le parecia la venta y a lo que parece que se\n",
            "\n",
            "Con temperatura 0.5: el caballero dedio don quijote y por lo que es la cabeza a lo que respondio don quijote parecion que yo le acortaban a descantamanaran el cura se le piensa por al parte de nosotros los de la andan en el cual el\n",
            "\n",
            "Con temperatura 1.0: el caballero dedio dicho cintulpadas mostras y sabia dos tambien porfiabas lascas sin despocarona vienen      capitulote diando esto trabajo que el fanta el prinoio de darse un bachiller  no tomado arnelaciose \n",
            "\n"
          ]
        }
      ],
      "source": [
        "predicciones(modelo_c_c2, caracteres_indices, idx2char, SEQ_LENGTH)"
      ]
    },
    {
      "cell_type": "markdown",
      "metadata": {
        "id": "5R9v8e8cW_06"
      },
      "source": [
        "Las predicciones del modelo entrenado con un batch size aumentado a 256 muestran un cambio importante en el equilibrio entre coherencia y variabilidad al generar texto, especialmente al compararlo con el modelo con batch size 128.\n",
        "\n",
        "A temperatura 0.2, este modelo tiende aún más a la repetición, pero con un deterioro en la calidad del texto. En lugar de generar frases ordenadas como “en la mano y el señor don Quijote” (observadas en el modelo anterior), ahora repite combinaciones como “de la mano y de la mancha” o “el caballero de la cabeza”, que aunque son sintácticamente válidas, aparecen de forma reiterativa y con menor riqueza estructural. El lenguaje suena mecánico y poco flexible, mostrando que el modelo prefiere soluciones extremadamente seguras pero con menos diversidad y fluidez narrativa.\n",
        "\n",
        "Con una temperatura de 0.5, la diferencia respecto al modelo anterior es más notoria. Si bien el primer modelo generaba frases variadas y coherentes como “el caballero que no hay amor después de haberle dicho de don Quijote”, este segundo modelo produce secuencias menos claras como “no se le pone en los caballeros andantes” o “yo le acortaban a descantamanaran el cura”. Las construcciones intentan introducir diversidad, pero presentan errores gramaticales, verbos mal conjugados o expresiones que carecen de lógica interna. Esto evidencia una pérdida de control estructural en el intento por generar contenido más creativo.\n",
        "\n",
        "Cuando subimos a temperatura 1.0, la generación se vuelve mucho más inestable que en el primer modelo. En lugar de frases creativas pero comprensibles, como “el cual vive más que el tepia cuentan” (del modelo 128), aquí aparecen palabras completamente inventadas o mal formadas, como “comilaba”, “auchado al mundo”, o “arnelaciose”. El texto pierde su forma narrativa casi por completo, y las secuencias son difíciles de interpretar, señal de que el modelo no logra mantener el equilibrio entre aleatoriedad y estructura cuando se le exige mayor flexibilidad.\n",
        "\n",
        "En resumen, aunque ambos modelos responden a la temperatura de forma predecible, el modelo con batch size de 256 muestra menor capacidad de generalización y peor manejo del lenguaje. Esto se refleja especialmente en su mayor rigidez a temperaturas bajas y su desorganización a temperaturas altas. El cambio de batch size, si bien puede mejorar la eficiencia computacional durante el entrenamiento, reduce la precisión en la adaptación a patrones finos del lenguaje, lo que se traduce en textos menos coherentes y de menor calidad narrativa en tareas de generación carácter a carácter."
      ]
    },
    {
      "cell_type": "markdown",
      "metadata": {
        "id": "2FXJJ2z8Ca06"
      },
      "source": [
        "##Modelo 3 - Cambio en arquitectura"
      ]
    },
    {
      "cell_type": "markdown",
      "metadata": {
        "id": "rhc7fWUUyzeP"
      },
      "source": [
        "En esta nueva iteración del modelo, el principal cambio implementado consiste en modificar la arquitectura base utilizando una capa LSTM bidireccional. Mientras que en los modelos anteriores la red procesaba el texto únicamente en una dirección (de izquierda a derecha), ahora se incorpora una capa Bidirectional que permite a la red recorrer la secuencia tanto hacia adelante como hacia atrás. Esta modificación tiene como objetivo proporcionar al modelo un mayor contexto a la hora de predecir el siguiente carácter, ya que ahora puede considerar tanto lo que viene antes como lo que sigue a cada posición de la secuencia en entrenamiento.\n",
        "\n",
        "Para asegurar que los resultados sean comparables con los 2 modelos anteriores, se mantuvo el batch size en 128 y el número de épocas en 100, replicando las mismas condiciones de entrenamiento y así poder evaluar el impacto exclusivo del cambio arquitectónico. La arquitectura completa incluye una primera capa LSTM bidireccional con return_sequences=True, seguida de una segunda capa LSTM unidireccional que procesa la secuencia completa, y finalmente una capa densa con activación softmax para predecir la distribución de probabilidad del siguiente carácter. Este diseño permite capturar dependencias más complejas en el texto, lo cual es especialmente valioso en el modelado de lenguaje carácter a carácter.\n",
        "\n",
        "El motivo de este cambio arquitectónico es mejorar la calidad narrativa y la coherencia contextual del texto generado, enfrentando una limitación común en modelos unidireccionales: su dependencia exclusiva de la información previa. Al utilizar una capa bidireccional, el modelo ahora puede analizar cada carácter considerando tanto lo que viene antes como lo que viene después dentro de la secuencia de entrada, lo que le permite hacer predicciones más informadas y precisas. Esta doble perspectiva ayuda a capturar patrones más complejos y contextos simétricos, lo cual resulta especialmente útil en tareas de modelado de lenguaje carácter a carácter."
      ]
    },
    {
      "cell_type": "code",
      "execution_count": null,
      "metadata": {
        "id": "j3aOiUFFCaUo"
      },
      "outputs": [],
      "source": [
        "def crear_modelo2(seq_length, vocab_size, model_name):\n",
        "    input_len = seq_length\n",
        "    model = tf.keras.models.Sequential(name=model_name)\n",
        "    model.add(tf.keras.layers.Input(shape=(input_len, vocab_size), name=\"Entrada\"))\n",
        "    model.add(Bidirectional(tf.keras.layers.LSTM(128, return_sequences=True)))\n",
        "    model.add(tf.keras.layers.LSTM(128, name=\"CapaLSTM\"))\n",
        "    model.add(tf.keras.layers.Dense(vocab_size, activation='softmax', name=\"Salida\"))\n",
        "    model.compile(loss='categorical_crossentropy', optimizer='adam')\n",
        "    return model"
      ]
    },
    {
      "cell_type": "code",
      "execution_count": null,
      "metadata": {
        "colab": {
          "base_uri": "https://localhost:8080/",
          "height": 225
        },
        "id": "4LKdCVntCqDS",
        "outputId": "3da03398-4854-4f15-d9c4-358a17a6146b"
      },
      "outputs": [
        {
          "data": {
            "text/html": [
              "<pre style=\"white-space:pre;overflow-x:auto;line-height:normal;font-family:Menlo,'DejaVu Sans Mono',consolas,'Courier New',monospace\"><span style=\"font-weight: bold\">Model: \"Bidireccional\"</span>\n",
              "</pre>\n"
            ],
            "text/plain": [
              "\u001b[1mModel: \"Bidireccional\"\u001b[0m\n"
            ]
          },
          "metadata": {},
          "output_type": "display_data"
        },
        {
          "data": {
            "text/html": [
              "<pre style=\"white-space:pre;overflow-x:auto;line-height:normal;font-family:Menlo,'DejaVu Sans Mono',consolas,'Courier New',monospace\">┏━━━━━━━━━━━━━━━━━━━━━━━━━━━━━━━━━┳━━━━━━━━━━━━━━━━━━━━━━━━┳━━━━━━━━━━━━━━━┓\n",
              "┃<span style=\"font-weight: bold\"> Layer (type)                    </span>┃<span style=\"font-weight: bold\"> Output Shape           </span>┃<span style=\"font-weight: bold\">       Param # </span>┃\n",
              "┡━━━━━━━━━━━━━━━━━━━━━━━━━━━━━━━━━╇━━━━━━━━━━━━━━━━━━━━━━━━╇━━━━━━━━━━━━━━━┩\n",
              "│ bidirectional (<span style=\"color: #0087ff; text-decoration-color: #0087ff\">Bidirectional</span>)   │ (<span style=\"color: #00d7ff; text-decoration-color: #00d7ff\">None</span>, <span style=\"color: #00af00; text-decoration-color: #00af00\">30</span>, <span style=\"color: #00af00; text-decoration-color: #00af00\">256</span>)        │       <span style=\"color: #00af00; text-decoration-color: #00af00\">166,912</span> │\n",
              "├─────────────────────────────────┼────────────────────────┼───────────────┤\n",
              "│ CapaLSTM (<span style=\"color: #0087ff; text-decoration-color: #0087ff\">LSTM</span>)                 │ (<span style=\"color: #00d7ff; text-decoration-color: #00d7ff\">None</span>, <span style=\"color: #00af00; text-decoration-color: #00af00\">128</span>)            │       <span style=\"color: #00af00; text-decoration-color: #00af00\">197,120</span> │\n",
              "├─────────────────────────────────┼────────────────────────┼───────────────┤\n",
              "│ Salida (<span style=\"color: #0087ff; text-decoration-color: #0087ff\">Dense</span>)                  │ (<span style=\"color: #00d7ff; text-decoration-color: #00d7ff\">None</span>, <span style=\"color: #00af00; text-decoration-color: #00af00\">34</span>)             │         <span style=\"color: #00af00; text-decoration-color: #00af00\">4,386</span> │\n",
              "└─────────────────────────────────┴────────────────────────┴───────────────┘\n",
              "</pre>\n"
            ],
            "text/plain": [
              "┏━━━━━━━━━━━━━━━━━━━━━━━━━━━━━━━━━┳━━━━━━━━━━━━━━━━━━━━━━━━┳━━━━━━━━━━━━━━━┓\n",
              "┃\u001b[1m \u001b[0m\u001b[1mLayer (type)                   \u001b[0m\u001b[1m \u001b[0m┃\u001b[1m \u001b[0m\u001b[1mOutput Shape          \u001b[0m\u001b[1m \u001b[0m┃\u001b[1m \u001b[0m\u001b[1m      Param #\u001b[0m\u001b[1m \u001b[0m┃\n",
              "┡━━━━━━━━━━━━━━━━━━━━━━━━━━━━━━━━━╇━━━━━━━━━━━━━━━━━━━━━━━━╇━━━━━━━━━━━━━━━┩\n",
              "│ bidirectional (\u001b[38;5;33mBidirectional\u001b[0m)   │ (\u001b[38;5;45mNone\u001b[0m, \u001b[38;5;34m30\u001b[0m, \u001b[38;5;34m256\u001b[0m)        │       \u001b[38;5;34m166,912\u001b[0m │\n",
              "├─────────────────────────────────┼────────────────────────┼───────────────┤\n",
              "│ CapaLSTM (\u001b[38;5;33mLSTM\u001b[0m)                 │ (\u001b[38;5;45mNone\u001b[0m, \u001b[38;5;34m128\u001b[0m)            │       \u001b[38;5;34m197,120\u001b[0m │\n",
              "├─────────────────────────────────┼────────────────────────┼───────────────┤\n",
              "│ Salida (\u001b[38;5;33mDense\u001b[0m)                  │ (\u001b[38;5;45mNone\u001b[0m, \u001b[38;5;34m34\u001b[0m)             │         \u001b[38;5;34m4,386\u001b[0m │\n",
              "└─────────────────────────────────┴────────────────────────┴───────────────┘\n"
            ]
          },
          "metadata": {},
          "output_type": "display_data"
        },
        {
          "data": {
            "text/html": [
              "<pre style=\"white-space:pre;overflow-x:auto;line-height:normal;font-family:Menlo,'DejaVu Sans Mono',consolas,'Courier New',monospace\"><span style=\"font-weight: bold\"> Total params: </span><span style=\"color: #00af00; text-decoration-color: #00af00\">368,418</span> (1.41 MB)\n",
              "</pre>\n"
            ],
            "text/plain": [
              "\u001b[1m Total params: \u001b[0m\u001b[38;5;34m368,418\u001b[0m (1.41 MB)\n"
            ]
          },
          "metadata": {},
          "output_type": "display_data"
        },
        {
          "data": {
            "text/html": [
              "<pre style=\"white-space:pre;overflow-x:auto;line-height:normal;font-family:Menlo,'DejaVu Sans Mono',consolas,'Courier New',monospace\"><span style=\"font-weight: bold\"> Trainable params: </span><span style=\"color: #00af00; text-decoration-color: #00af00\">368,418</span> (1.41 MB)\n",
              "</pre>\n"
            ],
            "text/plain": [
              "\u001b[1m Trainable params: \u001b[0m\u001b[38;5;34m368,418\u001b[0m (1.41 MB)\n"
            ]
          },
          "metadata": {},
          "output_type": "display_data"
        },
        {
          "data": {
            "text/html": [
              "<pre style=\"white-space:pre;overflow-x:auto;line-height:normal;font-family:Menlo,'DejaVu Sans Mono',consolas,'Courier New',monospace\"><span style=\"font-weight: bold\"> Non-trainable params: </span><span style=\"color: #00af00; text-decoration-color: #00af00\">0</span> (0.00 B)\n",
              "</pre>\n"
            ],
            "text/plain": [
              "\u001b[1m Non-trainable params: \u001b[0m\u001b[38;5;34m0\u001b[0m (0.00 B)\n"
            ]
          },
          "metadata": {},
          "output_type": "display_data"
        }
      ],
      "source": [
        "modelo_c_c3 = crear_modelo2(SEQ_LENGTH, len(caracteres_indices), \"Bidireccional\")\n",
        "modelo_c_c3.summary()"
      ]
    },
    {
      "cell_type": "code",
      "execution_count": null,
      "metadata": {
        "colab": {
          "base_uri": "https://localhost:8080/"
        },
        "id": "SYR6XxzkCkML",
        "outputId": "a0941330-aa11-4e6b-e19b-8ae2a0c72c06"
      },
      "outputs": [
        {
          "name": "stdout",
          "output_type": "stream",
          "text": [
            "Epoch 1/100\n",
            "\u001b[1m3907/3907\u001b[0m \u001b[32m━━━━━━━━━━━━━━━━━━━━\u001b[0m\u001b[37m\u001b[0m \u001b[1m42s\u001b[0m 10ms/step - loss: 2.0900\n",
            "Epoch 2/100\n",
            "\u001b[1m3907/3907\u001b[0m \u001b[32m━━━━━━━━━━━━━━━━━━━━\u001b[0m\u001b[37m\u001b[0m \u001b[1m40s\u001b[0m 10ms/step - loss: 1.5321\n",
            "Epoch 3/100\n",
            "\u001b[1m3907/3907\u001b[0m \u001b[32m━━━━━━━━━━━━━━━━━━━━\u001b[0m\u001b[37m\u001b[0m \u001b[1m41s\u001b[0m 10ms/step - loss: 1.3940\n",
            "Epoch 4/100\n",
            "\u001b[1m3907/3907\u001b[0m \u001b[32m━━━━━━━━━━━━━━━━━━━━\u001b[0m\u001b[37m\u001b[0m \u001b[1m42s\u001b[0m 10ms/step - loss: 1.3252\n",
            "Epoch 5/100\n",
            "\u001b[1m3907/3907\u001b[0m \u001b[32m━━━━━━━━━━━━━━━━━━━━\u001b[0m\u001b[37m\u001b[0m \u001b[1m40s\u001b[0m 10ms/step - loss: 1.2771\n",
            "Epoch 6/100\n",
            "\u001b[1m3907/3907\u001b[0m \u001b[32m━━━━━━━━━━━━━━━━━━━━\u001b[0m\u001b[37m\u001b[0m \u001b[1m41s\u001b[0m 10ms/step - loss: 1.2384\n",
            "Epoch 7/100\n",
            "\u001b[1m3907/3907\u001b[0m \u001b[32m━━━━━━━━━━━━━━━━━━━━\u001b[0m\u001b[37m\u001b[0m \u001b[1m41s\u001b[0m 10ms/step - loss: 1.2146\n",
            "Epoch 8/100\n",
            "\u001b[1m3907/3907\u001b[0m \u001b[32m━━━━━━━━━━━━━━━━━━━━\u001b[0m\u001b[37m\u001b[0m \u001b[1m41s\u001b[0m 10ms/step - loss: 1.1906\n",
            "Epoch 9/100\n",
            "\u001b[1m3907/3907\u001b[0m \u001b[32m━━━━━━━━━━━━━━━━━━━━\u001b[0m\u001b[37m\u001b[0m \u001b[1m42s\u001b[0m 10ms/step - loss: 1.1698\n",
            "Epoch 10/100\n",
            "\u001b[1m3907/3907\u001b[0m \u001b[32m━━━━━━━━━━━━━━━━━━━━\u001b[0m\u001b[37m\u001b[0m \u001b[1m40s\u001b[0m 10ms/step - loss: 1.1489\n",
            "Epoch 11/100\n",
            "\u001b[1m3907/3907\u001b[0m \u001b[32m━━━━━━━━━━━━━━━━━━━━\u001b[0m\u001b[37m\u001b[0m \u001b[1m41s\u001b[0m 10ms/step - loss: 1.1335\n",
            "Epoch 12/100\n",
            "\u001b[1m3907/3907\u001b[0m \u001b[32m━━━━━━━━━━━━━━━━━━━━\u001b[0m\u001b[37m\u001b[0m \u001b[1m41s\u001b[0m 10ms/step - loss: 1.1164\n",
            "Epoch 13/100\n",
            "\u001b[1m3907/3907\u001b[0m \u001b[32m━━━━━━━━━━━━━━━━━━━━\u001b[0m\u001b[37m\u001b[0m \u001b[1m41s\u001b[0m 10ms/step - loss: 1.1048\n",
            "Epoch 14/100\n",
            "\u001b[1m3907/3907\u001b[0m \u001b[32m━━━━━━━━━━━━━━━━━━━━\u001b[0m\u001b[37m\u001b[0m \u001b[1m40s\u001b[0m 10ms/step - loss: 1.0908\n",
            "Epoch 15/100\n",
            "\u001b[1m3907/3907\u001b[0m \u001b[32m━━━━━━━━━━━━━━━━━━━━\u001b[0m\u001b[37m\u001b[0m \u001b[1m40s\u001b[0m 10ms/step - loss: 1.0799\n",
            "Epoch 16/100\n",
            "\u001b[1m3907/3907\u001b[0m \u001b[32m━━━━━━━━━━━━━━━━━━━━\u001b[0m\u001b[37m\u001b[0m \u001b[1m41s\u001b[0m 10ms/step - loss: 1.0666\n",
            "Epoch 17/100\n",
            "\u001b[1m3907/3907\u001b[0m \u001b[32m━━━━━━━━━━━━━━━━━━━━\u001b[0m\u001b[37m\u001b[0m \u001b[1m41s\u001b[0m 10ms/step - loss: 1.0578\n",
            "Epoch 18/100\n",
            "\u001b[1m3907/3907\u001b[0m \u001b[32m━━━━━━━━━━━━━━━━━━━━\u001b[0m\u001b[37m\u001b[0m \u001b[1m41s\u001b[0m 10ms/step - loss: 1.0484\n",
            "Epoch 19/100\n",
            "\u001b[1m3907/3907\u001b[0m \u001b[32m━━━━━━━━━━━━━━━━━━━━\u001b[0m\u001b[37m\u001b[0m \u001b[1m41s\u001b[0m 10ms/step - loss: 1.0367\n",
            "Epoch 20/100\n",
            "\u001b[1m3907/3907\u001b[0m \u001b[32m━━━━━━━━━━━━━━━━━━━━\u001b[0m\u001b[37m\u001b[0m \u001b[1m41s\u001b[0m 10ms/step - loss: 1.0292\n",
            "Epoch 21/100\n",
            "\u001b[1m3907/3907\u001b[0m \u001b[32m━━━━━━━━━━━━━━━━━━━━\u001b[0m\u001b[37m\u001b[0m \u001b[1m40s\u001b[0m 10ms/step - loss: 1.0177\n",
            "Epoch 22/100\n",
            "\u001b[1m3907/3907\u001b[0m \u001b[32m━━━━━━━━━━━━━━━━━━━━\u001b[0m\u001b[37m\u001b[0m \u001b[1m41s\u001b[0m 10ms/step - loss: 1.0107\n",
            "Epoch 23/100\n",
            "\u001b[1m3907/3907\u001b[0m \u001b[32m━━━━━━━━━━━━━━━━━━━━\u001b[0m\u001b[37m\u001b[0m \u001b[1m41s\u001b[0m 10ms/step - loss: 1.0011\n",
            "Epoch 24/100\n",
            "\u001b[1m3907/3907\u001b[0m \u001b[32m━━━━━━━━━━━━━━━━━━━━\u001b[0m\u001b[37m\u001b[0m \u001b[1m40s\u001b[0m 10ms/step - loss: 0.9917\n",
            "Epoch 25/100\n",
            "\u001b[1m3907/3907\u001b[0m \u001b[32m━━━━━━━━━━━━━━━━━━━━\u001b[0m\u001b[37m\u001b[0m \u001b[1m41s\u001b[0m 10ms/step - loss: 0.9844\n",
            "Epoch 26/100\n",
            "\u001b[1m3907/3907\u001b[0m \u001b[32m━━━━━━━━━━━━━━━━━━━━\u001b[0m\u001b[37m\u001b[0m \u001b[1m40s\u001b[0m 10ms/step - loss: 0.9789\n",
            "Epoch 27/100\n",
            "\u001b[1m3907/3907\u001b[0m \u001b[32m━━━━━━━━━━━━━━━━━━━━\u001b[0m\u001b[37m\u001b[0m \u001b[1m41s\u001b[0m 10ms/step - loss: 0.9724\n",
            "Epoch 28/100\n",
            "\u001b[1m3907/3907\u001b[0m \u001b[32m━━━━━━━━━━━━━━━━━━━━\u001b[0m\u001b[37m\u001b[0m \u001b[1m40s\u001b[0m 10ms/step - loss: 0.9643\n",
            "Epoch 29/100\n",
            "\u001b[1m3907/3907\u001b[0m \u001b[32m━━━━━━━━━━━━━━━━━━━━\u001b[0m\u001b[37m\u001b[0m \u001b[1m41s\u001b[0m 10ms/step - loss: 0.9571\n",
            "Epoch 30/100\n",
            "\u001b[1m3907/3907\u001b[0m \u001b[32m━━━━━━━━━━━━━━━━━━━━\u001b[0m\u001b[37m\u001b[0m \u001b[1m41s\u001b[0m 10ms/step - loss: 0.9498\n",
            "Epoch 31/100\n",
            "\u001b[1m3907/3907\u001b[0m \u001b[32m━━━━━━━━━━━━━━━━━━━━\u001b[0m\u001b[37m\u001b[0m \u001b[1m41s\u001b[0m 10ms/step - loss: 0.9431\n",
            "Epoch 32/100\n",
            "\u001b[1m3907/3907\u001b[0m \u001b[32m━━━━━━━━━━━━━━━━━━━━\u001b[0m\u001b[37m\u001b[0m \u001b[1m40s\u001b[0m 10ms/step - loss: 0.9390\n",
            "Epoch 33/100\n",
            "\u001b[1m3907/3907\u001b[0m \u001b[32m━━━━━━━━━━━━━━━━━━━━\u001b[0m\u001b[37m\u001b[0m \u001b[1m41s\u001b[0m 10ms/step - loss: 0.9339\n",
            "Epoch 34/100\n",
            "\u001b[1m3907/3907\u001b[0m \u001b[32m━━━━━━━━━━━━━━━━━━━━\u001b[0m\u001b[37m\u001b[0m \u001b[1m40s\u001b[0m 10ms/step - loss: 0.9250\n",
            "Epoch 35/100\n",
            "\u001b[1m3907/3907\u001b[0m \u001b[32m━━━━━━━━━━━━━━━━━━━━\u001b[0m\u001b[37m\u001b[0m \u001b[1m41s\u001b[0m 10ms/step - loss: 0.9208\n",
            "Epoch 36/100\n",
            "\u001b[1m3907/3907\u001b[0m \u001b[32m━━━━━━━━━━━━━━━━━━━━\u001b[0m\u001b[37m\u001b[0m \u001b[1m41s\u001b[0m 10ms/step - loss: 0.9145\n",
            "Epoch 37/100\n",
            "\u001b[1m3907/3907\u001b[0m \u001b[32m━━━━━━━━━━━━━━━━━━━━\u001b[0m\u001b[37m\u001b[0m \u001b[1m41s\u001b[0m 10ms/step - loss: 0.9101\n",
            "Epoch 38/100\n",
            "\u001b[1m3907/3907\u001b[0m \u001b[32m━━━━━━━━━━━━━━━━━━━━\u001b[0m\u001b[37m\u001b[0m \u001b[1m41s\u001b[0m 10ms/step - loss: 0.9052\n",
            "Epoch 39/100\n",
            "\u001b[1m3907/3907\u001b[0m \u001b[32m━━━━━━━━━━━━━━━━━━━━\u001b[0m\u001b[37m\u001b[0m \u001b[1m41s\u001b[0m 10ms/step - loss: 0.8995\n",
            "Epoch 40/100\n",
            "\u001b[1m3907/3907\u001b[0m \u001b[32m━━━━━━━━━━━━━━━━━━━━\u001b[0m\u001b[37m\u001b[0m \u001b[1m40s\u001b[0m 10ms/step - loss: 0.8949\n",
            "Epoch 41/100\n",
            "\u001b[1m3907/3907\u001b[0m \u001b[32m━━━━━━━━━━━━━━━━━━━━\u001b[0m\u001b[37m\u001b[0m \u001b[1m41s\u001b[0m 10ms/step - loss: 0.8938\n",
            "Epoch 42/100\n",
            "\u001b[1m3907/3907\u001b[0m \u001b[32m━━━━━━━━━━━━━━━━━━━━\u001b[0m\u001b[37m\u001b[0m \u001b[1m41s\u001b[0m 10ms/step - loss: 0.8867\n",
            "Epoch 43/100\n",
            "\u001b[1m3907/3907\u001b[0m \u001b[32m━━━━━━━━━━━━━━━━━━━━\u001b[0m\u001b[37m\u001b[0m \u001b[1m40s\u001b[0m 10ms/step - loss: 0.8830\n",
            "Epoch 44/100\n",
            "\u001b[1m3907/3907\u001b[0m \u001b[32m━━━━━━━━━━━━━━━━━━━━\u001b[0m\u001b[37m\u001b[0m \u001b[1m41s\u001b[0m 10ms/step - loss: 0.8803\n",
            "Epoch 45/100\n",
            "\u001b[1m3907/3907\u001b[0m \u001b[32m━━━━━━━━━━━━━━━━━━━━\u001b[0m\u001b[37m\u001b[0m \u001b[1m41s\u001b[0m 10ms/step - loss: 0.8756\n",
            "Epoch 46/100\n",
            "\u001b[1m3907/3907\u001b[0m \u001b[32m━━━━━━━━━━━━━━━━━━━━\u001b[0m\u001b[37m\u001b[0m \u001b[1m41s\u001b[0m 10ms/step - loss: 0.8682\n",
            "Epoch 47/100\n",
            "\u001b[1m3907/3907\u001b[0m \u001b[32m━━━━━━━━━━━━━━━━━━━━\u001b[0m\u001b[37m\u001b[0m \u001b[1m41s\u001b[0m 10ms/step - loss: 0.8674\n",
            "Epoch 48/100\n",
            "\u001b[1m3907/3907\u001b[0m \u001b[32m━━━━━━━━━━━━━━━━━━━━\u001b[0m\u001b[37m\u001b[0m \u001b[1m40s\u001b[0m 10ms/step - loss: 0.8670\n",
            "Epoch 49/100\n",
            "\u001b[1m3907/3907\u001b[0m \u001b[32m━━━━━━━━━━━━━━━━━━━━\u001b[0m\u001b[37m\u001b[0m \u001b[1m41s\u001b[0m 10ms/step - loss: 0.8588\n",
            "Epoch 50/100\n",
            "\u001b[1m3907/3907\u001b[0m \u001b[32m━━━━━━━━━━━━━━━━━━━━\u001b[0m\u001b[37m\u001b[0m \u001b[1m41s\u001b[0m 10ms/step - loss: 0.8578\n",
            "Epoch 51/100\n",
            "\u001b[1m3907/3907\u001b[0m \u001b[32m━━━━━━━━━━━━━━━━━━━━\u001b[0m\u001b[37m\u001b[0m \u001b[1m41s\u001b[0m 10ms/step - loss: 0.8525\n",
            "Epoch 52/100\n",
            "\u001b[1m3907/3907\u001b[0m \u001b[32m━━━━━━━━━━━━━━━━━━━━\u001b[0m\u001b[37m\u001b[0m \u001b[1m41s\u001b[0m 11ms/step - loss: 0.8511\n",
            "Epoch 53/100\n",
            "\u001b[1m3907/3907\u001b[0m \u001b[32m━━━━━━━━━━━━━━━━━━━━\u001b[0m\u001b[37m\u001b[0m \u001b[1m41s\u001b[0m 10ms/step - loss: 0.8486\n",
            "Epoch 54/100\n",
            "\u001b[1m3907/3907\u001b[0m \u001b[32m━━━━━━━━━━━━━━━━━━━━\u001b[0m\u001b[37m\u001b[0m \u001b[1m82s\u001b[0m 11ms/step - loss: 0.8447\n",
            "Epoch 55/100\n",
            "\u001b[1m3907/3907\u001b[0m \u001b[32m━━━━━━━━━━━━━━━━━━━━\u001b[0m\u001b[37m\u001b[0m \u001b[1m41s\u001b[0m 11ms/step - loss: 0.8439\n",
            "Epoch 56/100\n",
            "\u001b[1m3907/3907\u001b[0m \u001b[32m━━━━━━━━━━━━━━━━━━━━\u001b[0m\u001b[37m\u001b[0m \u001b[1m82s\u001b[0m 11ms/step - loss: 0.8393\n",
            "Epoch 57/100\n",
            "\u001b[1m3907/3907\u001b[0m \u001b[32m━━━━━━━━━━━━━━━━━━━━\u001b[0m\u001b[37m\u001b[0m \u001b[1m41s\u001b[0m 11ms/step - loss: 0.8312\n",
            "Epoch 58/100\n",
            "\u001b[1m3907/3907\u001b[0m \u001b[32m━━━━━━━━━━━━━━━━━━━━\u001b[0m\u001b[37m\u001b[0m \u001b[1m82s\u001b[0m 10ms/step - loss: 0.8328\n",
            "Epoch 59/100\n",
            "\u001b[1m3907/3907\u001b[0m \u001b[32m━━━━━━━━━━━━━━━━━━━━\u001b[0m\u001b[37m\u001b[0m \u001b[1m41s\u001b[0m 10ms/step - loss: 0.8295\n",
            "Epoch 60/100\n",
            "\u001b[1m3907/3907\u001b[0m \u001b[32m━━━━━━━━━━━━━━━━━━━━\u001b[0m\u001b[37m\u001b[0m \u001b[1m40s\u001b[0m 10ms/step - loss: 0.8276\n",
            "Epoch 61/100\n",
            "\u001b[1m3907/3907\u001b[0m \u001b[32m━━━━━━━━━━━━━━━━━━━━\u001b[0m\u001b[37m\u001b[0m \u001b[1m41s\u001b[0m 10ms/step - loss: 0.8250\n",
            "Epoch 62/100\n",
            "\u001b[1m3907/3907\u001b[0m \u001b[32m━━━━━━━━━━━━━━━━━━━━\u001b[0m\u001b[37m\u001b[0m \u001b[1m40s\u001b[0m 10ms/step - loss: 0.8248\n",
            "Epoch 63/100\n",
            "\u001b[1m3907/3907\u001b[0m \u001b[32m━━━━━━━━━━━━━━━━━━━━\u001b[0m\u001b[37m\u001b[0m \u001b[1m40s\u001b[0m 10ms/step - loss: 0.8174\n",
            "Epoch 64/100\n",
            "\u001b[1m3907/3907\u001b[0m \u001b[32m━━━━━━━━━━━━━━━━━━━━\u001b[0m\u001b[37m\u001b[0m \u001b[1m41s\u001b[0m 10ms/step - loss: 0.8172\n",
            "Epoch 65/100\n",
            "\u001b[1m3907/3907\u001b[0m \u001b[32m━━━━━━━━━━━━━━━━━━━━\u001b[0m\u001b[37m\u001b[0m \u001b[1m41s\u001b[0m 10ms/step - loss: 0.8143\n",
            "Epoch 66/100\n",
            "\u001b[1m3907/3907\u001b[0m \u001b[32m━━━━━━━━━━━━━━━━━━━━\u001b[0m\u001b[37m\u001b[0m \u001b[1m41s\u001b[0m 10ms/step - loss: 0.8132\n",
            "Epoch 67/100\n",
            "\u001b[1m3907/3907\u001b[0m \u001b[32m━━━━━━━━━━━━━━━━━━━━\u001b[0m\u001b[37m\u001b[0m \u001b[1m41s\u001b[0m 10ms/step - loss: 0.8071\n",
            "Epoch 68/100\n",
            "\u001b[1m3907/3907\u001b[0m \u001b[32m━━━━━━━━━━━━━━━━━━━━\u001b[0m\u001b[37m\u001b[0m \u001b[1m41s\u001b[0m 10ms/step - loss: 0.8105\n",
            "Epoch 69/100\n",
            "\u001b[1m3907/3907\u001b[0m \u001b[32m━━━━━━━━━━━━━━━━━━━━\u001b[0m\u001b[37m\u001b[0m \u001b[1m41s\u001b[0m 10ms/step - loss: 0.8037\n",
            "Epoch 70/100\n",
            "\u001b[1m3907/3907\u001b[0m \u001b[32m━━━━━━━━━━━━━━━━━━━━\u001b[0m\u001b[37m\u001b[0m \u001b[1m41s\u001b[0m 10ms/step - loss: 0.8014\n",
            "Epoch 71/100\n",
            "\u001b[1m3907/3907\u001b[0m \u001b[32m━━━━━━━━━━━━━━━━━━━━\u001b[0m\u001b[37m\u001b[0m \u001b[1m41s\u001b[0m 10ms/step - loss: 0.7996\n",
            "Epoch 72/100\n",
            "\u001b[1m3907/3907\u001b[0m \u001b[32m━━━━━━━━━━━━━━━━━━━━\u001b[0m\u001b[37m\u001b[0m \u001b[1m41s\u001b[0m 11ms/step - loss: 0.8007\n",
            "Epoch 73/100\n",
            "\u001b[1m3907/3907\u001b[0m \u001b[32m━━━━━━━━━━━━━━━━━━━━\u001b[0m\u001b[37m\u001b[0m \u001b[1m82s\u001b[0m 11ms/step - loss: 0.7981\n",
            "Epoch 74/100\n",
            "\u001b[1m3907/3907\u001b[0m \u001b[32m━━━━━━━━━━━━━━━━━━━━\u001b[0m\u001b[37m\u001b[0m \u001b[1m41s\u001b[0m 10ms/step - loss: 0.7968\n",
            "Epoch 75/100\n",
            "\u001b[1m3907/3907\u001b[0m \u001b[32m━━━━━━━━━━━━━━━━━━━━\u001b[0m\u001b[37m\u001b[0m \u001b[1m41s\u001b[0m 10ms/step - loss: 0.7921\n",
            "Epoch 76/100\n",
            "\u001b[1m3907/3907\u001b[0m \u001b[32m━━━━━━━━━━━━━━━━━━━━\u001b[0m\u001b[37m\u001b[0m \u001b[1m41s\u001b[0m 10ms/step - loss: 0.7927\n",
            "Epoch 77/100\n",
            "\u001b[1m3907/3907\u001b[0m \u001b[32m━━━━━━━━━━━━━━━━━━━━\u001b[0m\u001b[37m\u001b[0m \u001b[1m41s\u001b[0m 10ms/step - loss: 0.7919\n",
            "Epoch 78/100\n",
            "\u001b[1m3907/3907\u001b[0m \u001b[32m━━━━━━━━━━━━━━━━━━━━\u001b[0m\u001b[37m\u001b[0m \u001b[1m41s\u001b[0m 10ms/step - loss: 0.7874\n",
            "Epoch 79/100\n",
            "\u001b[1m3907/3907\u001b[0m \u001b[32m━━━━━━━━━━━━━━━━━━━━\u001b[0m\u001b[37m\u001b[0m \u001b[1m41s\u001b[0m 11ms/step - loss: 0.7844\n",
            "Epoch 80/100\n",
            "\u001b[1m3907/3907\u001b[0m \u001b[32m━━━━━━━━━━━━━━━━━━━━\u001b[0m\u001b[37m\u001b[0m \u001b[1m41s\u001b[0m 10ms/step - loss: 0.7814\n",
            "Epoch 81/100\n",
            "\u001b[1m3907/3907\u001b[0m \u001b[32m━━━━━━━━━━━━━━━━━━━━\u001b[0m\u001b[37m\u001b[0m \u001b[1m82s\u001b[0m 10ms/step - loss: 0.7829\n",
            "Epoch 82/100\n",
            "\u001b[1m3907/3907\u001b[0m \u001b[32m━━━━━━━━━━━━━━━━━━━━\u001b[0m\u001b[37m\u001b[0m \u001b[1m41s\u001b[0m 10ms/step - loss: 0.7791\n",
            "Epoch 83/100\n",
            "\u001b[1m3907/3907\u001b[0m \u001b[32m━━━━━━━━━━━━━━━━━━━━\u001b[0m\u001b[37m\u001b[0m \u001b[1m41s\u001b[0m 10ms/step - loss: 0.7762\n",
            "Epoch 84/100\n",
            "\u001b[1m3907/3907\u001b[0m \u001b[32m━━━━━━━━━━━━━━━━━━━━\u001b[0m\u001b[37m\u001b[0m \u001b[1m82s\u001b[0m 11ms/step - loss: 0.7768\n",
            "Epoch 85/100\n",
            "\u001b[1m3907/3907\u001b[0m \u001b[32m━━━━━━━━━━━━━━━━━━━━\u001b[0m\u001b[37m\u001b[0m \u001b[1m82s\u001b[0m 11ms/step - loss: 0.7752\n",
            "Epoch 86/100\n",
            "\u001b[1m3907/3907\u001b[0m \u001b[32m━━━━━━━━━━━━━━━━━━━━\u001b[0m\u001b[37m\u001b[0m \u001b[1m82s\u001b[0m 11ms/step - loss: 0.7732\n",
            "Epoch 87/100\n",
            "\u001b[1m3907/3907\u001b[0m \u001b[32m━━━━━━━━━━━━━━━━━━━━\u001b[0m\u001b[37m\u001b[0m \u001b[1m82s\u001b[0m 11ms/step - loss: 0.7725\n",
            "Epoch 88/100\n",
            "\u001b[1m3907/3907\u001b[0m \u001b[32m━━━━━━━━━━━━━━━━━━━━\u001b[0m\u001b[37m\u001b[0m \u001b[1m41s\u001b[0m 10ms/step - loss: 0.7769\n",
            "Epoch 89/100\n",
            "\u001b[1m3907/3907\u001b[0m \u001b[32m━━━━━━━━━━━━━━━━━━━━\u001b[0m\u001b[37m\u001b[0m \u001b[1m41s\u001b[0m 10ms/step - loss: 0.7643\n",
            "Epoch 90/100\n",
            "\u001b[1m3907/3907\u001b[0m \u001b[32m━━━━━━━━━━━━━━━━━━━━\u001b[0m\u001b[37m\u001b[0m \u001b[1m82s\u001b[0m 11ms/step - loss: 0.7671\n",
            "Epoch 91/100\n",
            "\u001b[1m3907/3907\u001b[0m \u001b[32m━━━━━━━━━━━━━━━━━━━━\u001b[0m\u001b[37m\u001b[0m \u001b[1m41s\u001b[0m 11ms/step - loss: 0.7691\n",
            "Epoch 92/100\n",
            "\u001b[1m3907/3907\u001b[0m \u001b[32m━━━━━━━━━━━━━━━━━━━━\u001b[0m\u001b[37m\u001b[0m \u001b[1m82s\u001b[0m 11ms/step - loss: 0.7670\n",
            "Epoch 93/100\n",
            "\u001b[1m3907/3907\u001b[0m \u001b[32m━━━━━━━━━━━━━━━━━━━━\u001b[0m\u001b[37m\u001b[0m \u001b[1m82s\u001b[0m 11ms/step - loss: 0.7636\n",
            "Epoch 94/100\n",
            "\u001b[1m3907/3907\u001b[0m \u001b[32m━━━━━━━━━━━━━━━━━━━━\u001b[0m\u001b[37m\u001b[0m \u001b[1m81s\u001b[0m 10ms/step - loss: 0.7660\n",
            "Epoch 95/100\n",
            "\u001b[1m3907/3907\u001b[0m \u001b[32m━━━━━━━━━━━━━━━━━━━━\u001b[0m\u001b[37m\u001b[0m \u001b[1m82s\u001b[0m 10ms/step - loss: 0.7602\n",
            "Epoch 96/100\n",
            "\u001b[1m3907/3907\u001b[0m \u001b[32m━━━━━━━━━━━━━━━━━━━━\u001b[0m\u001b[37m\u001b[0m \u001b[1m82s\u001b[0m 10ms/step - loss: 0.7628\n",
            "Epoch 97/100\n",
            "\u001b[1m3907/3907\u001b[0m \u001b[32m━━━━━━━━━━━━━━━━━━━━\u001b[0m\u001b[37m\u001b[0m \u001b[1m41s\u001b[0m 10ms/step - loss: 0.7603\n",
            "Epoch 98/100\n",
            "\u001b[1m3907/3907\u001b[0m \u001b[32m━━━━━━━━━━━━━━━━━━━━\u001b[0m\u001b[37m\u001b[0m \u001b[1m41s\u001b[0m 10ms/step - loss: 0.7569\n",
            "Epoch 99/100\n",
            "\u001b[1m3907/3907\u001b[0m \u001b[32m━━━━━━━━━━━━━━━━━━━━\u001b[0m\u001b[37m\u001b[0m \u001b[1m41s\u001b[0m 11ms/step - loss: 0.7573\n",
            "Epoch 100/100\n",
            "\u001b[1m3907/3907\u001b[0m \u001b[32m━━━━━━━━━━━━━━━━━━━━\u001b[0m\u001b[37m\u001b[0m \u001b[1m41s\u001b[0m 11ms/step - loss: 0.7545\n"
          ]
        }
      ],
      "source": [
        "historial_cc3 = modelo_c_c3.fit(X, y, batch_size=128, epochs=100)"
      ]
    },
    {
      "cell_type": "code",
      "execution_count": null,
      "metadata": {
        "colab": {
          "base_uri": "https://localhost:8080/",
          "height": 607
        },
        "id": "DsnAuk-QCy6k",
        "outputId": "8a0a1ff7-c2d5-4970-9f32-7f4bb067e5bf"
      },
      "outputs": [
        {
          "data": {
            "image/png": "[encoded data removed]",
            "text/plain": [
              "<Figure size 1400x600 with 2 Axes>"
            ]
          },
          "metadata": {},
          "output_type": "display_data"
        }
      ],
      "source": [
        "graficar_historial_entrenamiento(historial_cc3)"
      ]
    },
    {
      "cell_type": "markdown",
      "metadata": {
        "id": "lVDx99CbcylI"
      },
      "source": [
        "El gráfico de pérdida del modelo 3 evidencia una mejora sostenida a lo largo de las 100 épocas. Este comportamiento representa la curva más estable y profunda de los tres modelos entrenados, superando en resultado final al modelo original y al modelo con batch size aumentado, ya que ha sido el que ha entregado la pérdida más baja.\n",
        "\n",
        "En comparación con el modelo 1, que también fue entrenado con 100 épocas y batch size 128, la nueva arquitectura logra una pérdida mucho más baja. Mientras que el modelo 1 alcanzaba un valor cercano a 1.1 al final del entrenamiento, el modelo bidireccional desciende de forma más prolongada y consistente hasta valores inferiores, lo que indica una mejor capacidad para minimizar el error en la predicción de los caracteres.\n",
        "\n",
        "Respecto al modelo 2 (con batch size 256), la diferencia es aún más notoria. En ese caso, la pérdida comenzaba también en torno a 2.0, pero se estabilizaba prematuramente, sin alcanzar el mismo nivel, lo que sugería una convergencia más rápida pero menos precisa.\n",
        "\n",
        "Este mejor desempeño puede atribuirse directamente a la arquitectura bidireccional, que permite al modelo aprovechar información contextual tanto hacia adelante como hacia atrás en la secuencia. Al tener una comprensión más completa del entorno de cada carácter, la red es capaz de hacer predicciones más acertadas, lo que se refleja en una menor pérdida. Además, el regreso al batch size de 128 permitió mantener una mayor frecuencia de actualizaciones de los pesos, contribuyendo a una optimización más fina del modelo.\n",
        "\n",
        "En definitiva, los resultados obtenidos respaldan la efectividad del cambio arquitectónico y justifican su implementación, ya que contribuye de manera significativa a mejorar la capacidad del modelo para comprender y generar lenguaje carácter a carácter con mayor coherencia y precisión"
      ]
    },
    {
      "cell_type": "code",
      "execution_count": null,
      "metadata": {
        "colab": {
          "base_uri": "https://localhost:8080/"
        },
        "id": "gljGddFyD1Ai",
        "outputId": "26ef4a90-9ca9-4fea-fbb6-33279b05c29e"
      },
      "outputs": [
        {
          "name": "stdout",
          "output_type": "stream",
          "text": [
            "Semilla: 'en un lugar de la man'\n",
            "\n",
            "Con temperatura 0.2: en un lugar de la mancha      capitulo xxvi dono se sirvian estas traen las costillas son las del agua de la memoria      capitulo xxvi dono quiso dicho perdona la causa de su amo y con estremo le dijo  si aqui estuviera \n",
            "\n",
            "Con temperatura 0.5: en un lugar de la mancha castellano y todos los demas estaban estos pajarias y desde alli el corazon que se quede en lo que se detuviera a la mujeridad de los de su amo que no le habia dicho por ver que siempre la via ser\n",
            "\n",
            "Con temperatura 1.0: en un lugar de la mancha a sus sucesos que despues autorededes que escuchad estos edieros de una palma de batanco y parece que viva el aunque escudero  senor de la inmantinada verdad y trazas asi era tanto especialmente d\n",
            "\n",
            "Semilla: 'don quijo'\n",
            "\n",
            "Con temperatura 0.2: don quijote a todos los destas cosas que el caso que esta a la mujeridad de la caballeria andante caballero andante que ya esta en el mundo que es el caso que el diablo le dijo  de la vida y desinovencia y seg\n",
            "\n",
            "Con temperatura 0.5: don quijote como a don quijote y no solo a la duena dolorida y deshacieron de la pastora y laba y mas cortes y todos los de su amo cuenta de su amo y miraron su asno deseado y estando el cual fanto con su natu\n",
            "\n",
            "Con temperatura 1.0: don quijote consigo a mirar al rey servido que algun tanto que con mi me ha visto lo escuso de comparazo que dijo don quijote que me homa tanto deseado con las letras tantas pendencias vivos en la mano era de \n",
            "\n",
            "Semilla: 'el caballe'\n",
            "\n",
            "Con temperatura 0.2: el caballero de la triste figura que de la carta de su amo y que es lo que yo no le tuviera en la mano de sus malas o no que el cielo que don quijote de la mancha que tanto le digo que no llevo tiene a la muert\n",
            "\n",
            "Con temperatura 0.5: el caballero que es de caminabalo se habia pasado de la sala es que con camila la pudiese a entender por el mundo con la vida  eso senor corazon y a la puerta de la fuestera y la amo de alguna que se atravieron\n",
            "\n",
            "Con temperatura 1.0: el caballero de la arrogrca de mi senor grandeza de sancho panza es cosa que los cabellos y mimitados y salas que a todos los circas de obras las posibles de los duques y tomo mi senor era de cuantos mas que lo\n",
            "\n"
          ]
        }
      ],
      "source": [
        "predicciones(modelo_c_c3, caracteres_indices, idx2char, SEQ_LENGTH)"
      ]
    },
    {
      "cell_type": "markdown",
      "metadata": {
        "id": "1BGb_sp8fHS0"
      },
      "source": [
        "Las predicciones generadas muestran una mejora clara en la fluidez y cohesión del texto, en especial cuando se comparan con las producciones anteriores. A temperatura baja (0.2), el modelo produce frases bastante estructuradas, incluso más ricas que las de las versiones previas. Por ejemplo, en la semilla “en un lugar de la man”, genera fragmentos con sentido narrativo, que, aunque un poco repetitivo, mantiene una forma coherente y con referencias típicas del estilo original del texto.\n",
        "\n",
        "Con una temperatura intermedia (0.5), el texto conserva un nivel razonable de coherencia, pero gana variedad y creatividad. Las frases muestran cómo el modelo ahora es capaz de combinar elementos narrativos con más libertad, sin caer en incoherencias tan graves como en versiones anteriores. Si bien surgen algunas expresiones inusuales o neologismos (“mujeridad”), el estilo sigue siendo reconocible y se asemeja a un español literario típico.\n",
        "\n",
        "A temperatura alta (1.0), el modelo despliega una mayor libertad creativa, pero sorprendentemente mantiene mejor la sintaxis general que en versiones anteriores. A pesar de introducir expresiones como “autorededes” o “la inmantinada verdad”, el texto sigue cierto ritmo literario, e incluso conserva elementos temáticos recurrentes de la obra. Esto sugiere que el nuevo modelo logra equilibrar mejor variedad y estructura, generando resultados menos caóticos y más “legibles” incluso bajo condiciones de mayor aleatoriedad.\n",
        "\n",
        "En conjunto, estos resultados sugieren que la introducción de la bidireccionalidad permitió al modelo capturar dependencias más profundas dentro de las secuencias, mejorando su comprensión contextual y aumentando la diversidad de las predicciones sin sacrificar completamente la coherencia. Esto lo convierte en un cambio valioso para enriquecer la calidad del texto generado."
      ]
    },
    {
      "cell_type": "markdown",
      "metadata": {
        "id": "6aLTSOuJEaFl"
      },
      "source": [
        "##Resumen Arquitectura de las redes"
      ]
    },
    {
      "cell_type": "markdown",
      "metadata": {
        "id": "6-VTK5SgHu8g"
      },
      "source": [
        "En la siguiente tabla se presenta una comparación detallada de los tres modelos de red neuronal desarrollados durante el proceso experimental. Cada configuración varía en uno o más aspectos clave, como el tipo de arquitectura (LSTM unidireccional o bidireccional), el tamaño del lote (batch size), y el número de capas. Todos los modelos se entrenaron durante 100 épocas, lo que permite una evaluación equilibrada en términos de tiempo de entrenamiento y exposición a los datos. La métrica utilizada para evaluar el desempeño fue la pérdida de entrenamiento (loss), representando el error que el modelo comete al predecir el siguiente carácter en la secuencia. A través de esta comparación estructural, se busca analizar cómo cada cambio impacta en la capacidad del modelo para aprender patrones complejos en el texto."
      ]
    },
    {
      "cell_type": "code",
      "execution_count": null,
      "metadata": {
        "colab": {
          "base_uri": "https://localhost:8080/",
          "height": 143
        },
        "id": "W-uDh8REDLRd",
        "outputId": "18c6e499-c880-45b1-b334-9dd774431177"
      },
      "outputs": [
        {
          "data": {
            "application/vnd.google.colaboratory.intrinsic+json": {
              "summary": "{\n  \"name\": \"modelos_metr\",\n  \"rows\": 3,\n  \"fields\": [\n    {\n      \"column\": \"Nombre\",\n      \"properties\": {\n        \"dtype\": \"string\",\n        \"num_unique_values\": 3,\n        \"samples\": [\n          \"Red_base\",\n          \"Cambio_batch\",\n          \"Cambio_arquitectura\"\n        ],\n        \"semantic_type\": \"\",\n        \"description\": \"\"\n      }\n    },\n    {\n      \"column\": \"Capas LSTM\",\n      \"properties\": {\n        \"dtype\": \"string\",\n        \"num_unique_values\": 2,\n        \"samples\": [\n          \"2 (128)\",\n          \"1 (128)\"\n        ],\n        \"semantic_type\": \"\",\n        \"description\": \"\"\n      }\n    },\n    {\n      \"column\": \"Capas Bidirecionales\",\n      \"properties\": {\n        \"dtype\": \"string\",\n        \"num_unique_values\": 3,\n        \"samples\": [\n          \"No\",\n          \"no\"\n        ],\n        \"semantic_type\": \"\",\n        \"description\": \"\"\n      }\n    },\n    {\n      \"column\": \"Capas Salida\",\n      \"properties\": {\n        \"dtype\": \"category\",\n        \"num_unique_values\": 1,\n        \"samples\": [\n          \"1 (34)\"\n        ],\n        \"semantic_type\": \"\",\n        \"description\": \"\"\n      }\n    },\n    {\n      \"column\": \"Epocas\",\n      \"properties\": {\n        \"dtype\": \"category\",\n        \"num_unique_values\": 1,\n        \"samples\": [\n          \"100\"\n        ],\n        \"semantic_type\": \"\",\n        \"description\": \"\"\n      }\n    },\n    {\n      \"column\": \"Batch Size\",\n      \"properties\": {\n        \"dtype\": \"string\",\n        \"num_unique_values\": 2,\n        \"samples\": [\n          \"256\"\n        ],\n        \"semantic_type\": \"\",\n        \"description\": \"\"\n      }\n    },\n    {\n      \"column\": \"Train Loss\",\n      \"properties\": {\n        \"dtype\": \"string\",\n        \"num_unique_values\": 3,\n        \"samples\": [\n          \"1.1150\"\n        ],\n        \"semantic_type\": \"\",\n        \"description\": \"\"\n      }\n    }\n  ]\n}",
              "type": "dataframe",
              "variable_name": "modelos_metr"
            },
            "text/html": [
              "\n",
              "  <div id=\"df-0b78ff96-a297-4a3a-9240-ccfe11b81260\" class=\"colab-df-container\">\n",
              "    <div>\n",
              "<style scoped>\n",
              "    .dataframe tbody tr th:only-of-type {\n",
              "        vertical-align: middle;\n",
              "    }\n",
              "\n",
              "    .dataframe tbody tr th {\n",
              "        vertical-align: top;\n",
              "    }\n",
              "\n",
              "    .dataframe thead th {\n",
              "        text-align: right;\n",
              "    }\n",
              "</style>\n",
              "<table border=\"1\" class=\"dataframe\">\n",
              "  <thead>\n",
              "    <tr style=\"text-align: right;\">\n",
              "      <th></th>\n",
              "      <th>Nombre</th>\n",
              "      <th>Capas LSTM</th>\n",
              "      <th>Capas Bidirecionales</th>\n",
              "      <th>Capas Salida</th>\n",
              "      <th>Epocas</th>\n",
              "      <th>Batch Size</th>\n",
              "      <th>Train Loss</th>\n",
              "    </tr>\n",
              "  </thead>\n",
              "  <tbody>\n",
              "    <tr>\n",
              "      <th>0</th>\n",
              "      <td>Red_base</td>\n",
              "      <td>1 (128)</td>\n",
              "      <td>No</td>\n",
              "      <td>1 (34)</td>\n",
              "      <td>100</td>\n",
              "      <td>128</td>\n",
              "      <td>1.1150</td>\n",
              "    </tr>\n",
              "    <tr>\n",
              "      <th>1</th>\n",
              "      <td>Cambio_batch</td>\n",
              "      <td>1 (128)</td>\n",
              "      <td>no</td>\n",
              "      <td>1 (34)</td>\n",
              "      <td>100</td>\n",
              "      <td>256</td>\n",
              "      <td>1.1395</td>\n",
              "    </tr>\n",
              "    <tr>\n",
              "      <th>2</th>\n",
              "      <td>Cambio_arquitectura</td>\n",
              "      <td>2 (128)</td>\n",
              "      <td>Si</td>\n",
              "      <td>1 (34)</td>\n",
              "      <td>100</td>\n",
              "      <td>128</td>\n",
              "      <td>0.7762</td>\n",
              "    </tr>\n",
              "  </tbody>\n",
              "</table>\n",
              "</div>\n",
              "    <div class=\"colab-df-buttons\">\n",
              "\n",
              "  <div class=\"colab-df-container\">\n",
              "    <button class=\"colab-df-convert\" onclick=\"convertToInteractive('df-0b78ff96-a297-4a3a-9240-ccfe11b81260')\"\n",
              "            title=\"Convert this dataframe to an interactive table.\"\n",
              "            style=\"display:none;\">\n",
              "\n",
              "  <svg xmlns=\"http://www.w3.org/2000/svg\" height=\"24px\" viewBox=\"0 -960 960 960\">\n",
              "    <path d=\"M120-120v-720h720v720H120Zm60-500h600v-160H180v160Zm220 220h160v-160H400v160Zm0 220h160v-160H400v160ZM180-400h160v-160H180v160Zm440 0h160v-160H620v160ZM180-180h160v-160H180v160Zm440 0h160v-160H620v160Z\"/>\n",
              "  </svg>\n",
              "    </button>\n",
              "\n",
              "  <style>\n",
              "    .colab-df-container {\n",
              "      display:flex;\n",
              "      gap: 12px;\n",
              "    }\n",
              "\n",
              "    .colab-df-convert {\n",
              "      background-color: #E8F0FE;\n",
              "      border: none;\n",
              "      border-radius: 50%;\n",
              "      cursor: pointer;\n",
              "      display: none;\n",
              "      fill: #1967D2;\n",
              "      height: 32px;\n",
              "      padding: 0 0 0 0;\n",
              "      width: 32px;\n",
              "    }\n",
              "\n",
              "    .colab-df-convert:hover {\n",
              "      background-color: #E2EBFA;\n",
              "      box-shadow: 0px 1px 2px rgba(60, 64, 67, 0.3), 0px 1px 3px 1px rgba(60, 64, 67, 0.15);\n",
              "      fill: #174EA6;\n",
              "    }\n",
              "\n",
              "    .colab-df-buttons div {\n",
              "      margin-bottom: 4px;\n",
              "    }\n",
              "\n",
              "    [theme=dark] .colab-df-convert {\n",
              "      background-color: #3B4455;\n",
              "      fill: #D2E3FC;\n",
              "    }\n",
              "\n",
              "    [theme=dark] .colab-df-convert:hover {\n",
              "      background-color: #434B5C;\n",
              "      box-shadow: 0px 1px 3px 1px rgba(0, 0, 0, 0.15);\n",
              "      filter: drop-shadow(0px 1px 2px rgba(0, 0, 0, 0.3));\n",
              "      fill: #FFFFFF;\n",
              "    }\n",
              "  </style>\n",
              "\n",
              "    <script>\n",
              "      const buttonEl =\n",
              "        document.querySelector('#df-0b78ff96-a297-4a3a-9240-ccfe11b81260 button.colab-df-convert');\n",
              "      buttonEl.style.display =\n",
              "        google.colab.kernel.accessAllowed ? 'block' : 'none';\n",
              "\n",
              "      async function convertToInteractive(key) {\n",
              "        const element = document.querySelector('#df-0b78ff96-a297-4a3a-9240-ccfe11b81260');\n",
              "        const dataTable =\n",
              "          await google.colab.kernel.invokeFunction('convertToInteractive',\n",
              "                                                    [key], {});\n",
              "        if (!dataTable) return;\n",
              "\n",
              "        const docLinkHtml = 'Like what you see? Visit the ' +\n",
              "          '<a target=\"_blank\" href=https://colab.research.google.com/notebooks/data_table.ipynb>data table notebook</a>'\n",
              "          + ' to learn more about interactive tables.';\n",
              "        element.innerHTML = '';\n",
              "        dataTable['output_type'] = 'display_data';\n",
              "        await google.colab.output.renderOutput(dataTable, element);\n",
              "        const docLink = document.createElement('div');\n",
              "        docLink.innerHTML = docLinkHtml;\n",
              "        element.appendChild(docLink);\n",
              "      }\n",
              "    </script>\n",
              "  </div>\n",
              "\n",
              "\n",
              "    <div id=\"df-64f3f89e-3da9-4124-841f-3af38a69af4f\">\n",
              "      <button class=\"colab-df-quickchart\" onclick=\"quickchart('df-64f3f89e-3da9-4124-841f-3af38a69af4f')\"\n",
              "                title=\"Suggest charts\"\n",
              "                style=\"display:none;\">\n",
              "\n",
              "<svg xmlns=\"http://www.w3.org/2000/svg\" height=\"24px\"viewBox=\"0 0 24 24\"\n",
              "     width=\"24px\">\n",
              "    <g>\n",
              "        <path d=\"M19 3H5c-1.1 0-2 .9-2 2v14c0 1.1.9 2 2 2h14c1.1 0 2-.9 2-2V5c0-1.1-.9-2-2-2zM9 17H7v-7h2v7zm4 0h-2V7h2v10zm4 0h-2v-4h2v4z\"/>\n",
              "    </g>\n",
              "</svg>\n",
              "      </button>\n",
              "\n",
              "<style>\n",
              "  .colab-df-quickchart {\n",
              "      --bg-color: #E8F0FE;\n",
              "      --fill-color: #1967D2;\n",
              "      --hover-bg-color: #E2EBFA;\n",
              "      --hover-fill-color: #174EA6;\n",
              "      --disabled-fill-color: #AAA;\n",
              "      --disabled-bg-color: #DDD;\n",
              "  }\n",
              "\n",
              "  [theme=dark] .colab-df-quickchart {\n",
              "      --bg-color: #3B4455;\n",
              "      --fill-color: #D2E3FC;\n",
              "      --hover-bg-color: #434B5C;\n",
              "      --hover-fill-color: #FFFFFF;\n",
              "      --disabled-bg-color: #3B4455;\n",
              "      --disabled-fill-color: #666;\n",
              "  }\n",
              "\n",
              "  .colab-df-quickchart {\n",
              "    background-color: var(--bg-color);\n",
              "    border: none;\n",
              "    border-radius: 50%;\n",
              "    cursor: pointer;\n",
              "    display: none;\n",
              "    fill: var(--fill-color);\n",
              "    height: 32px;\n",
              "    padding: 0;\n",
              "    width: 32px;\n",
              "  }\n",
              "\n",
              "  .colab-df-quickchart:hover {\n",
              "    background-color: var(--hover-bg-color);\n",
              "    box-shadow: 0 1px 2px rgba(60, 64, 67, 0.3), 0 1px 3px 1px rgba(60, 64, 67, 0.15);\n",
              "    fill: var(--button-hover-fill-color);\n",
              "  }\n",
              "\n",
              "  .colab-df-quickchart-complete:disabled,\n",
              "  .colab-df-quickchart-complete:disabled:hover {\n",
              "    background-color: var(--disabled-bg-color);\n",
              "    fill: var(--disabled-fill-color);\n",
              "    box-shadow: none;\n",
              "  }\n",
              "\n",
              "  .colab-df-spinner {\n",
              "    border: 2px solid var(--fill-color);\n",
              "    border-color: transparent;\n",
              "    border-bottom-color: var(--fill-color);\n",
              "    animation:\n",
              "      spin 1s steps(1) infinite;\n",
              "  }\n",
              "\n",
              "  @keyframes spin {\n",
              "    0% {\n",
              "      border-color: transparent;\n",
              "      border-bottom-color: var(--fill-color);\n",
              "      border-left-color: var(--fill-color);\n",
              "    }\n",
              "    20% {\n",
              "      border-color: transparent;\n",
              "      border-left-color: var(--fill-color);\n",
              "      border-top-color: var(--fill-color);\n",
              "    }\n",
              "    30% {\n",
              "      border-color: transparent;\n",
              "      border-left-color: var(--fill-color);\n",
              "      border-top-color: var(--fill-color);\n",
              "      border-right-color: var(--fill-color);\n",
              "    }\n",
              "    40% {\n",
              "      border-color: transparent;\n",
              "      border-right-color: var(--fill-color);\n",
              "      border-top-color: var(--fill-color);\n",
              "    }\n",
              "    60% {\n",
              "      border-color: transparent;\n",
              "      border-right-color: var(--fill-color);\n",
              "    }\n",
              "    80% {\n",
              "      border-color: transparent;\n",
              "      border-right-color: var(--fill-color);\n",
              "      border-bottom-color: var(--fill-color);\n",
              "    }\n",
              "    90% {\n",
              "      border-color: transparent;\n",
              "      border-bottom-color: var(--fill-color);\n",
              "    }\n",
              "  }\n",
              "</style>\n",
              "\n",
              "      <script>\n",
              "        async function quickchart(key) {\n",
              "          const quickchartButtonEl =\n",
              "            document.querySelector('#' + key + ' button');\n",
              "          quickchartButtonEl.disabled = true;  // To prevent multiple clicks.\n",
              "          quickchartButtonEl.classList.add('colab-df-spinner');\n",
              "          try {\n",
              "            const charts = await google.colab.kernel.invokeFunction(\n",
              "                'suggestCharts', [key], {});\n",
              "          } catch (error) {\n",
              "            console.error('Error during call to suggestCharts:', error);\n",
              "          }\n",
              "          quickchartButtonEl.classList.remove('colab-df-spinner');\n",
              "          quickchartButtonEl.classList.add('colab-df-quickchart-complete');\n",
              "        }\n",
              "        (() => {\n",
              "          let quickchartButtonEl =\n",
              "            document.querySelector('#df-64f3f89e-3da9-4124-841f-3af38a69af4f button');\n",
              "          quickchartButtonEl.style.display =\n",
              "            google.colab.kernel.accessAllowed ? 'block' : 'none';\n",
              "        })();\n",
              "      </script>\n",
              "    </div>\n",
              "\n",
              "  <div id=\"id_ae71b0ca-8559-4a76-85b7-f38fe81d26c8\">\n",
              "    <style>\n",
              "      .colab-df-generate {\n",
              "        background-color: #E8F0FE;\n",
              "        border: none;\n",
              "        border-radius: 50%;\n",
              "        cursor: pointer;\n",
              "        display: none;\n",
              "        fill: #1967D2;\n",
              "        height: 32px;\n",
              "        padding: 0 0 0 0;\n",
              "        width: 32px;\n",
              "      }\n",
              "\n",
              "      .colab-df-generate:hover {\n",
              "        background-color: #E2EBFA;\n",
              "        box-shadow: 0px 1px 2px rgba(60, 64, 67, 0.3), 0px 1px 3px 1px rgba(60, 64, 67, 0.15);\n",
              "        fill: #174EA6;\n",
              "      }\n",
              "\n",
              "      [theme=dark] .colab-df-generate {\n",
              "        background-color: #3B4455;\n",
              "        fill: #D2E3FC;\n",
              "      }\n",
              "\n",
              "      [theme=dark] .colab-df-generate:hover {\n",
              "        background-color: #434B5C;\n",
              "        box-shadow: 0px 1px 3px 1px rgba(0, 0, 0, 0.15);\n",
              "        filter: drop-shadow(0px 1px 2px rgba(0, 0, 0, 0.3));\n",
              "        fill: #FFFFFF;\n",
              "      }\n",
              "    </style>\n",
              "    <button class=\"colab-df-generate\" onclick=\"generateWithVariable('modelos_metr')\"\n",
              "            title=\"Generate code using this dataframe.\"\n",
              "            style=\"display:none;\">\n",
              "\n",
              "  <svg xmlns=\"http://www.w3.org/2000/svg\" height=\"24px\"viewBox=\"0 0 24 24\"\n",
              "       width=\"24px\">\n",
              "    <path d=\"M7,19H8.4L18.45,9,17,7.55,7,17.6ZM5,21V16.75L18.45,3.32a2,2,0,0,1,2.83,0l1.4,1.43a1.91,1.91,0,0,1,.58,1.4,1.91,1.91,0,0,1-.58,1.4L9.25,21ZM18.45,9,17,7.55Zm-12,3A5.31,5.31,0,0,0,4.9,8.1,5.31,5.31,0,0,0,1,6.5,5.31,5.31,0,0,0,4.9,4.9,5.31,5.31,0,0,0,6.5,1,5.31,5.31,0,0,0,8.1,4.9,5.31,5.31,0,0,0,12,6.5,5.46,5.46,0,0,0,6.5,12Z\"/>\n",
              "  </svg>\n",
              "    </button>\n",
              "    <script>\n",
              "      (() => {\n",
              "      const buttonEl =\n",
              "        document.querySelector('#id_ae71b0ca-8559-4a76-85b7-f38fe81d26c8 button.colab-df-generate');\n",
              "      buttonEl.style.display =\n",
              "        google.colab.kernel.accessAllowed ? 'block' : 'none';\n",
              "\n",
              "      buttonEl.onclick = () => {\n",
              "        google.colab.notebook.generateWithVariable('modelos_metr');\n",
              "      }\n",
              "      })();\n",
              "    </script>\n",
              "  </div>\n",
              "\n",
              "    </div>\n",
              "  </div>\n"
            ],
            "text/plain": [
              "                Nombre Capas LSTM Capas Bidirecionales Capas Salida Epocas  \\\n",
              "0             Red_base    1 (128)                   No       1 (34)    100   \n",
              "1         Cambio_batch    1 (128)                   no       1 (34)    100   \n",
              "2  Cambio_arquitectura    2 (128)                   Si       1 (34)    100   \n",
              "\n",
              "  Batch Size Train Loss  \n",
              "0        128     1.1150  \n",
              "1        256     1.1395  \n",
              "2        128     0.7762  "
            ]
          },
          "execution_count": 33,
          "metadata": {},
          "output_type": "execute_result"
        }
      ],
      "source": [
        "modelos = [\n",
        "    {\n",
        "        'Nombre': 'Red_base','Capas LSTM': '1 (128)','Capas Bidirecionales': 'No','Capas Salida': '1 (34)','Epocas': '100', 'Batch Size': '128',\n",
        "        **metricas(historial_cc)\n",
        "    },\n",
        "    {\n",
        "        'Nombre': 'Cambio_batch','Capas LSTM': '1 (128)','Capas Bidirecionales': 'no','Capas Salida': '1 (34)','Epocas': '100', 'Batch Size': '256',\n",
        "        **metricas(historial_cc2)\n",
        "    },\n",
        "    {\n",
        "        'Nombre': 'Cambio_arquitectura','Capas LSTM': '2 (128)','Capas Bidirecionales': 'Si','Capas Salida': '1 (34)','Epocas': '100', 'Batch Size': '128',\n",
        "        **metricas(historial_cc3)\n",
        "    }\n",
        "]\n",
        "\n",
        "modelos_metr = pd.DataFrame(modelos)\n",
        "\n",
        "modelos_metr"
      ]
    },
    {
      "cell_type": "code",
      "execution_count": null,
      "metadata": {
        "colab": {
          "base_uri": "https://localhost:8080/",
          "height": 539
        },
        "id": "kRwnc5NUDR2O",
        "outputId": "bf0e0338-1221-4661-8643-f082946935d3"
      },
      "outputs": [
        {
          "data": {
            "image/png": "[encoded data removed]",
            "text/plain": [
              "<Figure size 1800x600 with 1 Axes>"
            ]
          },
          "metadata": {},
          "output_type": "display_data"
        }
      ],
      "source": [
        "historiales = [\n",
        "    historial_cc.history,\n",
        "    historial_cc2.history,\n",
        "    historial_cc3.history\n",
        "]\n",
        "\n",
        "nombres_modelos = [\n",
        "    'Red_base',\n",
        "    'Cambio_batch',\n",
        "    'Cambio_arquitectura'\n",
        "]\n",
        "\n",
        "df_resultado_2 = graficar_comparacion_modelos(historiales, nombres_modelos)"
      ]
    },
    {
      "cell_type": "markdown",
      "metadata": {
        "id": "vmswI4qtHxgb"
      },
      "source": [
        "El gráfico de barras permite visualizar con claridad el efecto que tuvo cada ajuste arquitectónico y de hiperparámetros sobre la métrica loss. Como se observa, el modelo base (modelo 1) alcanzó una pérdida de 1.1150, mientras que al incrementar el batch size a 256 en el segundo modelo, el rendimiento se deterioró, alcanzando una pérdida mayor de 1.1395. En contraste, el modelo con arquitectura bidireccional mostró una mejora considerable, con una pérdida bastante menor de 0.7762. Este resultado evidencia que, más allá de los hiperparámetros, la arquitectura del modelo tiene un impacto directo sobre su capacidad de aprendizaje y generalización, siendo este el factor más determinante en este experimento."
      ]
    },
    {
      "cell_type": "markdown",
      "metadata": {
        "id": "lVFeU6GADAMK"
      },
      "source": [
        "##Mejor modelo"
      ]
    },
    {
      "cell_type": "code",
      "execution_count": null,
      "metadata": {
        "colab": {
          "base_uri": "https://localhost:8080/"
        },
        "id": "Zklt1apSDBiG",
        "outputId": "d72b12d0-ce28-48e9-83f0-8bd3549d07a7"
      },
      "outputs": [
        {
          "name": "stdout",
          "output_type": "stream",
          "text": [
            "Mejor modelo según menor Loss:\n",
            "Nombre: Bidireccional\n",
            "Loss: 0.7761615514755249\n"
          ]
        }
      ],
      "source": [
        "modelos = [modelo_c_c, modelo_c_c2, modelo_c_c3]\n",
        "historiales = [historial_cc.history, historial_cc2.history, historial_cc3.history]\n",
        "\n",
        "loss = [h['loss'][-1] for h in historiales]\n",
        "\n",
        "indice_mejor = loss.index(min(loss))\n",
        "\n",
        "mejor_modelo = modelos[indice_mejor]\n",
        "nombre_mejor_modelo = mejor_modelo.name\n",
        "hist_mejor = historiales[indice_mejor]\n",
        "\n",
        "print(f\"Mejor modelo según menor Loss:\")\n",
        "print(f\"Nombre: {nombre_mejor_modelo}\")\n",
        "\n",
        "print(f\"Loss: {min(loss)}\")\n",
        "\n",
        "mejor_modelo.save(\"modelo_mejor.keras\")"
      ]
    },
    {
      "cell_type": "markdown",
      "metadata": {
        "id": "823E6stWEkC8"
      },
      "source": [
        "Según el valor de pérdida más bajo alcanzado tras 100 épocas de entrenamiento, el modelo con arquitectura bidireccional fue seleccionado como el mejor modelo. Esta elección se fundamenta en el objetivo de minimizar el error en la predicción carácter a carácter. A pesar de haber mantenido la misma cantidad de datos, el mismo número de épocas y el mismo batch size que el modelo base, la incorporación de una capa LSTM bidireccional resultó en una pérdida final notablemente más baja, lo que demuestra una mejora significativa en el aprendizaje del modelo."
      ]
    },
    {
      "cell_type": "markdown",
      "metadata": {
        "id": "8n9-Y4XvEn2v"
      },
      "source": [
        "##Conclusiones"
      ]
    },
    {
      "cell_type": "markdown",
      "metadata": {
        "id": "xcW6i8wYEpe8"
      },
      "source": [
        "La comparación entre los tres modelos desarrollados permite obtener conclusiones relevantes sobre el impacto que tienen los ajustes de arquitectura e hiperparámetros en el rendimiento de modelos LSTM aplicados a tareas de generación de texto carácter a carácter. Desde el inicio, se optó por utilizar LSTM en lugar de RNN simples debido a su capacidad superior para recordar y utilizar información importante que ocurrió muchos pasos atrás en la secuencia, evitando los problemas asociados al desvanecimiento del gradiente, lo cual es esencial en la generación de lenguaje natural.\n",
        "\n",
        "El modelo base, con una configuración estándar de una sola capa LSTM y batch size de 128, logró una pérdida final de 1.1150, sirviendo como punto de referencia. Posteriormente, al aumentar el batch size a 256 en el segundo modelo, se observó un empeoramiento del rendimiento con una pérdida de 1.1395. Esta diferencia puede explicarse porque, con un batch más grande, el modelo actualiza sus pesos con menor frecuencia durante cada época, lo que reduce su capacidad de adaptación fina a patrones específicos del texto. Si bien un batch grande puede estabilizar el entrenamiento, en este caso afectó negativamente la precisión del aprendizaje.\n",
        "\n",
        "En la tercera iteración, se mantuvieron constantes tanto el número de épocas como el batch size original (128), pero se introdujo un cambio arquitectónico: la incorporación de una capa LSTM bidireccional seguida de una capa LSTM unidireccional. Este cambio permitió al modelo capturar mejor las relaciones contextuales tanto anteriores como posteriores dentro de cada secuencia, lo que se tradujo en una pérdida final mucho más baja (0.7762). Esta mejora en la métrica de evaluación, valida el beneficio de enriquecer la arquitectura, más allá de simplemente ajustar hiperparámetros como el tamaño del batch.\n",
        "\n",
        "En resumen, especifícamente en esta experimentación, se demuestra que las decisiones arquitectónicas tienen un impacto más profundo en la eficacia del modelo que un ajustes de hiperparámetros como el batch size. Además, se confirma que mantener un batch moderado permite una mejor adaptación durante el entrenamiento, especialmente cuando se trabaja con secuencias largas y complejas. La arquitectura bidireccional, en combinación con una configuración de entrenamiento estable (batch 128, 100 épocas), representa la opción más efectiva para esta tarea. Por tanto, el modelo final no solo se justifica por su métrica más baja, sino también por su mayor capacidad para aprender patrones contextuales complejos de manera eficiente, como pudimos verlo en las predicciones de cada uno de los modelos."
      ]
    },
    {
      "cell_type": "markdown",
      "metadata": {
        "id": "WMDNk2cpWs_k"
      },
      "source": [
        "##Modelo 4 - Regularización"
      ]
    },
    {
      "cell_type": "markdown",
      "metadata": {
        "id": "5tVO7-DOBLNc"
      },
      "source": [
        "Finalmente, se intentó una cuarta modificación que incorporó una capa de regularización (Dropout) con el objetivo de reducir aún más la pérdida y generar predicciones más coherentes. Aunque el entrenamiento logró completarse a 99 épocas, las limitaciones de recursos impidieron generar las visualizaciones correspondientes. No obstante, la evolución del loss mostró una tendencia estable y consistente, alcanzando un valor final de 0.8913, lo que indica un rendimiento competitivo respecto a los modelos anteriores. Si bien este modelo no superó al modelo bidireccional sin regularización, la incorporación de técnicas como Dropout puede resultar útil para mejorar la capacidad de generalización en contextos más complejos o con datos ruidosos. Se deja así constancia de este intento como una posible línea de mejora futura."
      ]
    },
    {
      "cell_type": "code",
      "execution_count": null,
      "metadata": {
        "id": "nIpCeb7tWxb4"
      },
      "outputs": [],
      "source": [
        "def crear_modelo3(seq_length, vocab_size, model_name):\n",
        "    input_len = seq_length\n",
        "    model = tf.keras.models.Sequential(name=model_name)\n",
        "    model.add(tf.keras.layers.Input(shape=(input_len, vocab_size), name=\"Entrada\"))\n",
        "    model.add(Bidirectional(tf.keras.layers.LSTM(128, return_sequences=True), name=\"Bidirecional\"))\n",
        "    model.add(tf.keras.layers.LSTM(128, name=\"CapaLSTM\"))\n",
        "    model.add(tf.keras.layers.Dropout(0.2, name=\"Dropout\"))\n",
        "    model.add(tf.keras.layers.Dense(vocab_size, activation='softmax', name=\"Salida\"))\n",
        "    model.compile(loss='categorical_crossentropy', optimizer='adam')\n",
        "    return model"
      ]
    },
    {
      "cell_type": "code",
      "execution_count": null,
      "metadata": {
        "colab": {
          "base_uri": "https://localhost:8080/",
          "height": 257
        },
        "id": "vZISQqQeYEsL",
        "outputId": "15224547-15d7-4e6e-b788-2ea3916165d9"
      },
      "outputs": [
        {
          "data": {
            "text/html": [
              "<pre style=\"white-space:pre;overflow-x:auto;line-height:normal;font-family:Menlo,'DejaVu Sans Mono',consolas,'Courier New',monospace\"><span style=\"font-weight: bold\">Model: \"Caracter-Caracter\"</span>\n",
              "</pre>\n"
            ],
            "text/plain": [
              "\u001b[1mModel: \"Caracter-Caracter\"\u001b[0m\n"
            ]
          },
          "metadata": {},
          "output_type": "display_data"
        },
        {
          "data": {
            "text/html": [
              "<pre style=\"white-space:pre;overflow-x:auto;line-height:normal;font-family:Menlo,'DejaVu Sans Mono',consolas,'Courier New',monospace\">┏━━━━━━━━━━━━━━━━━━━━━━━━━━━━━━━━━┳━━━━━━━━━━━━━━━━━━━━━━━━┳━━━━━━━━━━━━━━━┓\n",
              "┃<span style=\"font-weight: bold\"> Layer (type)                    </span>┃<span style=\"font-weight: bold\"> Output Shape           </span>┃<span style=\"font-weight: bold\">       Param # </span>┃\n",
              "┡━━━━━━━━━━━━━━━━━━━━━━━━━━━━━━━━━╇━━━━━━━━━━━━━━━━━━━━━━━━╇━━━━━━━━━━━━━━━┩\n",
              "│ Bidirecional (<span style=\"color: #0087ff; text-decoration-color: #0087ff\">Bidirectional</span>)    │ (<span style=\"color: #00d7ff; text-decoration-color: #00d7ff\">None</span>, <span style=\"color: #00af00; text-decoration-color: #00af00\">30</span>, <span style=\"color: #00af00; text-decoration-color: #00af00\">256</span>)        │       <span style=\"color: #00af00; text-decoration-color: #00af00\">166,912</span> │\n",
              "├─────────────────────────────────┼────────────────────────┼───────────────┤\n",
              "│ CapaLSTM (<span style=\"color: #0087ff; text-decoration-color: #0087ff\">LSTM</span>)                 │ (<span style=\"color: #00d7ff; text-decoration-color: #00d7ff\">None</span>, <span style=\"color: #00af00; text-decoration-color: #00af00\">128</span>)            │       <span style=\"color: #00af00; text-decoration-color: #00af00\">197,120</span> │\n",
              "├─────────────────────────────────┼────────────────────────┼───────────────┤\n",
              "│ Dropout (<span style=\"color: #0087ff; text-decoration-color: #0087ff\">Dropout</span>)               │ (<span style=\"color: #00d7ff; text-decoration-color: #00d7ff\">None</span>, <span style=\"color: #00af00; text-decoration-color: #00af00\">128</span>)            │             <span style=\"color: #00af00; text-decoration-color: #00af00\">0</span> │\n",
              "├─────────────────────────────────┼────────────────────────┼───────────────┤\n",
              "│ Salida (<span style=\"color: #0087ff; text-decoration-color: #0087ff\">Dense</span>)                  │ (<span style=\"color: #00d7ff; text-decoration-color: #00d7ff\">None</span>, <span style=\"color: #00af00; text-decoration-color: #00af00\">34</span>)             │         <span style=\"color: #00af00; text-decoration-color: #00af00\">4,386</span> │\n",
              "└─────────────────────────────────┴────────────────────────┴───────────────┘\n",
              "</pre>\n"
            ],
            "text/plain": [
              "┏━━━━━━━━━━━━━━━━━━━━━━━━━━━━━━━━━┳━━━━━━━━━━━━━━━━━━━━━━━━┳━━━━━━━━━━━━━━━┓\n",
              "┃\u001b[1m \u001b[0m\u001b[1mLayer (type)                   \u001b[0m\u001b[1m \u001b[0m┃\u001b[1m \u001b[0m\u001b[1mOutput Shape          \u001b[0m\u001b[1m \u001b[0m┃\u001b[1m \u001b[0m\u001b[1m      Param #\u001b[0m\u001b[1m \u001b[0m┃\n",
              "┡━━━━━━━━━━━━━━━━━━━━━━━━━━━━━━━━━╇━━━━━━━━━━━━━━━━━━━━━━━━╇━━━━━━━━━━━━━━━┩\n",
              "│ Bidirecional (\u001b[38;5;33mBidirectional\u001b[0m)    │ (\u001b[38;5;45mNone\u001b[0m, \u001b[38;5;34m30\u001b[0m, \u001b[38;5;34m256\u001b[0m)        │       \u001b[38;5;34m166,912\u001b[0m │\n",
              "├─────────────────────────────────┼────────────────────────┼───────────────┤\n",
              "│ CapaLSTM (\u001b[38;5;33mLSTM\u001b[0m)                 │ (\u001b[38;5;45mNone\u001b[0m, \u001b[38;5;34m128\u001b[0m)            │       \u001b[38;5;34m197,120\u001b[0m │\n",
              "├─────────────────────────────────┼────────────────────────┼───────────────┤\n",
              "│ Dropout (\u001b[38;5;33mDropout\u001b[0m)               │ (\u001b[38;5;45mNone\u001b[0m, \u001b[38;5;34m128\u001b[0m)            │             \u001b[38;5;34m0\u001b[0m │\n",
              "├─────────────────────────────────┼────────────────────────┼───────────────┤\n",
              "│ Salida (\u001b[38;5;33mDense\u001b[0m)                  │ (\u001b[38;5;45mNone\u001b[0m, \u001b[38;5;34m34\u001b[0m)             │         \u001b[38;5;34m4,386\u001b[0m │\n",
              "└─────────────────────────────────┴────────────────────────┴───────────────┘\n"
            ]
          },
          "metadata": {},
          "output_type": "display_data"
        },
        {
          "data": {
            "text/html": [
              "<pre style=\"white-space:pre;overflow-x:auto;line-height:normal;font-family:Menlo,'DejaVu Sans Mono',consolas,'Courier New',monospace\"><span style=\"font-weight: bold\"> Total params: </span><span style=\"color: #00af00; text-decoration-color: #00af00\">368,418</span> (1.41 MB)\n",
              "</pre>\n"
            ],
            "text/plain": [
              "\u001b[1m Total params: \u001b[0m\u001b[38;5;34m368,418\u001b[0m (1.41 MB)\n"
            ]
          },
          "metadata": {},
          "output_type": "display_data"
        },
        {
          "data": {
            "text/html": [
              "<pre style=\"white-space:pre;overflow-x:auto;line-height:normal;font-family:Menlo,'DejaVu Sans Mono',consolas,'Courier New',monospace\"><span style=\"font-weight: bold\"> Trainable params: </span><span style=\"color: #00af00; text-decoration-color: #00af00\">368,418</span> (1.41 MB)\n",
              "</pre>\n"
            ],
            "text/plain": [
              "\u001b[1m Trainable params: \u001b[0m\u001b[38;5;34m368,418\u001b[0m (1.41 MB)\n"
            ]
          },
          "metadata": {},
          "output_type": "display_data"
        },
        {
          "data": {
            "text/html": [
              "<pre style=\"white-space:pre;overflow-x:auto;line-height:normal;font-family:Menlo,'DejaVu Sans Mono',consolas,'Courier New',monospace\"><span style=\"font-weight: bold\"> Non-trainable params: </span><span style=\"color: #00af00; text-decoration-color: #00af00\">0</span> (0.00 B)\n",
              "</pre>\n"
            ],
            "text/plain": [
              "\u001b[1m Non-trainable params: \u001b[0m\u001b[38;5;34m0\u001b[0m (0.00 B)\n"
            ]
          },
          "metadata": {},
          "output_type": "display_data"
        }
      ],
      "source": [
        "modelo_c_c4 = crear_modelo3(SEQ_LENGTH, len(caracteres_indices), \"Caracter-Caracter\")\n",
        "modelo_c_c4.summary()"
      ]
    },
    {
      "cell_type": "code",
      "execution_count": null,
      "metadata": {
        "colab": {
          "base_uri": "https://localhost:8080/"
        },
        "id": "gNqDrhfKX8Ki",
        "outputId": "943c8b07-dbec-4619-8a18-9262281e32a6"
      },
      "outputs": [
        {
          "name": "stdout",
          "output_type": "stream",
          "text": [
            "Epoch 1/100\n",
            "\u001b[1m3907/3907\u001b[0m \u001b[32m━━━━━━━━━━━━━━━━━━━━\u001b[0m\u001b[37m\u001b[0m \u001b[1m44s\u001b[0m 10ms/step - loss: 2.1035\n",
            "Epoch 2/100\n",
            "\u001b[1m3907/3907\u001b[0m \u001b[32m━━━━━━━━━━━━━━━━━━━━\u001b[0m\u001b[37m\u001b[0m \u001b[1m81s\u001b[0m 11ms/step - loss: 1.5510\n",
            "Epoch 3/100\n",
            "\u001b[1m3907/3907\u001b[0m \u001b[32m━━━━━━━━━━━━━━━━━━━━\u001b[0m\u001b[37m\u001b[0m \u001b[1m41s\u001b[0m 10ms/step - loss: 1.4182\n",
            "Epoch 4/100\n",
            "\u001b[1m3907/3907\u001b[0m \u001b[32m━━━━━━━━━━━━━━━━━━━━\u001b[0m\u001b[37m\u001b[0m \u001b[1m41s\u001b[0m 10ms/step - loss: 1.3478\n",
            "Epoch 5/100\n",
            "\u001b[1m3907/3907\u001b[0m \u001b[32m━━━━━━━━━━━━━━━━━━━━\u001b[0m\u001b[37m\u001b[0m \u001b[1m41s\u001b[0m 10ms/step - loss: 1.3072\n",
            "Epoch 6/100\n",
            "\u001b[1m3907/3907\u001b[0m \u001b[32m━━━━━━━━━━━━━━━━━━━━\u001b[0m\u001b[37m\u001b[0m \u001b[1m82s\u001b[0m 11ms/step - loss: 1.2738\n",
            "Epoch 7/100\n",
            "\u001b[1m3907/3907\u001b[0m \u001b[32m━━━━━━━━━━━━━━━━━━━━\u001b[0m\u001b[37m\u001b[0m \u001b[1m83s\u001b[0m 11ms/step - loss: 1.2478\n",
            "Epoch 8/100\n",
            "\u001b[1m3907/3907\u001b[0m \u001b[32m━━━━━━━━━━━━━━━━━━━━\u001b[0m\u001b[37m\u001b[0m \u001b[1m81s\u001b[0m 10ms/step - loss: 1.2241\n",
            "Epoch 9/100\n",
            "\u001b[1m3907/3907\u001b[0m \u001b[32m━━━━━━━━━━━━━━━━━━━━\u001b[0m\u001b[37m\u001b[0m \u001b[1m41s\u001b[0m 10ms/step - loss: 1.2083\n",
            "Epoch 10/100\n",
            "\u001b[1m3907/3907\u001b[0m \u001b[32m━━━━━━━━━━━━━━━━━━━━\u001b[0m\u001b[37m\u001b[0m \u001b[1m42s\u001b[0m 11ms/step - loss: 1.1890\n",
            "Epoch 11/100\n",
            "\u001b[1m3907/3907\u001b[0m \u001b[32m━━━━━━━━━━━━━━━━━━━━\u001b[0m\u001b[37m\u001b[0m \u001b[1m81s\u001b[0m 11ms/step - loss: 1.1782\n",
            "Epoch 12/100\n",
            "\u001b[1m3907/3907\u001b[0m \u001b[32m━━━━━━━━━━━━━━━━━━━━\u001b[0m\u001b[37m\u001b[0m \u001b[1m81s\u001b[0m 10ms/step - loss: 1.1649\n",
            "Epoch 13/100\n",
            "\u001b[1m3907/3907\u001b[0m \u001b[32m━━━━━━━━━━━━━━━━━━━━\u001b[0m\u001b[37m\u001b[0m \u001b[1m41s\u001b[0m 10ms/step - loss: 1.1530\n",
            "Epoch 14/100\n",
            "\u001b[1m3907/3907\u001b[0m \u001b[32m━━━━━━━━━━━━━━━━━━━━\u001b[0m\u001b[37m\u001b[0m \u001b[1m82s\u001b[0m 11ms/step - loss: 1.1437\n",
            "Epoch 15/100\n",
            "\u001b[1m3907/3907\u001b[0m \u001b[32m━━━━━━━━━━━━━━━━━━━━\u001b[0m\u001b[37m\u001b[0m \u001b[1m82s\u001b[0m 11ms/step - loss: 1.1293\n",
            "Epoch 16/100\n",
            "\u001b[1m3907/3907\u001b[0m \u001b[32m━━━━━━━━━━━━━━━━━━━━\u001b[0m\u001b[37m\u001b[0m \u001b[1m82s\u001b[0m 10ms/step - loss: 1.1188\n",
            "Epoch 17/100\n",
            "\u001b[1m3907/3907\u001b[0m \u001b[32m━━━━━━━━━━━━━━━━━━━━\u001b[0m\u001b[37m\u001b[0m \u001b[1m41s\u001b[0m 11ms/step - loss: 1.1162\n",
            "Epoch 18/100\n",
            "\u001b[1m3907/3907\u001b[0m \u001b[32m━━━━━━━━━━━━━━━━━━━━\u001b[0m\u001b[37m\u001b[0m \u001b[1m41s\u001b[0m 10ms/step - loss: 1.1039\n",
            "Epoch 19/100\n",
            "\u001b[1m3907/3907\u001b[0m \u001b[32m━━━━━━━━━━━━━━━━━━━━\u001b[0m\u001b[37m\u001b[0m \u001b[1m42s\u001b[0m 11ms/step - loss: 1.0981\n",
            "Epoch 20/100\n",
            "\u001b[1m3907/3907\u001b[0m \u001b[32m━━━━━━━━━━━━━━━━━━━━\u001b[0m\u001b[37m\u001b[0m \u001b[1m82s\u001b[0m 11ms/step - loss: 1.0890\n",
            "Epoch 21/100\n",
            "\u001b[1m3907/3907\u001b[0m \u001b[32m━━━━━━━━━━━━━━━━━━━━\u001b[0m\u001b[37m\u001b[0m \u001b[1m42s\u001b[0m 11ms/step - loss: 1.0815\n",
            "Epoch 22/100\n",
            "\u001b[1m3907/3907\u001b[0m \u001b[32m━━━━━━━━━━━━━━━━━━━━\u001b[0m\u001b[37m\u001b[0m \u001b[1m81s\u001b[0m 10ms/step - loss: 1.0743\n",
            "Epoch 23/100\n",
            "\u001b[1m3907/3907\u001b[0m \u001b[32m━━━━━━━━━━━━━━━━━━━━\u001b[0m\u001b[37m\u001b[0m \u001b[1m41s\u001b[0m 10ms/step - loss: 1.0673\n",
            "Epoch 24/100\n",
            "\u001b[1m3907/3907\u001b[0m \u001b[32m━━━━━━━━━━━━━━━━━━━━\u001b[0m\u001b[37m\u001b[0m \u001b[1m41s\u001b[0m 11ms/step - loss: 1.0609\n",
            "Epoch 25/100\n",
            "\u001b[1m3907/3907\u001b[0m \u001b[32m━━━━━━━━━━━━━━━━━━━━\u001b[0m\u001b[37m\u001b[0m \u001b[1m82s\u001b[0m 11ms/step - loss: 1.0572\n",
            "Epoch 26/100\n",
            "\u001b[1m3907/3907\u001b[0m \u001b[32m━━━━━━━━━━━━━━━━━━━━\u001b[0m\u001b[37m\u001b[0m \u001b[1m83s\u001b[0m 11ms/step - loss: 1.0516\n",
            "Epoch 27/100\n",
            "\u001b[1m3907/3907\u001b[0m \u001b[32m━━━━━━━━━━━━━━━━━━━━\u001b[0m\u001b[37m\u001b[0m \u001b[1m81s\u001b[0m 11ms/step - loss: 1.0417\n",
            "Epoch 28/100\n",
            "\u001b[1m3907/3907\u001b[0m \u001b[32m━━━━━━━━━━━━━━━━━━━━\u001b[0m\u001b[37m\u001b[0m \u001b[1m82s\u001b[0m 11ms/step - loss: 1.0369\n",
            "Epoch 29/100\n",
            "\u001b[1m3907/3907\u001b[0m \u001b[32m━━━━━━━━━━━━━━━━━━━━\u001b[0m\u001b[37m\u001b[0m \u001b[1m82s\u001b[0m 11ms/step - loss: 1.0320\n",
            "Epoch 30/100\n",
            "\u001b[1m3907/3907\u001b[0m \u001b[32m━━━━━━━━━━━━━━━━━━━━\u001b[0m\u001b[37m\u001b[0m \u001b[1m82s\u001b[0m 11ms/step - loss: 1.0287\n",
            "Epoch 31/100\n",
            "\u001b[1m3907/3907\u001b[0m \u001b[32m━━━━━━━━━━━━━━━━━━━━\u001b[0m\u001b[37m\u001b[0m \u001b[1m81s\u001b[0m 11ms/step - loss: 1.0226\n",
            "Epoch 32/100\n",
            "\u001b[1m3907/3907\u001b[0m \u001b[32m━━━━━━━━━━━━━━━━━━━━\u001b[0m\u001b[37m\u001b[0m \u001b[1m82s\u001b[0m 11ms/step - loss: 1.0223\n",
            "Epoch 33/100\n",
            "\u001b[1m3907/3907\u001b[0m \u001b[32m━━━━━━━━━━━━━━━━━━━━\u001b[0m\u001b[37m\u001b[0m \u001b[1m82s\u001b[0m 11ms/step - loss: 1.0185\n",
            "Epoch 34/100\n",
            "\u001b[1m3907/3907\u001b[0m \u001b[32m━━━━━━━━━━━━━━━━━━━━\u001b[0m\u001b[37m\u001b[0m \u001b[1m41s\u001b[0m 11ms/step - loss: 1.0116\n",
            "Epoch 35/100\n",
            "\u001b[1m3907/3907\u001b[0m \u001b[32m━━━━━━━━━━━━━━━━━━━━\u001b[0m\u001b[37m\u001b[0m \u001b[1m41s\u001b[0m 10ms/step - loss: 1.0079\n",
            "Epoch 36/100\n",
            "\u001b[1m3907/3907\u001b[0m \u001b[32m━━━━━━━━━━━━━━━━━━━━\u001b[0m\u001b[37m\u001b[0m \u001b[1m82s\u001b[0m 11ms/step - loss: 1.0039\n",
            "Epoch 37/100\n",
            "\u001b[1m3907/3907\u001b[0m \u001b[32m━━━━━━━━━━━━━━━━━━━━\u001b[0m\u001b[37m\u001b[0m \u001b[1m82s\u001b[0m 11ms/step - loss: 1.0021\n",
            "Epoch 38/100\n",
            "\u001b[1m3907/3907\u001b[0m \u001b[32m━━━━━━━━━━━━━━━━━━━━\u001b[0m\u001b[37m\u001b[0m \u001b[1m82s\u001b[0m 11ms/step - loss: 0.9985\n",
            "Epoch 39/100\n",
            "\u001b[1m3907/3907\u001b[0m \u001b[32m━━━━━━━━━━━━━━━━━━━━\u001b[0m\u001b[37m\u001b[0m \u001b[1m82s\u001b[0m 11ms/step - loss: 0.9913\n",
            "Epoch 40/100\n",
            "\u001b[1m3907/3907\u001b[0m \u001b[32m━━━━━━━━━━━━━━━━━━━━\u001b[0m\u001b[37m\u001b[0m \u001b[1m82s\u001b[0m 11ms/step - loss: 0.9914\n",
            "Epoch 41/100\n",
            "\u001b[1m3907/3907\u001b[0m \u001b[32m━━━━━━━━━━━━━━━━━━━━\u001b[0m\u001b[37m\u001b[0m \u001b[1m82s\u001b[0m 11ms/step - loss: 0.9910\n",
            "Epoch 42/100\n",
            "\u001b[1m3907/3907\u001b[0m \u001b[32m━━━━━━━━━━━━━━━━━━━━\u001b[0m\u001b[37m\u001b[0m \u001b[1m42s\u001b[0m 11ms/step - loss: 0.9853\n",
            "Epoch 43/100\n",
            "\u001b[1m3907/3907\u001b[0m \u001b[32m━━━━━━━━━━━━━━━━━━━━\u001b[0m\u001b[37m\u001b[0m \u001b[1m82s\u001b[0m 11ms/step - loss: 0.9838\n",
            "Epoch 44/100\n",
            "\u001b[1m3907/3907\u001b[0m \u001b[32m━━━━━━━━━━━━━━━━━━━━\u001b[0m\u001b[37m\u001b[0m \u001b[1m41s\u001b[0m 11ms/step - loss: 0.9782\n",
            "Epoch 45/100\n",
            "\u001b[1m3907/3907\u001b[0m \u001b[32m━━━━━━━━━━━━━━━━━━━━\u001b[0m\u001b[37m\u001b[0m \u001b[1m82s\u001b[0m 11ms/step - loss: 0.9755\n",
            "Epoch 46/100\n",
            "\u001b[1m3907/3907\u001b[0m \u001b[32m━━━━━━━━━━━━━━━━━━━━\u001b[0m\u001b[37m\u001b[0m \u001b[1m83s\u001b[0m 11ms/step - loss: 0.9723\n",
            "Epoch 47/100\n",
            "\u001b[1m3907/3907\u001b[0m \u001b[32m━━━━━━━━━━━━━━━━━━━━\u001b[0m\u001b[37m\u001b[0m \u001b[1m81s\u001b[0m 11ms/step - loss: 0.9747\n",
            "Epoch 48/100\n",
            "\u001b[1m3907/3907\u001b[0m \u001b[32m━━━━━━━━━━━━━━━━━━━━\u001b[0m\u001b[37m\u001b[0m \u001b[1m82s\u001b[0m 11ms/step - loss: 0.9688\n",
            "Epoch 49/100\n",
            "\u001b[1m3907/3907\u001b[0m \u001b[32m━━━━━━━━━━━━━━━━━━━━\u001b[0m\u001b[37m\u001b[0m \u001b[1m82s\u001b[0m 11ms/step - loss: 0.9679\n",
            "Epoch 50/100\n",
            "\u001b[1m3907/3907\u001b[0m \u001b[32m━━━━━━━━━━━━━━━━━━━━\u001b[0m\u001b[37m\u001b[0m \u001b[1m82s\u001b[0m 11ms/step - loss: 0.9622\n",
            "Epoch 51/100\n",
            "\u001b[1m3907/3907\u001b[0m \u001b[32m━━━━━━━━━━━━━━━━━━━━\u001b[0m\u001b[37m\u001b[0m \u001b[1m82s\u001b[0m 10ms/step - loss: 0.9568\n",
            "Epoch 52/100\n",
            "\u001b[1m3907/3907\u001b[0m \u001b[32m━━━━━━━━━━━━━━━━━━━━\u001b[0m\u001b[37m\u001b[0m \u001b[1m82s\u001b[0m 11ms/step - loss: 0.9587\n",
            "Epoch 53/100\n",
            "\u001b[1m3907/3907\u001b[0m \u001b[32m━━━━━━━━━━━━━━━━━━━━\u001b[0m\u001b[37m\u001b[0m \u001b[1m41s\u001b[0m 11ms/step - loss: 0.9567\n",
            "Epoch 54/100\n",
            "\u001b[1m3907/3907\u001b[0m \u001b[32m━━━━━━━━━━━━━━━━━━━━\u001b[0m\u001b[37m\u001b[0m \u001b[1m82s\u001b[0m 11ms/step - loss: 0.9525\n",
            "Epoch 55/100\n",
            "\u001b[1m3907/3907\u001b[0m \u001b[32m━━━━━━━━━━━━━━━━━━━━\u001b[0m\u001b[37m\u001b[0m \u001b[1m81s\u001b[0m 11ms/step - loss: 0.9517\n",
            "Epoch 56/100\n",
            "\u001b[1m3907/3907\u001b[0m \u001b[32m━━━━━━━━━━━━━━━━━━━━\u001b[0m\u001b[37m\u001b[0m \u001b[1m83s\u001b[0m 11ms/step - loss: 0.9501\n",
            "Epoch 57/100\n",
            "\u001b[1m3907/3907\u001b[0m \u001b[32m━━━━━━━━━━━━━━━━━━━━\u001b[0m\u001b[37m\u001b[0m \u001b[1m81s\u001b[0m 10ms/step - loss: 0.9448\n",
            "Epoch 58/100\n",
            "\u001b[1m3907/3907\u001b[0m \u001b[32m━━━━━━━━━━━━━━━━━━━━\u001b[0m\u001b[37m\u001b[0m \u001b[1m42s\u001b[0m 11ms/step - loss: 0.9474\n",
            "Epoch 59/100\n",
            "\u001b[1m3907/3907\u001b[0m \u001b[32m━━━━━━━━━━━━━━━━━━━━\u001b[0m\u001b[37m\u001b[0m \u001b[1m82s\u001b[0m 11ms/step - loss: 0.9447\n",
            "Epoch 60/100\n",
            "\u001b[1m3907/3907\u001b[0m \u001b[32m━━━━━━━━━━━━━━━━━━━━\u001b[0m\u001b[37m\u001b[0m \u001b[1m82s\u001b[0m 11ms/step - loss: 0.9406\n",
            "Epoch 61/100\n",
            "\u001b[1m3907/3907\u001b[0m \u001b[32m━━━━━━━━━━━━━━━━━━━━\u001b[0m\u001b[37m\u001b[0m \u001b[1m41s\u001b[0m 10ms/step - loss: 0.9373\n",
            "Epoch 62/100\n",
            "\u001b[1m3907/3907\u001b[0m \u001b[32m━━━━━━━━━━━━━━━━━━━━\u001b[0m\u001b[37m\u001b[0m \u001b[1m82s\u001b[0m 11ms/step - loss: 0.9378\n",
            "Epoch 63/100\n",
            "\u001b[1m3907/3907\u001b[0m \u001b[32m━━━━━━━━━━━━━━━━━━━━\u001b[0m\u001b[37m\u001b[0m \u001b[1m82s\u001b[0m 11ms/step - loss: 0.9363\n",
            "Epoch 64/100\n",
            "\u001b[1m3907/3907\u001b[0m \u001b[32m━━━━━━━━━━━━━━━━━━━━\u001b[0m\u001b[37m\u001b[0m \u001b[1m82s\u001b[0m 11ms/step - loss: 0.9322\n",
            "Epoch 65/100\n",
            "\u001b[1m3907/3907\u001b[0m \u001b[32m━━━━━━━━━━━━━━━━━━━━\u001b[0m\u001b[37m\u001b[0m \u001b[1m82s\u001b[0m 11ms/step - loss: 0.9385\n",
            "Epoch 66/100\n",
            "\u001b[1m3907/3907\u001b[0m \u001b[32m━━━━━━━━━━━━━━━━━━━━\u001b[0m\u001b[37m\u001b[0m \u001b[1m82s\u001b[0m 11ms/step - loss: 0.9288\n",
            "Epoch 67/100\n",
            "\u001b[1m3907/3907\u001b[0m \u001b[32m━━━━━━━━━━━━━━━━━━━━\u001b[0m\u001b[37m\u001b[0m \u001b[1m81s\u001b[0m 11ms/step - loss: 0.9331\n",
            "Epoch 68/100\n",
            "\u001b[1m3907/3907\u001b[0m \u001b[32m━━━━━━━━━━━━━━━━━━━━\u001b[0m\u001b[37m\u001b[0m \u001b[1m42s\u001b[0m 11ms/step - loss: 0.9320\n",
            "Epoch 69/100\n",
            "\u001b[1m3907/3907\u001b[0m \u001b[32m━━━━━━━━━━━━━━━━━━━━\u001b[0m\u001b[37m\u001b[0m \u001b[1m82s\u001b[0m 11ms/step - loss: 0.9288\n",
            "Epoch 70/100\n",
            "\u001b[1m3907/3907\u001b[0m \u001b[32m━━━━━━━━━━━━━━━━━━━━\u001b[0m\u001b[37m\u001b[0m \u001b[1m82s\u001b[0m 11ms/step - loss: 0.9256\n",
            "Epoch 71/100\n",
            "\u001b[1m3907/3907\u001b[0m \u001b[32m━━━━━━━━━━━━━━━━━━━━\u001b[0m\u001b[37m\u001b[0m \u001b[1m82s\u001b[0m 11ms/step - loss: 0.9242\n",
            "Epoch 72/100\n",
            "\u001b[1m3907/3907\u001b[0m \u001b[32m━━━━━━━━━━━━━━━━━━━━\u001b[0m\u001b[37m\u001b[0m \u001b[1m82s\u001b[0m 11ms/step - loss: 0.9217\n",
            "Epoch 73/100\n",
            "\u001b[1m3907/3907\u001b[0m \u001b[32m━━━━━━━━━━━━━━━━━━━━\u001b[0m\u001b[37m\u001b[0m \u001b[1m82s\u001b[0m 11ms/step - loss: 0.9198\n",
            "Epoch 74/100\n",
            "\u001b[1m3907/3907\u001b[0m \u001b[32m━━━━━━━━━━━━━━━━━━━━\u001b[0m\u001b[37m\u001b[0m \u001b[1m42s\u001b[0m 11ms/step - loss: 0.9217\n",
            "Epoch 75/100\n",
            "\u001b[1m3907/3907\u001b[0m \u001b[32m━━━━━━━━━━━━━━━━━━━━\u001b[0m\u001b[37m\u001b[0m \u001b[1m82s\u001b[0m 11ms/step - loss: 0.9166\n",
            "Epoch 76/100\n",
            "\u001b[1m3907/3907\u001b[0m \u001b[32m━━━━━━━━━━━━━━━━━━━━\u001b[0m\u001b[37m\u001b[0m \u001b[1m82s\u001b[0m 11ms/step - loss: 0.9122\n",
            "Epoch 77/100\n",
            "\u001b[1m3907/3907\u001b[0m \u001b[32m━━━━━━━━━━━━━━━━━━━━\u001b[0m\u001b[37m\u001b[0m \u001b[1m82s\u001b[0m 11ms/step - loss: 0.9159\n",
            "Epoch 78/100\n",
            "\u001b[1m3907/3907\u001b[0m \u001b[32m━━━━━━━━━━━━━━━━━━━━\u001b[0m\u001b[37m\u001b[0m \u001b[1m82s\u001b[0m 11ms/step - loss: 0.9174\n",
            "Epoch 79/100\n",
            "\u001b[1m3907/3907\u001b[0m \u001b[32m━━━━━━━━━━━━━━━━━━━━\u001b[0m\u001b[37m\u001b[0m \u001b[1m82s\u001b[0m 11ms/step - loss: 0.9125\n",
            "Epoch 80/100\n",
            "\u001b[1m3907/3907\u001b[0m \u001b[32m━━━━━━━━━━━━━━━━━━━━\u001b[0m\u001b[37m\u001b[0m \u001b[1m82s\u001b[0m 11ms/step - loss: 0.9100\n",
            "Epoch 81/100\n",
            "\u001b[1m3907/3907\u001b[0m \u001b[32m━━━━━━━━━━━━━━━━━━━━\u001b[0m\u001b[37m\u001b[0m \u001b[1m82s\u001b[0m 11ms/step - loss: 0.9094\n",
            "Epoch 82/100\n",
            "\u001b[1m3907/3907\u001b[0m \u001b[32m━━━━━━━━━━━━━━━━━━━━\u001b[0m\u001b[37m\u001b[0m \u001b[1m82s\u001b[0m 11ms/step - loss: 0.9061\n",
            "Epoch 83/100\n",
            "\u001b[1m3907/3907\u001b[0m \u001b[32m━━━━━━━━━━━━━━━━━━━━\u001b[0m\u001b[37m\u001b[0m \u001b[1m81s\u001b[0m 11ms/step - loss: 0.9086\n",
            "Epoch 84/100\n",
            "\u001b[1m3907/3907\u001b[0m \u001b[32m━━━━━━━━━━━━━━━━━━━━\u001b[0m\u001b[37m\u001b[0m \u001b[1m82s\u001b[0m 11ms/step - loss: 0.9050\n",
            "Epoch 85/100\n",
            "\u001b[1m3907/3907\u001b[0m \u001b[32m━━━━━━━━━━━━━━━━━━━━\u001b[0m\u001b[37m\u001b[0m \u001b[1m82s\u001b[0m 11ms/step - loss: 0.9037\n",
            "Epoch 86/100\n",
            "\u001b[1m3907/3907\u001b[0m \u001b[32m━━━━━━━━━━━━━━━━━━━━\u001b[0m\u001b[37m\u001b[0m \u001b[1m42s\u001b[0m 11ms/step - loss: 0.9061\n",
            "Epoch 87/100\n",
            "\u001b[1m3907/3907\u001b[0m \u001b[32m━━━━━━━━━━━━━━━━━━━━\u001b[0m\u001b[37m\u001b[0m \u001b[1m82s\u001b[0m 11ms/step - loss: 0.9013\n",
            "Epoch 88/100\n",
            "\u001b[1m3907/3907\u001b[0m \u001b[32m━━━━━━━━━━━━━━━━━━━━\u001b[0m\u001b[37m\u001b[0m \u001b[1m82s\u001b[0m 11ms/step - loss: 0.8995\n",
            "Epoch 89/100\n",
            "\u001b[1m3907/3907\u001b[0m \u001b[32m━━━━━━━━━━━━━━━━━━━━\u001b[0m\u001b[37m\u001b[0m \u001b[1m82s\u001b[0m 11ms/step - loss: 0.8995\n",
            "Epoch 90/100\n",
            "\u001b[1m3907/3907\u001b[0m \u001b[32m━━━━━━━━━━━━━━━━━━━━\u001b[0m\u001b[37m\u001b[0m \u001b[1m82s\u001b[0m 11ms/step - loss: 0.8993\n",
            "Epoch 91/100\n",
            "\u001b[1m3907/3907\u001b[0m \u001b[32m━━━━━━━━━━━━━━━━━━━━\u001b[0m\u001b[37m\u001b[0m \u001b[1m82s\u001b[0m 11ms/step - loss: 0.8997\n",
            "Epoch 92/100\n",
            "\u001b[1m3907/3907\u001b[0m \u001b[32m━━━━━━━━━━━━━━━━━━━━\u001b[0m\u001b[37m\u001b[0m \u001b[1m82s\u001b[0m 11ms/step - loss: 0.8984\n",
            "Epoch 93/100\n",
            "\u001b[1m3907/3907\u001b[0m \u001b[32m━━━━━━━━━━━━━━━━━━━━\u001b[0m\u001b[37m\u001b[0m \u001b[1m41s\u001b[0m 11ms/step - loss: 0.8961\n",
            "Epoch 94/100\n",
            "\u001b[1m3907/3907\u001b[0m \u001b[32m━━━━━━━━━━━━━━━━━━━━\u001b[0m\u001b[37m\u001b[0m \u001b[1m41s\u001b[0m 11ms/step - loss: 0.8955\n",
            "Epoch 95/100\n",
            "\u001b[1m3907/3907\u001b[0m \u001b[32m━━━━━━━━━━━━━━━━━━━━\u001b[0m\u001b[37m\u001b[0m \u001b[1m42s\u001b[0m 11ms/step - loss: 0.8940\n",
            "Epoch 96/100\n",
            "\u001b[1m3907/3907\u001b[0m \u001b[32m━━━━━━━━━━━━━━━━━━━━\u001b[0m\u001b[37m\u001b[0m \u001b[1m41s\u001b[0m 11ms/step - loss: 0.8954\n",
            "Epoch 97/100\n",
            "\u001b[1m3907/3907\u001b[0m \u001b[32m━━━━━━━━━━━━━━━━━━━━\u001b[0m\u001b[37m\u001b[0m \u001b[1m82s\u001b[0m 11ms/step - loss: 0.8936\n",
            "Epoch 98/100\n",
            "\u001b[1m3907/3907\u001b[0m \u001b[32m━━━━━━━━━━━━━━━━━━━━\u001b[0m\u001b[37m\u001b[0m \u001b[1m41s\u001b[0m 11ms/step - loss: 0.8913\n",
            "Epoch 99/100\n"
          ]
        }
      ],
      "source": [
        "historial_cc4 = modelo_c_c4.fit(X, y, batch_size=128, epochs=100)"
      ]
    },
    {
      "cell_type": "code",
      "execution_count": null,
      "metadata": {
        "id": "8YeY2rzwYS5X"
      },
      "outputs": [],
      "source": [
        "graficar_historial_entrenamiento(historial_cc3)"
      ]
    },
    {
      "cell_type": "code",
      "execution_count": null,
      "metadata": {
        "id": "T1I1ZzIPYTou"
      },
      "outputs": [],
      "source": [
        "predicciones(modelo_c_c3, caracteres_indices, idx2char, SEQ_LENGTH)"
      ]
    }
  ],
  "metadata": {
    "accelerator": "GPU",
    "colab": {
      "gpuType": "T4",
      "provenance": [],
      "toc_visible": true,
      "include_colab_link": true
    },
    "kernelspec": {
      "display_name": "Python 3",
      "name": "python3"
    },
    "language_info": {
      "name": "python",
      "version": "3.13.3"
    }
  },
  "nbformat": 4,
  "nbformat_minor": 0
}